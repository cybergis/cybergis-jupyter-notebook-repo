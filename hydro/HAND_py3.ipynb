{
 "cells": [
  {
   "cell_type": "markdown",
   "metadata": {
    "slideshow": {
     "slide_type": "slide"
    },
    "tags": [
     "title"
    ]
   },
   "source": [
    "# HAND and Flood Emergency Response\n",
    "\n",
    "This Jupyter notebook illustrates the HAND workflow and its use in example flood emergency scenarios. The study area is Onion Creek (HUC10 code 1209020504).\n",
    "\n",
    "This is also a demonstration of conducting geospatial anlysis with opensource toolkits (gdal) using an online Jupyter interface.\n",
    "\n",
    "Environment required: CyberGIS-Jupyter for Water"
   ]
  },
  {
   "cell_type": "markdown",
   "metadata": {
    "slideshow": {
     "slide_type": "subslide"
    },
    "tags": [
     "figure"
    ]
   },
   "source": [
    "![](https://camo.githubusercontent.com/b4a3f72e68690da6ee5726fe2f2d8711c9d314ce/68747470733a2f2f7765622e636f7272616c2e746163632e7574657861732e6564752f6e666965646174612f646f63732f68616e642d776f726b666c6f772e706e67)"
   ]
  },
  {
   "cell_type": "markdown",
   "metadata": {
    "slideshow": {
     "slide_type": "subslide"
    },
    "tags": [
     "instruction"
    ]
   },
   "source": [
    "- We use CyberGIS' accelerated TauDEM version for d8 and d$\\infty$ flow direction calculation.\n",
    "    >More about [TauDEM](http://hydrology.usu.edu/taudem/taudem5/index.html)\n",
    "\n",
    "\n",
    "- The USGS 3DEP Elevation dataset (a.k.a. National Elevation Dataset) is deployed on ROGER as a VRT raster.\n",
    "\n",
    "- The NHDPlus and associated water boundary dataset (WBD) are in Esri FileGDB format."
   ]
  },
  {
   "cell_type": "markdown",
   "metadata": {},
   "source": [
    "# Notebook Outline:\n",
    "- [Data preparation and pre-processing](#preparation)\n",
    "- [Workflow for computing HAND](#Workflow)\n",
    "    - [Find inlets](#Workflow)\n",
    "    - [Pitremove](#Pitremove)\n",
    "    - [Compute flow direction](#Direction)\n",
    "    - [Calculate HAND](#Hand)\n",
    "- [Application](#Application)  "
   ]
  },
  {
   "cell_type": "markdown",
   "metadata": {
    "slideshow": {
     "slide_type": "slide"
    },
    "tags": [
     "instruction"
    ]
   },
   "source": [
    "<a id='preparation'></a>\n",
    "# 1. Data preparation and pre-processing"
   ]
  },
  {
   "cell_type": "code",
   "execution_count": null,
   "metadata": {},
   "outputs": [],
   "source": [
    "# Program file path\n",
    "import os\n",
    "data_dir = '/home/jovyan/shared_data/data/onion-hand'\n",
    "    \n",
    "# Format and performance parameters\n",
    "np=4 #os.cpu_count()\n",
    "dsepsg=\"EPSG:4269\"\n",
    "bufferdist='0.2' "
   ]
  },
  {
   "cell_type": "markdown",
   "metadata": {
    "slideshow": {
     "slide_type": "subslide"
    }
   },
   "source": [
    "<img src=\"http://cybergis.cigi.uiuc.edu/images/v5.svg\" width=\"15\" style=\"float:left\"/>&nbsp;<span style=\"font-family:Times; font-size:1.2em\">\n",
    "Fetch the hands-on example data, from [*GIS in Water Resources*](http://hydrology.usu.edu/dtarb/giswr/2016/) (USU CEE6440, UT Austin CE 394K.3)"
   ]
  },
  {
   "cell_type": "code",
   "execution_count": null,
   "metadata": {},
   "outputs": [],
   "source": [
    "!cp -r {data_dir} data"
   ]
  },
  {
   "cell_type": "markdown",
   "metadata": {
    "slideshow": {
     "slide_type": "-"
    }
   },
   "source": [
    "<img src=\"http://cybergis.cigi.uiuc.edu/images/v5.svg\" width=\"15\" style=\"float:left\"/>&nbsp;<span style=\"font-family:Times; font-size:1.2em\">\n",
    "The study area is Onion Creek in Texas. This watershed is a HUC10 unit with code 1209020504.\n",
    "<!--In this demo notebook, we directly use flowline shp file for the input DEM.<br>\n",
    "Extracting flowlines from NHDPlus is left as an exercise for you to get familiar with GDAL OGR utility. <br>-->\n",
    " <!--You can get the WBD for this unit and conduct a spatial query on NHDPlus to get the flowlines.--></span>"
   ]
  },
  {
   "cell_type": "code",
   "execution_count": null,
   "metadata": {},
   "outputs": [],
   "source": [
    "!ogrinfo data/OnionHand.gdb"
   ]
  },
  {
   "cell_type": "code",
   "execution_count": null,
   "metadata": {
    "scrolled": true,
    "slideshow": {
     "slide_type": "subslide"
    }
   },
   "outputs": [],
   "source": [
    "!gdalinfo data/Onion3.tif"
   ]
  },
  {
   "cell_type": "markdown",
   "metadata": {},
   "source": [
    ">More about [ogrinfo](http://www.gdal.org/ogrinfo.html) and [gdalinfo](http://www.gdal.org/gdalinfo.html)"
   ]
  },
  {
   "cell_type": "markdown",
   "metadata": {
    "slideshow": {
     "slide_type": "subslide"
    }
   },
   "source": [
    "<img src=\"http://cybergis.cigi.uiuc.edu/images/v5.svg\" width=\"15\" style=\"float:left\"/>&nbsp;<span style=\"font-family:Times; font-size:1.2em\">\n",
    "To visualize a GeoTIFF, we need to:\n",
    " - Render color from values.\n",
    " - Make tiles (pyramids) from the colored image."
   ]
  },
  {
   "cell_type": "code",
   "execution_count": null,
   "metadata": {},
   "outputs": [],
   "source": [
    "# Colorize using hillshade\n",
    "!gdaldem hillshade data/Onion3.tif Onion3-hillshade.tif"
   ]
  },
  {
   "cell_type": "code",
   "execution_count": null,
   "metadata": {},
   "outputs": [],
   "source": [
    "# Make tiles with gdal2tiles (this is needed for visualization)\n",
    "!gdal2tiles.py -t \"Onion Creek DEM\" -e -z 9-14 -a 0,0,0 -s epsg:4326\\\n",
    "    -r bilinear Onion3-hillshade.tif Onion3-hillshade "
   ]
  },
  {
   "cell_type": "markdown",
   "metadata": {},
   "source": [
    ">More about [gdaldem](http://www.gdal.org/gdaldem.html) and [gdal2tiles.py](http://www.gdal.org/gdal2tiles.html)"
   ]
  },
  {
   "cell_type": "markdown",
   "metadata": {
    "slideshow": {
     "slide_type": "subslide"
    }
   },
   "source": [
    "<img src=\"http://cybergis.cigi.uiuc.edu/images/v5.svg\" width=\"15\" style=\"float:left\"/>&nbsp;<span style=\"font-family:Times; font-size:1.2em\">\n",
    "To visualize a Shapefile, we only need to convert it to GeoJson"
   ]
  },
  {
   "cell_type": "code",
   "execution_count": null,
   "metadata": {},
   "outputs": [],
   "source": [
    "# Extract flowline.shp from GeoDatabase (which will be used later)\n",
    "!ogr2ogr -f \"ESRI Shapefile\" flowline.shp data/OnionHand.gdb NHDFlowline 2>/dev/null"
   ]
  },
  {
   "cell_type": "code",
   "execution_count": null,
   "metadata": {},
   "outputs": [],
   "source": [
    "# Convert the Shapefile to GeoJson for visualization\n",
    "!ogr2ogr -f geojson flowline.json flowline.shp"
   ]
  },
  {
   "cell_type": "markdown",
   "metadata": {},
   "source": [
    ">More about [ogr2ogr](http://www.gdal.org/ogr2ogr.html)"
   ]
  },
  {
   "cell_type": "code",
   "execution_count": null,
   "metadata": {
    "scrolled": false,
    "slideshow": {
     "slide_type": "subslide"
    }
   },
   "outputs": [],
   "source": [
    "from cybergis import Floret\n",
    "Floret('Onion Creek DEM', 'input')\\\n",
    ".addTMSLayer('DEM','Onion3-hillshade')\\\n",
    ".addGeoJson('Flowline','flowline.json').display()"
   ]
  },
  {
   "cell_type": "markdown",
   "metadata": {
    "slideshow": {
     "slide_type": "slide"
    }
   },
   "source": [
    "<a id='Workflow'></a>\n",
    "# 2. Workflow for computing HAND\n",
    "\n",
    "\n",
    "## 2.1 Find inlets\n",
    "<img src=\"http://cybergis.cigi.uiuc.edu/images/v5.svg\" width=\"15\" style=\"float:left\"/>&nbsp;<span style=\"font-family:Times; font-size:1.2em\">\n",
    "Use the dangle operation to find channel heads (inlets) of streams. They will guide the DEM-based stream calculation.</span>"
   ]
  },
  {
   "cell_type": "code",
   "execution_count": null,
   "metadata": {},
   "outputs": [],
   "source": [
    "!find_inlets_mr -flow flowline.shp -dangle flow-inlets0.shp\n",
    "!ogr2ogr -t_srs \"EPSG:4269\" flow-inlets.shp flow-inlets0.shp"
   ]
  },
  {
   "cell_type": "code",
   "execution_count": null,
   "metadata": {},
   "outputs": [],
   "source": [
    "!ogr2ogr -f geojson flow-inlets.json flow-inlets.shp"
   ]
  },
  {
   "cell_type": "code",
   "execution_count": null,
   "metadata": {
    "scrolled": true,
    "slideshow": {
     "slide_type": "subslide"
    }
   },
   "outputs": [],
   "source": [
    "from cybergis import Floret\n",
    "Floret('Flow Inlets', 'inlet').addTMSLayer('DEM','Onion3-hillshade')\\\n",
    ".addGeoJson('Flowline', 'flowline.json')\\\n",
    ".addGeoJson('Inlets','flow-inlets.json')\\\n",
    ".display()"
   ]
  },
  {
   "cell_type": "markdown",
   "metadata": {
    "slideshow": {
     "slide_type": "subslide"
    }
   },
   "source": [
    "<img src=\"http://cybergis.cigi.uiuc.edu/images/v5.svg\" width=\"15\" style=\"float:left\"/>&nbsp;<span style=\"font-family:Times; font-size:1.2em\">\n",
    "Rasterize inlet points to the same spatial extent as the input DEM. The output is the weight grid.</span>"
   ]
  },
  {
   "cell_type": "code",
   "execution_count": null,
   "metadata": {},
   "outputs": [],
   "source": [
    "ls data/getRasterInfo.py"
   ]
  },
  {
   "cell_type": "code",
   "execution_count": null,
   "metadata": {},
   "outputs": [],
   "source": [
    "# Getting format info of the reference tif\n",
    "import sys, subprocess\n",
    "names='fsizeDEM colsDEM rowsDEM nodataDEM xmin ymin xmax ymax cellsize_resx cellsize_resy'.split()\n",
    "result = subprocess.run([sys.executable, \"data/getRasterInfo.py\", \"data/Onion3.tif\"], stdout=subprocess.PIPE)\n",
    "values = result.stdout.decode(\"utf-8\").split(\"\\n\")\n",
    "print(zip(names, values))\n",
    "for name,value in dict(zip(names,values)).items():\n",
    "    para='%s=\"%s\"'%(name,value)\n",
    "    print (para)\n",
    "    exec(para)"
   ]
  },
  {
   "cell_type": "code",
   "execution_count": null,
   "metadata": {
    "slideshow": {
     "slide_type": "-"
    }
   },
   "outputs": [],
   "source": [
    "!gdal_rasterize -ot Int16 -of GTiff -burn 1 -tr {cellsize_resx} {cellsize_resy} -te {xmin} {ymin} {xmax} {ymax} flow-inlets.shp weights.tif"
   ]
  },
  {
   "cell_type": "markdown",
   "metadata": {},
   "source": [
    ">More about [gdal_rasterize](http://www.gdal.org/gdal_rasterize.html)"
   ]
  },
  {
   "cell_type": "markdown",
   "metadata": {
    "slideshow": {
     "slide_type": "subslide"
    }
   },
   "source": [
    "<a id='Pitremove'></a>\n",
    "## 2.2 Pitremove\n",
    "\n",
    "<img src=\"http://cybergis.cigi.uiuc.edu/images/v5.svg\" width=\"15\" style=\"float:left\"/>&nbsp;<span style=\"font-family:Times; font-size:1.2em\">\n",
    "Taudem pitremove: hydro-condition the DEM"
   ]
  },
  {
   "cell_type": "code",
   "execution_count": null,
   "metadata": {},
   "outputs": [],
   "source": [
    "!mpirun -np {np} pitremove -z data/Onion3.tif -fel fel.tif"
   ]
  },
  {
   "cell_type": "markdown",
   "metadata": {
    "slideshow": {
     "slide_type": "subslide"
    }
   },
   "source": [
    "<a id='Direction'></a>\n",
    "## 2.3 Compute flow direction\n",
    "\n",
    "<img src=\"http://cybergis.cigi.uiuc.edu/images/v5.svg\" width=\"15\" style=\"float:left\"/>&nbsp;<span style=\"font-family:Times; font-size:1.2em\">\n",
    "Taudem d$\\infty$: calc flow routing info that is used later to find the nearest stream from each cell</span>"
   ]
  },
  {
   "cell_type": "code",
   "execution_count": null,
   "metadata": {
    "scrolled": true
   },
   "outputs": [],
   "source": [
    "!mpirun -np {np} dinfflowdir -fel fel.tif -ang ang.tif -slp slp.tif "
   ]
  },
  {
   "cell_type": "markdown",
   "metadata": {
    "slideshow": {
     "slide_type": "subslide"
    }
   },
   "source": [
    "<img src=\"http://cybergis.cigi.uiuc.edu/images/v5.svg\" width=\"15\" style=\"float:left\"/>&nbsp;<span style=\"font-family:Times; font-size:1.2em\">TauDEM d8: calc d8 flow directions for the computing of a stream grid weighted by the weight grid"
   ]
  },
  {
   "cell_type": "code",
   "execution_count": null,
   "metadata": {
    "scrolled": true
   },
   "outputs": [],
   "source": [
    "!mpirun -np {np} d8flowdir -fel fel.tif -p p.tif -sd8 sd8.tif"
   ]
  },
  {
   "cell_type": "markdown",
   "metadata": {
    "slideshow": {
     "slide_type": "subslide"
    }
   },
   "source": [
    "<img src=\"http://cybergis.cigi.uiuc.edu/images/v5.svg\" width=\"15\" style=\"float:left\"/>&nbsp;<span style=\"font-family:Times; font-size:1.2em\">TauDEM aread8: calc contributing area with the weight grid. i.e., only the contributing area starting from the channel heads denoted in the weight grid"
   ]
  },
  {
   "cell_type": "code",
   "execution_count": null,
   "metadata": {},
   "outputs": [],
   "source": [
    "!mpirun -np {np} aread8 -p p.tif -ad8 ssa.tif -wg weights.tif -nc "
   ]
  },
  {
   "cell_type": "markdown",
   "metadata": {
    "slideshow": {
     "slide_type": "subslide"
    }
   },
   "source": [
    "<img src=\"http://cybergis.cigi.uiuc.edu/images/v5.svg\" width=\"15\" style=\"float:left\"/>&nbsp;<span style=\"font-family:Times; font-size:1.2em\">From the contributing area, extract streams areas (cellvalue = 1)"
   ]
  },
  {
   "cell_type": "code",
   "execution_count": null,
   "metadata": {},
   "outputs": [],
   "source": [
    "!mpirun -np {np} threshold -ssa ssa.tif -src src.tif -thresh 1"
   ]
  },
  {
   "cell_type": "code",
   "execution_count": null,
   "metadata": {},
   "outputs": [],
   "source": [
    "!gdaldem color-relief src.tif data/src.clr src-color.tif -of GTiff -alpha -nearest_color_entry\n",
    "!gdal2tiles.py -e -z 9-14 -a 0,0,0 -s epsg:4326 -r bilinear src-color.tif src-color "
   ]
  },
  {
   "cell_type": "code",
   "execution_count": null,
   "metadata": {
    "slideshow": {
     "slide_type": "subslide"
    }
   },
   "outputs": [],
   "source": [
    "from cybergis import Floret\n",
    "Floret('DEM-Derived streamline','src')\\\n",
    ".addTMSLayer('Derived Streamline', 'src-color')\\\n",
    ".addGeoJson('Flowline','flowline.json').display()"
   ]
  },
  {
   "cell_type": "markdown",
   "metadata": {
    "slideshow": {
     "slide_type": "subslide"
    }
   },
   "source": [
    "<a id='Hand'></a>\n",
    "## 2.4 Calculate HAND\n",
    "\n",
    "<img src=\"http://cybergis.cigi.uiuc.edu/images/v5.svg\" width=\"15\" style=\"float:left\"/>&nbsp;<span style=\"font-family:Times; font-size:1.2em\">With the d$\\infty$ flowing routing and a stream grid that we know water flows on, calc HAND. We use vertical distance here; but horizontal distance or the combination can be used."
   ]
  },
  {
   "cell_type": "code",
   "execution_count": null,
   "metadata": {},
   "outputs": [],
   "source": [
    "!mpirun -np {np} dinfdistdown -fel fel.tif -ang ang.tif -src src.tif -dd hand.tif -m ave v"
   ]
  },
  {
   "cell_type": "code",
   "execution_count": null,
   "metadata": {
    "slideshow": {
     "slide_type": "subslide"
    }
   },
   "outputs": [],
   "source": [
    "# Colorization and tiling\n",
    "!rm -rf ang-color\n",
    "!gdaldem color-relief ang.tif data/ang.clr ang-color.tif -of GTiff -alpha\n",
    "!gdal2tiles.py -e -z 9-14 -a 0,0,0 -s epsg:4326 -r bilinear ang-color.tif ang-color "
   ]
  },
  {
   "cell_type": "code",
   "execution_count": null,
   "metadata": {
    "slideshow": {
     "slide_type": "subslide"
    }
   },
   "outputs": [],
   "source": [
    "from cybergis import Floret\n",
    "Floret('Dinf Distancedown','ang')\\\n",
    ".addTMSLayer('Dinf', 'ang-color')\\\n",
    ".addGeoJson('Flowline','flowline.json').display()"
   ]
  },
  {
   "cell_type": "code",
   "execution_count": null,
   "metadata": {
    "slideshow": {
     "slide_type": "subslide"
    }
   },
   "outputs": [],
   "source": [
    "# Colorization and tiling\n",
    "!gdaldem color-relief hand.tif data/HAND-blues.clr hand-color.tif -of GTiff -alpha\n",
    "!gdal2tiles.py -e -z 9-14 -a 0,0,0 -s epsg:4326 -r bilinear hand-color.tif hand-color "
   ]
  },
  {
   "cell_type": "code",
   "execution_count": null,
   "metadata": {
    "slideshow": {
     "slide_type": "subslide"
    }
   },
   "outputs": [],
   "source": [
    "from cybergis import Floret\n",
    "Floret('Onion Creek HAND', 'onion-hand')\\\n",
    ".addTMSLayer('DEM', 'Onion3-hillshade')\\\n",
    ".addTMSLayer('HAND', 'hand-color')\\\n",
    ".addGeoJson('Flowline', 'flowline.json')\\\n",
    ".display()"
   ]
  },
  {
   "cell_type": "markdown",
   "metadata": {
    "slideshow": {
     "slide_type": "slide"
    }
   },
   "source": [
    "<a id='Application'></a>\n",
    "# 3. Application\n",
    "<img src=\"http://cybergis.cigi.uiuc.edu/images/v5.svg\" width=\"15\" style=\"float:left\"/>&nbsp;<span style=\"font-family:Times; font-size:1.2em\">\n",
    "Whose homes will be flooded if a 5m flood take place?"
   ]
  },
  {
   "cell_type": "code",
   "execution_count": null,
   "metadata": {},
   "outputs": [],
   "source": [
    "# Filtering the HAND tif with threshold value\n",
    "!gdal_calc.py -A hand.tif --outfile=depth.tif --calc=\"A<=5\""
   ]
  },
  {
   "cell_type": "code",
   "execution_count": null,
   "metadata": {},
   "outputs": [],
   "source": [
    "# Convert the result into polygons\n",
    "!gdal_polygonize.py depth.tif depth.shp # ed Becky"
   ]
  },
  {
   "cell_type": "markdown",
   "metadata": {},
   "source": [
    ">More about [gdal_calc.py](http://www.gdal.org/gdal_calc.py.html) and [gdal_polygonize.py](http://www.gdal.org/gdal_polygonize.html)"
   ]
  },
  {
   "cell_type": "code",
   "execution_count": null,
   "metadata": {
    "scrolled": true,
    "slideshow": {
     "slide_type": "subslide"
    }
   },
   "outputs": [],
   "source": [
    "!ogrinfo -al -so depth.shp"
   ]
  },
  {
   "cell_type": "code",
   "execution_count": null,
   "metadata": {},
   "outputs": [],
   "source": [
    "# Filter the target areas from background\n",
    "!ogr2ogr filtered_depth.shp depth.shp -where \"DN=1\""
   ]
  },
  {
   "cell_type": "code",
   "execution_count": null,
   "metadata": {},
   "outputs": [],
   "source": [
    "# Convert the result to a GeoJson\n",
    "!ogr2ogr -f geojson filtered_depth.json filtered_depth.shp"
   ]
  },
  {
   "cell_type": "code",
   "execution_count": null,
   "metadata": {},
   "outputs": [],
   "source": [
    "# The catchment of interest and the addressPoints in that catchment\n",
    "!ogr2ogr -f geojson catchment.json data/catchment.shp\n",
    "!ogr2ogr -f geojson addressPoints.json data/addressPoints.shp"
   ]
  },
  {
   "cell_type": "code",
   "execution_count": null,
   "metadata": {
    "slideshow": {
     "slide_type": "subslide"
    }
   },
   "outputs": [],
   "source": [
    "from cybergis import Floret\n",
    "m = Floret('Catchment addresses and 5m-flood', '5m')\n",
    "m.addTMSLayer('HAND', 'hand-color')\n",
    "m.addGeoJson('Vunerable Areas', 'filtered_depth.json')\n",
    "m.addGeoJson('Catchment', 'catchment.json')\n",
    "m.addGeoJson('Address Points', 'addressPoints.json')\n",
    "m.display()"
   ]
  },
  {
   "cell_type": "code",
   "execution_count": null,
   "metadata": {},
   "outputs": [],
   "source": [
    "from cybergis import Editor\n",
    "area = Editor('filtered_depth.shp')\n",
    "addr = Editor('data/addressPoints.shp')\n",
    "result=[]\n",
    "for i in range(addr.lens):\n",
    "    if -1 != area.index_of_first_feature_contains_point(*addr.shape(i).points[0]):\n",
    "        result.append(i)\n",
    "ans=addr.subshp(result)\n",
    "ans.save('vunerableAddr')\n",
    "!ogr2ogr -f geojson vunerableAddr.json vunerableAddr.shp"
   ]
  },
  {
   "cell_type": "code",
   "execution_count": null,
   "metadata": {},
   "outputs": [],
   "source": [
    "from cybergis import Floret\n",
    "m = Floret('Flooded addresses', 'flooded')\n",
    "m.addTMSLayer('HAND', 'hand-color')\n",
    "m.addGeoJson('Vunerable Areas', 'filtered_depth.json')\n",
    "m.addGeoJson('Catchment', 'catchment.json')\n",
    "m.addGeoJson('Vunerable Addresses', 'vunerableAddr.json')\n",
    "m.display()"
   ]
  },
  {
   "cell_type": "markdown",
   "metadata": {
    "slideshow": {
     "slide_type": "slide"
    }
   },
   "source": [
    "# Congratulations on reaching the end! "
   ]
  }
 ],
 "metadata": {
  "kernelspec": {
   "display_name": "Hydro-Python3",
   "language": "python",
   "name": "hydro-py3"
  },
  "language_info": {
   "codemirror_mode": {
    "name": "ipython",
    "version": 3
   },
   "file_extension": ".py",
   "mimetype": "text/x-python",
   "name": "python",
   "nbconvert_exporter": "python",
   "pygments_lexer": "ipython3",
   "version": "3.7.6"
  }
 },
 "nbformat": 4,
 "nbformat_minor": 2
}
