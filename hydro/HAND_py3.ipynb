{
 "cells": [
  {
   "cell_type": "markdown",
   "metadata": {
    "slideshow": {
     "slide_type": "slide"
    },
    "tags": [
     "title"
    ]
   },
   "source": [
    "# HAND and Flood Emergency Response\n",
    "\n",
    "This Jupyter notebook illustrates the HAND workflow and its use in example flood emergency scenarios. The study area is Onion Creek (HUC10 code 1209020504).\n",
    "\n",
    "This is also a demonstration of conducting geospatial anlysis with opensource toolkits (gdal) using an online Jupyter interface.\n",
    "\n",
    "Environment required: CyberGIS-Jupyter for Water"
   ]
  },
  {
   "cell_type": "markdown",
   "metadata": {
    "slideshow": {
     "slide_type": "subslide"
    },
    "tags": [
     "figure"
    ]
   },
   "source": [
    "![](https://camo.githubusercontent.com/b4a3f72e68690da6ee5726fe2f2d8711c9d314ce/68747470733a2f2f7765622e636f7272616c2e746163632e7574657861732e6564752f6e666965646174612f646f63732f68616e642d776f726b666c6f772e706e67)"
   ]
  },
  {
   "cell_type": "markdown",
   "metadata": {
    "slideshow": {
     "slide_type": "subslide"
    },
    "tags": [
     "instruction"
    ]
   },
   "source": [
    "- We use CyberGIS' accelerated TauDEM version for d8 and d$\\infty$ flow direction calculation.\n",
    "    >More about [TauDEM](http://hydrology.usu.edu/taudem/taudem5/index.html)\n",
    "\n",
    "\n",
    "- The USGS 3DEP Elevation dataset (a.k.a. National Elevation Dataset) is deployed on ROGER as a VRT raster.\n",
    "\n",
    "- The NHDPlus and associated water boundary dataset (WBD) are in Esri FileGDB format."
   ]
  },
  {
   "cell_type": "markdown",
   "metadata": {},
   "source": [
    "# Notebook Outline:\n",
    "- [Data preparation and pre-processing](#preparation)\n",
    "- [Workflow for computing HAND](#Workflow)\n",
    "    - [Find inlets](#Workflow)\n",
    "    - [Pitremove](#Pitremove)\n",
    "    - [Compute flow direction](#Direction)\n",
    "    - [Calculate HAND](#Hand)\n",
    "- [Application](#Application)  "
   ]
  },
  {
   "cell_type": "markdown",
   "metadata": {
    "slideshow": {
     "slide_type": "slide"
    },
    "tags": [
     "instruction"
    ]
   },
   "source": [
    "<a id='preparation'></a>\n",
    "# 1. Data preparation and pre-processing"
   ]
  },
  {
   "cell_type": "code",
   "execution_count": 37,
   "metadata": {},
   "outputs": [],
   "source": [
    "# Program file path\n",
    "import os\n",
    "data_dir = '/home/jovyan/shared_data/data/onion-hand'\n",
    "    \n",
    "# Format and performance parameters\n",
    "np=4 #os.cpu_count()\n",
    "dsepsg=\"EPSG:4269\"\n",
    "bufferdist='0.2' "
   ]
  },
  {
   "cell_type": "markdown",
   "metadata": {
    "slideshow": {
     "slide_type": "subslide"
    }
   },
   "source": [
    "<img src=\"http://cybergis.cigi.uiuc.edu/images/v5.svg\" width=\"15\" style=\"float:left\"/>&nbsp;<span style=\"font-family:Times; font-size:1.2em\">\n",
    "Fetch the hands-on example data, from [*GIS in Water Resources*](http://hydrology.usu.edu/dtarb/giswr/2016/) (USU CEE6440, UT Austin CE 394K.3)"
   ]
  },
  {
   "cell_type": "code",
   "execution_count": 38,
   "metadata": {},
   "outputs": [],
   "source": [
    "!cp -r {data_dir} data"
   ]
  },
  {
   "cell_type": "markdown",
   "metadata": {
    "slideshow": {
     "slide_type": "-"
    }
   },
   "source": [
    "<img src=\"http://cybergis.cigi.uiuc.edu/images/v5.svg\" width=\"15\" style=\"float:left\"/>&nbsp;<span style=\"font-family:Times; font-size:1.2em\">\n",
    "The study area is Onion Creek in Texas. This watershed is a HUC10 unit with code 1209020504.\n",
    "<!--In this demo notebook, we directly use flowline shp file for the input DEM.<br>\n",
    "Extracting flowlines from NHDPlus is left as an exercise for you to get familiar with GDAL OGR utility. <br>-->\n",
    " <!--You can get the WBD for this unit and conduct a spatial query on NHDPlus to get the flowlines.--></span>"
   ]
  },
  {
   "cell_type": "code",
   "execution_count": 39,
   "metadata": {},
   "outputs": [
    {
     "name": "stdout",
     "output_type": "stream",
     "text": [
      "INFO: Open of `data/OnionHand.gdb'\r\n",
      "      using driver `OpenFileGDB' successful.\r\n",
      "1: StreamGage (3D Measured Point)\r\n",
      "2: NHDFlowline (3D Measured Multi Line String)\r\n",
      "3: Catchment (Multi Polygon)\r\n",
      "4: Watershed (Multi Polygon)\r\n",
      "5: AddressPt (Point)\r\n"
     ]
    }
   ],
   "source": [
    "!ogrinfo data/OnionHand.gdb"
   ]
  },
  {
   "cell_type": "code",
   "execution_count": 40,
   "metadata": {
    "scrolled": true,
    "slideshow": {
     "slide_type": "subslide"
    }
   },
   "outputs": [
    {
     "name": "stdout",
     "output_type": "stream",
     "text": [
      "Driver: GTiff/GeoTIFF\n",
      "Files: data/Onion3.tif\n",
      "Size is 7864, 2761\n",
      "Coordinate System is:\n",
      "GEOGCRS[\"NAD83\",\n",
      "    DATUM[\"North American Datum 1983\",\n",
      "        ELLIPSOID[\"GRS 1980\",6378137,298.257222101,\n",
      "            LENGTHUNIT[\"metre\",1]],\n",
      "        ID[\"EPSG\",6269]],\n",
      "    PRIMEM[\"Greenwich\",0,\n",
      "        ANGLEUNIT[\"Degree\",0.0174532925199433]],\n",
      "    CS[ellipsoidal,2],\n",
      "        AXIS[\"longitude\",east,\n",
      "            ORDER[1],\n",
      "            ANGLEUNIT[\"Degree\",0.0174532925199433]],\n",
      "        AXIS[\"latitude\",north,\n",
      "            ORDER[2],\n",
      "            ANGLEUNIT[\"Degree\",0.0174532925199433]]]\n",
      "Data axis to CRS axis mapping: 1,2\n",
      "Origin = (-98.307685185190977,30.270277778898251)\n",
      "Pixel Size = (0.000092592593000,-0.000092592593000)\n",
      "Metadata:\n",
      "  AREA_OR_POINT=Area\n",
      "Image Structure Metadata:\n",
      "  COMPRESSION=LZW\n",
      "  INTERLEAVE=BAND\n",
      "Corner Coordinates:\n",
      "Upper Left  ( -98.3076852,  30.2702778) ( 98d18'27.67\"W, 30d16'13.00\"N)\n",
      "Lower Left  ( -98.3076852,  30.0146296) ( 98d18'27.67\"W, 30d 0'52.67\"N)\n",
      "Upper Right ( -97.5795370,  30.2702778) ( 97d34'46.33\"W, 30d16'13.00\"N)\n",
      "Lower Right ( -97.5795370,  30.0146296) ( 97d34'46.33\"W, 30d 0'52.67\"N)\n",
      "Center      ( -97.9436111,  30.1424537) ( 97d56'37.00\"W, 30d 8'32.83\"N)\n",
      "Band 1 Block=7864x1 Type=Float32, ColorInterp=Gray\n",
      "  Min=113.184 Max=513.462 \n",
      "  Minimum=113.184, Maximum=513.462, Mean=277.847, StdDev=90.398\n",
      "  NoData Value=-1\n",
      "  Metadata:\n",
      "    STATISTICS_COVARIANCES=8171.746395834145\n",
      "    STATISTICS_MAXIMUM=513.4619140625\n",
      "    STATISTICS_MEAN=277.84672138896\n",
      "    STATISTICS_MINIMUM=113.18444061279\n",
      "    STATISTICS_SKIPFACTORX=1\n",
      "    STATISTICS_SKIPFACTORY=1\n",
      "    STATISTICS_STDDEV=90.397712337394\n"
     ]
    }
   ],
   "source": [
    "!gdalinfo data/Onion3.tif"
   ]
  },
  {
   "cell_type": "markdown",
   "metadata": {},
   "source": [
    ">More about [ogrinfo](http://www.gdal.org/ogrinfo.html) and [gdalinfo](http://www.gdal.org/gdalinfo.html)"
   ]
  },
  {
   "cell_type": "markdown",
   "metadata": {
    "slideshow": {
     "slide_type": "subslide"
    }
   },
   "source": [
    "<img src=\"http://cybergis.cigi.uiuc.edu/images/v5.svg\" width=\"15\" style=\"float:left\"/>&nbsp;<span style=\"font-family:Times; font-size:1.2em\">\n",
    "To visualize a GeoTIFF, we need to:\n",
    " - Render color from values.\n",
    " - Make tiles (pyramids) from the colored image."
   ]
  },
  {
   "cell_type": "code",
   "execution_count": 41,
   "metadata": {},
   "outputs": [
    {
     "name": "stdout",
     "output_type": "stream",
     "text": [
      "0...10...20...30...40...50...60...70...80...90...100 - done.\n"
     ]
    }
   ],
   "source": [
    "# Colorize using hillshade\n",
    "!gdaldem hillshade data/Onion3.tif Onion3-hillshade.tif"
   ]
  },
  {
   "cell_type": "code",
   "execution_count": 42,
   "metadata": {},
   "outputs": [
    {
     "name": "stdout",
     "output_type": "stream",
     "text": [
      "Warning 1: VRTDataset>, band 1: NODATA_VALUES metadata item doesn't have the same number of values as the number of bands.  Ignoring it for mask.\n",
      "Generating Base Tiles:\n",
      "0Generating Overview Tiles:\n",
      "0...10...20...30...40...50...60...70...80...90...100\n"
     ]
    }
   ],
   "source": [
    "# Make tiles with gdal2tiles (this is needed for visualization)\n",
    "!gdal2tiles.py -t \"Onion Creek DEM\" -e -z 9-14 -a 0,0,0 -s epsg:4326\\\n",
    "    -r bilinear Onion3-hillshade.tif Onion3-hillshade "
   ]
  },
  {
   "cell_type": "markdown",
   "metadata": {},
   "source": [
    ">More about [gdaldem](http://www.gdal.org/gdaldem.html) and [gdal2tiles.py](http://www.gdal.org/gdal2tiles.html)"
   ]
  },
  {
   "cell_type": "markdown",
   "metadata": {
    "slideshow": {
     "slide_type": "subslide"
    }
   },
   "source": [
    "<img src=\"http://cybergis.cigi.uiuc.edu/images/v5.svg\" width=\"15\" style=\"float:left\"/>&nbsp;<span style=\"font-family:Times; font-size:1.2em\">\n",
    "To visualize a Shapefile, we only need to convert it to GeoJson"
   ]
  },
  {
   "cell_type": "code",
   "execution_count": 43,
   "metadata": {},
   "outputs": [],
   "source": [
    "# Extract flowline.shp from GeoDatabase (which will be used later)\n",
    "!ogr2ogr -f \"ESRI Shapefile\" flowline.shp data/OnionHand.gdb NHDFlowline 2>/dev/null"
   ]
  },
  {
   "cell_type": "code",
   "execution_count": 44,
   "metadata": {},
   "outputs": [
    {
     "name": "stdout",
     "output_type": "stream",
     "text": [
      "Warning 1: The output driver does not natively support Date type for field FDATE. Misconversion can happen. -mapFieldType can be used to control field type conversion.\r\n"
     ]
    }
   ],
   "source": [
    "# Convert the Shapefile to GeoJson for visualization\n",
    "!ogr2ogr -f geojson flowline.json flowline.shp"
   ]
  },
  {
   "cell_type": "markdown",
   "metadata": {},
   "source": [
    ">More about [ogr2ogr](http://www.gdal.org/ogr2ogr.html)"
   ]
  },
  {
   "cell_type": "code",
   "execution_count": 45,
   "metadata": {
    "scrolled": false,
    "slideshow": {
     "slide_type": "subslide"
    }
   },
   "outputs": [
    {
     "data": {
      "text/html": [
       "\n",
       "        <iframe\n",
       "            width=\"1000\"\n",
       "            height=\"600\"\n",
       "            src=\"input.html\"\n",
       "            frameborder=\"0\"\n",
       "            allowfullscreen\n",
       "        ></iframe>\n",
       "        "
      ],
      "text/plain": [
       "<IPython.lib.display.IFrame at 0x7f2346185450>"
      ]
     },
     "execution_count": 45,
     "metadata": {},
     "output_type": "execute_result"
    }
   ],
   "source": [
    "from cybergis import Floret\n",
    "Floret('Onion Creek DEM', 'input')\\\n",
    ".addTMSLayer('DEM','Onion3-hillshade')\\\n",
    ".addGeoJson('Flowline','flowline.json').display()"
   ]
  },
  {
   "cell_type": "markdown",
   "metadata": {
    "slideshow": {
     "slide_type": "slide"
    }
   },
   "source": [
    "<a id='Workflow'></a>\n",
    "# 2. Workflow for computing HAND\n",
    "\n",
    "\n",
    "## 2.1 Find inlets\n",
    "<img src=\"http://cybergis.cigi.uiuc.edu/images/v5.svg\" width=\"15\" style=\"float:left\"/>&nbsp;<span style=\"font-family:Times; font-size:1.2em\">\n",
    "Use the dangle operation to find channel heads (inlets) of streams. They will guide the DEM-based stream calculation.</span>"
   ]
  },
  {
   "cell_type": "code",
   "execution_count": 46,
   "metadata": {},
   "outputs": [],
   "source": [
    "!find_inlets_mr -flow flowline.shp -dangle flow-inlets0.shp\n",
    "!ogr2ogr -t_srs \"EPSG:4269\" flow-inlets.shp flow-inlets0.shp"
   ]
  },
  {
   "cell_type": "code",
   "execution_count": 47,
   "metadata": {},
   "outputs": [],
   "source": [
    "!ogr2ogr -f geojson flow-inlets.json flow-inlets.shp"
   ]
  },
  {
   "cell_type": "code",
   "execution_count": 48,
   "metadata": {
    "scrolled": true,
    "slideshow": {
     "slide_type": "subslide"
    }
   },
   "outputs": [
    {
     "data": {
      "text/html": [
       "\n",
       "        <iframe\n",
       "            width=\"1000\"\n",
       "            height=\"600\"\n",
       "            src=\"inlet.html\"\n",
       "            frameborder=\"0\"\n",
       "            allowfullscreen\n",
       "        ></iframe>\n",
       "        "
      ],
      "text/plain": [
       "<IPython.lib.display.IFrame at 0x7f230ec18750>"
      ]
     },
     "execution_count": 48,
     "metadata": {},
     "output_type": "execute_result"
    }
   ],
   "source": [
    "from cybergis import Floret\n",
    "Floret('Flow Inlets', 'inlet').addTMSLayer('DEM','Onion3-hillshade')\\\n",
    ".addGeoJson('Flowline', 'flowline.json')\\\n",
    ".addGeoJson('Inlets','flow-inlets.json')\\\n",
    ".display()"
   ]
  },
  {
   "cell_type": "markdown",
   "metadata": {
    "slideshow": {
     "slide_type": "subslide"
    }
   },
   "source": [
    "<img src=\"http://cybergis.cigi.uiuc.edu/images/v5.svg\" width=\"15\" style=\"float:left\"/>&nbsp;<span style=\"font-family:Times; font-size:1.2em\">\n",
    "Rasterize inlet points to the same spatial extent as the input DEM. The output is the weight grid.</span>"
   ]
  },
  {
   "cell_type": "code",
   "execution_count": 49,
   "metadata": {},
   "outputs": [
    {
     "name": "stdout",
     "output_type": "stream",
     "text": [
      "\u001b[0m\u001b[01;32mdata/getRasterInfo.py\u001b[0m*\r\n"
     ]
    }
   ],
   "source": [
    "ls data/getRasterInfo.py"
   ]
  },
  {
   "cell_type": "code",
   "execution_count": 50,
   "metadata": {
    "slideshow": {
     "slide_type": "-"
    }
   },
   "outputs": [
    {
     "name": "stdout",
     "output_type": "stream",
     "text": [
      "<zip object at 0x7f230ef19820>\n",
      "fsizeDEM=\"84.6MB\"\n",
      "colsDEM=\"7864\"\n",
      "rowsDEM=\"2761\"\n",
      "nodataDEM=\"-1.0\"\n",
      "xmin=\"-98.30768518519098\"\n",
      "ymin=\"30.01462962962525\"\n",
      "xmax=\"-97.57953703383897\"\n",
      "ymax=\"30.27027777889825\"\n",
      "cellsize_resx=\"0.000092592593000\"\n",
      "cellsize_resy=\"0.000092592593000\"\n"
     ]
    }
   ],
   "source": [
    "# Getting format info of the reference tif\n",
    "import sys\n",
    "names='fsizeDEM colsDEM rowsDEM nodataDEM xmin ymin xmax ymax cellsize_resx cellsize_resy'.split()\n",
    "values=!{sys.executable} data/getRasterInfo.py data/Onion3.tif\n",
    "print(zip(names, values))\n",
    "for name,value in dict(zip(names,values)).items():\n",
    "   para='%s=\"%s\"'%(name,value)\n",
    "   print (para)\n",
    "   exec(para)"
   ]
  },
  {
   "cell_type": "code",
   "execution_count": 51,
   "metadata": {
    "slideshow": {
     "slide_type": "-"
    }
   },
   "outputs": [
    {
     "name": "stdout",
     "output_type": "stream",
     "text": [
      "0...10...20...30...40...50...60...70...80...90...100 - done.\n"
     ]
    }
   ],
   "source": [
    "!gdal_rasterize -ot Int16 -of GTiff -burn 1 -tr {cellsize_resx} {cellsize_resy} -te {xmin} {ymin} {xmax} {ymax} flow-inlets.shp weights.tif"
   ]
  },
  {
   "cell_type": "markdown",
   "metadata": {},
   "source": [
    ">More about [gdal_rasterize](http://www.gdal.org/gdal_rasterize.html)"
   ]
  },
  {
   "cell_type": "markdown",
   "metadata": {
    "slideshow": {
     "slide_type": "subslide"
    }
   },
   "source": [
    "<a id='Pitremove'></a>\n",
    "## 2.2 Pitremove\n",
    "\n",
    "<img src=\"http://cybergis.cigi.uiuc.edu/images/v5.svg\" width=\"15\" style=\"float:left\"/>&nbsp;<span style=\"font-family:Times; font-size:1.2em\">\n",
    "Taudem pitremove: hydro-condition the DEM"
   ]
  },
  {
   "cell_type": "code",
   "execution_count": 52,
   "metadata": {},
   "outputs": [
    {
     "name": "stdout",
     "output_type": "stream",
     "text": [
      "PitRemove version 5.3.9\n",
      "Input file data/Onion3.tif has geographic coordinate system.\n",
      "Nodata value input to create partition from file: -1.000000\n",
      "Nodata value recast to float used in partition raster: -1.000000\n",
      "This run may take on the order of 1 minutes to complete.\n",
      "This estimate is very approximate. \n",
      "Run time is highly uncertain as it depends on the complexity of the input data \n",
      "and speed and memory of the computer. This estimate is based on our testing on \n",
      "a dual quad core Dell Xeon E5405 2.0GHz PC with 16GB RAM.\n",
      "Processes: 4\n",
      "Header read time: 0.286929\n",
      "Data read time: 0.380744\n",
      "Compute time: 3.721320\n",
      "Write time: 1.101259\n",
      "Total time: 5.490253\n"
     ]
    }
   ],
   "source": [
    "!mpirun -np {np} pitremove -z data/Onion3.tif -fel fel.tif"
   ]
  },
  {
   "cell_type": "markdown",
   "metadata": {
    "slideshow": {
     "slide_type": "subslide"
    }
   },
   "source": [
    "<a id='Direction'></a>\n",
    "## 2.3 Compute flow direction\n",
    "\n",
    "<img src=\"http://cybergis.cigi.uiuc.edu/images/v5.svg\" width=\"15\" style=\"float:left\"/>&nbsp;<span style=\"font-family:Times; font-size:1.2em\">\n",
    "Taudem d$\\infty$: calc flow routing info that is used later to find the nearest stream from each cell</span>"
   ]
  },
  {
   "cell_type": "code",
   "execution_count": 53,
   "metadata": {
    "scrolled": true
   },
   "outputs": [
    {
     "name": "stdout",
     "output_type": "stream",
     "text": [
      "DinfFlowDir version 5.3.9\n",
      "Input file fel.tif has geographic coordinate system.\n",
      "Nodata value input to create partition from file: -300000000549775575777803994281145270272.000000\n",
      "Nodata value recast to float used in partition raster: -300000000549775575777803994281145270272.000000\n",
      "This run may take on the order of 5 minutes to complete.\n",
      "This estimate is very approximate. \n",
      "Run time is highly uncertain as it depends on the complexity of the input data \n",
      "and speed and memory of the computer. This estimate is based on our testing on \n",
      "a dual quad core Dell Xeon E5405 2.0GHz PC with 16GB RAM.\n",
      "All slopes evaluated. 405327 flats to resolve.\n",
      "Draining flats towards lower adjacent terrain\n",
      "...................................................................................................................................................................................................................................................................................................................................................................................................................................................................................................................................................................................................................................................................................................................................................................\n",
      "Draining flats away from higher adjacent terrain\n",
      "......................................................\n",
      "Setting directions\n",
      "Iteration complete. Number of flats remaining: 10307\n",
      "Draining flats towards lower adjacent terrain\n",
      "..................\n",
      "Draining flats away from higher adjacent terrain\n",
      ".............\n",
      "Setting directions\n",
      "Iteration complete. Number of flats remaining: 10\n",
      "Draining flats towards lower adjacent terrain\n",
      ".\n",
      "Draining flats away from higher adjacent terrain\n",
      "..\n",
      "Setting directions\n",
      "Processors: 4\n",
      "Header read time: 0.285104\n",
      "Data read time: 0.341177\n",
      "Compute Slope time: 4.322463\n",
      "Write Slope time: 1.681729\n",
      "Resolve Flat time: 39.099616\n",
      "Write Flat time: 1.485051\n",
      "Total time: 47.215141\n"
     ]
    }
   ],
   "source": [
    "!mpirun -np {np} dinfflowdir -fel fel.tif -ang ang.tif -slp slp.tif "
   ]
  },
  {
   "cell_type": "markdown",
   "metadata": {
    "slideshow": {
     "slide_type": "subslide"
    }
   },
   "source": [
    "<img src=\"http://cybergis.cigi.uiuc.edu/images/v5.svg\" width=\"15\" style=\"float:left\"/>&nbsp;<span style=\"font-family:Times; font-size:1.2em\">TauDEM d8: calc d8 flow directions for the computing of a stream grid weighted by the weight grid"
   ]
  },
  {
   "cell_type": "code",
   "execution_count": 54,
   "metadata": {
    "scrolled": true
   },
   "outputs": [
    {
     "name": "stdout",
     "output_type": "stream",
     "text": [
      "D8FlowDir version 5.3.9\n",
      "Input file fel.tif has geographic coordinate system.\n",
      "Nodata value input to create partition from file: -300000000549775575777803994281145270272.000000\n",
      "Nodata value recast to float used in partition raster: -300000000549775575777803994281145270272.000000\n",
      "This run may take on the order of 5 minutes to complete.\n",
      "This estimate is very approximate. \n",
      "Run time is highly uncertain as it depends on the complexity of the input data \n",
      "and speed and memory of the computer. This estimate is based on our testing on \n",
      "a dual quad core Dell Xeon E5405 2.0GHz PC with 16GB RAM.\n",
      "All slopes evaluated. 405327 flats to resolve.\n",
      "Draining flats towards lower adjacent terrain\n",
      "...................................................................................................................................................................................................................................................................................................................................................................................................................................................................................................................................................................................................................................................................................................................................................................\n",
      "Draining flats away from higher adjacent terrain\n",
      "......................................................\n",
      "Setting directions\n",
      "Iteration complete. Number of flats remaining: 10307\n",
      "Draining flats towards lower adjacent terrain\n",
      "..................\n",
      "Draining flats away from higher adjacent terrain\n",
      ".............\n",
      "Setting directions\n",
      "Iteration complete. Number of flats remaining: 10\n",
      "Draining flats towards lower adjacent terrain\n",
      ".\n",
      "Draining flats away from higher adjacent terrain\n",
      "..\n",
      "Setting directions\n",
      "Processors: 4\n",
      "Header read time: 0.245338\n",
      "Data read time: 0.361435\n",
      "Compute Slope time: 1.648920\n",
      "Write Slope time: 1.448405\n",
      "Resolve Flat time: 40.599772\n",
      "Write Flat time: 0.395848\n",
      "Total time: 44.699718\n"
     ]
    }
   ],
   "source": [
    "!mpirun -np {np} d8flowdir -fel fel.tif -p p.tif -sd8 sd8.tif"
   ]
  },
  {
   "cell_type": "markdown",
   "metadata": {
    "slideshow": {
     "slide_type": "subslide"
    }
   },
   "source": [
    "<img src=\"http://cybergis.cigi.uiuc.edu/images/v5.svg\" width=\"15\" style=\"float:left\"/>&nbsp;<span style=\"font-family:Times; font-size:1.2em\">TauDEM aread8: calc contributing area with the weight grid. i.e., only the contributing area starting from the channel heads denoted in the weight grid"
   ]
  },
  {
   "cell_type": "code",
   "execution_count": 55,
   "metadata": {},
   "outputs": [
    {
     "name": "stdout",
     "output_type": "stream",
     "text": [
      "AreaD8 version 5.3.9\n",
      "Input file p.tif has geographic coordinate system.\n",
      "This run may take on the order of 1 minutes to complete.\n",
      "This estimate is very approximate. \n",
      "Run time is highly uncertain as it depends on the complexity of the input data \n",
      "and speed and memory of the computer. This estimate is based on our testing on \n",
      "a dual quad core Dell Xeon E5405 2.0GHz PC with 16GB RAM.\n",
      "Nodata value input to create partition from file: -32768.000000\n",
      "Nodata value recast to int16_t used in partition raster: -32768\n",
      "Input file weights.tif has geographic coordinate system.\n",
      "Nodata value input to create partition from file: -10000000000.000000\n",
      "Nodata value recast to float used in partition raster: -10000000000.000000\n",
      "Number of Processes: 4\n",
      "Read time: 0.508911\n",
      "Compute time: 2.928946\n",
      "Write time: 0.141026\n",
      "Total time: 3.578884\n"
     ]
    }
   ],
   "source": [
    "!mpirun -np {np} aread8 -p p.tif -ad8 ssa.tif -wg weights.tif -nc "
   ]
  },
  {
   "cell_type": "markdown",
   "metadata": {
    "slideshow": {
     "slide_type": "subslide"
    }
   },
   "source": [
    "<img src=\"http://cybergis.cigi.uiuc.edu/images/v5.svg\" width=\"15\" style=\"float:left\"/>&nbsp;<span style=\"font-family:Times; font-size:1.2em\">From the contributing area, extract streams areas (cellvalue = 1)"
   ]
  },
  {
   "cell_type": "code",
   "execution_count": 56,
   "metadata": {},
   "outputs": [
    {
     "name": "stdout",
     "output_type": "stream",
     "text": [
      "Threshold version 5.3.9\n",
      "Input file ssa.tif has geographic coordinate system.\n",
      "Nodata value input to create partition from file: -1.000000\n",
      "Nodata value recast to float used in partition raster: -1.000000\n",
      "This run may take on the order of 1 minutes to complete.\n",
      "This estimate is very approximate. \n",
      "Run time is highly uncertain as it depends on the complexity of the input data \n",
      "and speed and memory of the computer. This estimate is based on our testing on \n",
      "a dual quad core Dell Xeon E5405 2.0GHz PC with 16GB RAM.\n",
      "Compute time: 0.221156\n"
     ]
    }
   ],
   "source": [
    "!mpirun -np {np} threshold -ssa ssa.tif -src src.tif -thresh 1"
   ]
  },
  {
   "cell_type": "code",
   "execution_count": 57,
   "metadata": {},
   "outputs": [
    {
     "name": "stdout",
     "output_type": "stream",
     "text": [
      "0...10...20...30...40...50...60...70...80...90...100 - done.\n",
      "Generating Base Tiles:\n",
      "0Generating Overview Tiles:\n",
      "0...10...20...30...40...50...60...70...80...90...100\n"
     ]
    }
   ],
   "source": [
    "!gdaldem color-relief src.tif data/src.clr src-color.tif -of GTiff -alpha -nearest_color_entry\n",
    "!gdal2tiles.py -e -z 9-14 -a 0,0,0 -s epsg:4326 -r bilinear src-color.tif src-color "
   ]
  },
  {
   "cell_type": "code",
   "execution_count": 58,
   "metadata": {
    "slideshow": {
     "slide_type": "subslide"
    }
   },
   "outputs": [
    {
     "data": {
      "text/html": [
       "\n",
       "        <iframe\n",
       "            width=\"1000\"\n",
       "            height=\"600\"\n",
       "            src=\"src.html\"\n",
       "            frameborder=\"0\"\n",
       "            allowfullscreen\n",
       "        ></iframe>\n",
       "        "
      ],
      "text/plain": [
       "<IPython.lib.display.IFrame at 0x7f23483ce610>"
      ]
     },
     "execution_count": 58,
     "metadata": {},
     "output_type": "execute_result"
    }
   ],
   "source": [
    "from cybergis import Floret\n",
    "Floret('DEM-Derived streamline','src')\\\n",
    ".addTMSLayer('Derived Streamline', 'src-color')\\\n",
    ".addGeoJson('Flowline','flowline.json').display()"
   ]
  },
  {
   "cell_type": "markdown",
   "metadata": {
    "slideshow": {
     "slide_type": "subslide"
    }
   },
   "source": [
    "<a id='Hand'></a>\n",
    "## 2.4 Calculate HAND\n",
    "\n",
    "<img src=\"http://cybergis.cigi.uiuc.edu/images/v5.svg\" width=\"15\" style=\"float:left\"/>&nbsp;<span style=\"font-family:Times; font-size:1.2em\">With the d$\\infty$ flowing routing and a stream grid that we know water flows on, calc HAND. We use vertical distance here; but horizontal distance or the combination can be used."
   ]
  },
  {
   "cell_type": "code",
   "execution_count": 59,
   "metadata": {},
   "outputs": [
    {
     "name": "stdout",
     "output_type": "stream",
     "text": [
      "DinfDistDown -v version 5.3.9\n",
      "Input file ang.tif has geographic coordinate system.\n",
      "This run may take on the order of 1 minutes to complete.\n",
      "This estimate is very approximate. \n",
      "Run time is highly uncertain as it depends on the complexity of the input data \n",
      "and speed and memory of the computer. This estimate is based on our testing on \n",
      "a dual quad core Dell Xeon E5405 2.0GHz PC with 16GB RAM.\n",
      "Nodata value input to create partition from file: -340282346638528859811704183484516925440.000000\n",
      "Nodata value recast to float used in partition raster: -340282346638528859811704183484516925440.000000\n",
      "Input file fel.tif has geographic coordinate system.\n",
      "Nodata value input to create partition from file: -300000000549775575777803994281145270272.000000\n",
      "Nodata value recast to float used in partition raster: -300000000549775575777803994281145270272.000000\n",
      "Input file src.tif has geographic coordinate system.\n",
      "Nodata value input to create partition from file: -32768.000000\n",
      "Nodata value recast to int16_t used in partition raster: -32768\n",
      "Processors: 4\n",
      "Read time: 1.224691\n",
      "Compute time: 11.072654\n",
      "Write time: 0.874518\n",
      "Total time: 13.171863\n"
     ]
    }
   ],
   "source": [
    "!mpirun -np {np} dinfdistdown -fel fel.tif -ang ang.tif -src src.tif -dd hand.tif -m ave v"
   ]
  },
  {
   "cell_type": "code",
   "execution_count": 60,
   "metadata": {
    "slideshow": {
     "slide_type": "subslide"
    }
   },
   "outputs": [
    {
     "name": "stdout",
     "output_type": "stream",
     "text": [
      "0...10...20...30...40...50...60...70...80...90...100 - done.\n",
      "Generating Base Tiles:\n",
      "0...10...20...30...40...50...60...70...80...90...100\n",
      "Generating Overview Tiles:\n",
      "0...10...20...30...40...50...60...70...80...90...100\n"
     ]
    }
   ],
   "source": [
    "# Colorization and tiling\n",
    "!rm -rf ang-color\n",
    "!gdaldem color-relief ang.tif data/ang.clr ang-color.tif -of GTiff -alpha\n",
    "!gdal2tiles.py -e -z 9-14 -a 0,0,0 -s epsg:4326 -r bilinear ang-color.tif ang-color "
   ]
  },
  {
   "cell_type": "code",
   "execution_count": 61,
   "metadata": {
    "slideshow": {
     "slide_type": "subslide"
    }
   },
   "outputs": [
    {
     "data": {
      "text/html": [
       "\n",
       "        <iframe\n",
       "            width=\"1000\"\n",
       "            height=\"600\"\n",
       "            src=\"ang.html\"\n",
       "            frameborder=\"0\"\n",
       "            allowfullscreen\n",
       "        ></iframe>\n",
       "        "
      ],
      "text/plain": [
       "<IPython.lib.display.IFrame at 0x7f2329715a50>"
      ]
     },
     "execution_count": 61,
     "metadata": {},
     "output_type": "execute_result"
    }
   ],
   "source": [
    "from cybergis import Floret\n",
    "Floret('Dinf Distancedown','ang')\\\n",
    ".addTMSLayer('Dinf', 'ang-color')\\\n",
    ".addGeoJson('Flowline','flowline.json').display()"
   ]
  },
  {
   "cell_type": "code",
   "execution_count": 62,
   "metadata": {
    "slideshow": {
     "slide_type": "subslide"
    }
   },
   "outputs": [
    {
     "name": "stdout",
     "output_type": "stream",
     "text": [
      "0...10...20...30...40...50...60...70...80...90...100 - done.\n",
      "Generating Base Tiles:\n",
      "0Generating Overview Tiles:\n",
      "0...10...20...30...40...50...60...70...80...90...100\n"
     ]
    }
   ],
   "source": [
    "# Colorization and tiling\n",
    "!gdaldem color-relief hand.tif data/HAND-blues.clr hand-color.tif -of GTiff -alpha\n",
    "!gdal2tiles.py -e -z 9-14 -a 0,0,0 -s epsg:4326 -r bilinear hand-color.tif hand-color "
   ]
  },
  {
   "cell_type": "code",
   "execution_count": 63,
   "metadata": {
    "slideshow": {
     "slide_type": "subslide"
    }
   },
   "outputs": [
    {
     "data": {
      "text/html": [
       "\n",
       "        <iframe\n",
       "            width=\"1000\"\n",
       "            height=\"600\"\n",
       "            src=\"onion-hand.html\"\n",
       "            frameborder=\"0\"\n",
       "            allowfullscreen\n",
       "        ></iframe>\n",
       "        "
      ],
      "text/plain": [
       "<IPython.lib.display.IFrame at 0x7f23296f9910>"
      ]
     },
     "execution_count": 63,
     "metadata": {},
     "output_type": "execute_result"
    }
   ],
   "source": [
    "from cybergis import Floret\n",
    "Floret('Onion Creek HAND', 'onion-hand')\\\n",
    ".addTMSLayer('DEM', 'Onion3-hillshade')\\\n",
    ".addTMSLayer('HAND', 'hand-color')\\\n",
    ".addGeoJson('Flowline', 'flowline.json')\\\n",
    ".display()"
   ]
  },
  {
   "cell_type": "markdown",
   "metadata": {
    "slideshow": {
     "slide_type": "slide"
    }
   },
   "source": [
    "<a id='Application'></a>\n",
    "# 3. Application\n",
    "<img src=\"http://cybergis.cigi.uiuc.edu/images/v5.svg\" width=\"15\" style=\"float:left\"/>&nbsp;<span style=\"font-family:Times; font-size:1.2em\">\n",
    "Whose homes will be flooded if a 5m flood take place?"
   ]
  },
  {
   "cell_type": "code",
   "execution_count": 64,
   "metadata": {},
   "outputs": [
    {
     "name": "stdout",
     "output_type": "stream",
     "text": [
      "0.. 0.. 0.. 0.. 0.. 0.. 0.. 0.. 0.. 0.. 0.. 0.. 0.. 0.. 0.. 0.. 0.. 0.. 0.. 0.. 0.. 0.. 0.. 0.. 0.. 0.. 0.. 0.. 1.. 1.. 1.. 1.. 1.. 1.. 1.. 1.. 1.. 1.. 1.. 1.. 1.. 1.. 1.. 1.. 1.. 1.. 1.. 1.. 1.. 1.. 1.. 1.. 1.. 1.. 1.. 1.. 2.. 2.. 2.. 2.. 2.. 2.. 2.. 2.. 2.. 2.. 2.. 2.. 2.. 2.. 2.. 2.. 2.. 2.. 2.. 2.. 2.. 2.. 2.. 2.. 2.. 2.. 2.. 3.. 3.. 3.. 3.. 3.. 3.. 3.. 3.. 3.. 3.. 3.. 3.. 3.. 3.. 3.. 3.. 3.. 3.. 3.. 3.. 3.. 3.. 3.. 3.. 3.. 3.. 3.. 3.. 4.. 4.. 4.. 4.. 4.. 4.. 4.. 4.. 4.. 4.. 4.. 4.. 4.. 4.. 4.. 4.. 4.. 4.. 4.. 4.. 4.. 4.. 4.. 4.. 4.. 4.. 4.. 4.. 5.. 5.. 5.. 5.. 5.. 5.. 5.. 5.. 5.. 5.. 5.. 5.. 5.. 5.. 5.. 5.. 5.. 5.. 5.. 5.. 5.. 5.. 5.. 5.. 5.. 5.. 5.. 6.. 6.. 6.. 6.. 6.. 6.. 6.. 6.. 6.. 6.. 6.. 6.. 6.. 6.. 6.. 6.. 6.. 6.. 6.. 6.. 6.. 6.. 6.. 6.. 6.. 6.. 6.. 6.. 7.. 7.. 7.. 7.. 7.. 7.. 7.. 7.. 7.. 7.. 7.. 7.. 7.. 7.. 7.. 7.. 7.. 7.. 7.. 7.. 7.. 7.. 7.. 7.. 7.. 7.. 7.. 8.. 8.. 8.. 8.. 8.. 8.. 8.. 8.. 8.. 8.. 8.. 8.. 8.. 8.. 8.. 8.. 8.. 8.. 8.. 8.. 8.. 8.. 8.. 8.. 8.. 8.. 8.. 8.. 9.. 9.. 9.. 9.. 9.. 9.. 9.. 9.. 9.. 9.. 9.. 9.. 9.. 9.. 9.. 9.. 9.. 9.. 9.. 9.. 9.. 9.. 9.. 9.. 9.. 9.. 9.. 9.. 10.. 10.. 10.. 10.. 10.. 10.. 10.. 10.. 10.. 10.. 10.. 10.. 10.. 10.. 10.. 10.. 10.. 10.. 10.. 10.. 10.. 10.. 10.. 10.. 10.. 10.. 10.. 11.. 11.. 11.. 11.. 11.. 11.. 11.. 11.. 11.. 11.. 11.. 11.. 11.. 11.. 11.. 11.. 11.. 11.. 11.. 11.. 11.. 11.. 11.. 11.. 11.. 11.. 11.. 11.. 12.. 12.. 12.. 12.. 12.. 12.. 12.. 12.. 12.. 12.. 12.. 12.. 12.. 12.. 12.. 12.. 12.. 12.. 12.. 12.. 12.. 12.. 12.. 12.. 12.. 12.. 12.. 13.. 13.. 13.. 13.. 13.. 13.. 13.. 13.. 13.. 13.. 13.. 13.. 13.. 13.. 13.. 13.. 13.. 13.. 13.. 13.. 13.. 13.. 13.. 13.. 13.. 13.. 13.. 13.. 14.. 14.. 14.. 14.. 14.. 14.. 14.. 14.. 14.. 14.. 14.. 14.. 14.. 14.. 14.. 14.. 14.. 14.. 14.. 14.. 14.. 14.. 14.. 14.. 14.. 14.. 14.. 14.. 15.. 15.. 15.. 15.. 15.. 15.. 15.. 15.. 15.. 15.. 15.. 15.. 15.. 15.. 15.. 15.. 15.. 15.. 15.. 15.. 15.. 15.. 15.. 15.. 15.. 15.. 15.. 16.. 16.. 16.. 16.. 16.. 16.. 16.. 16.. 16.. 16.. 16.. 16.. 16.. 16.. 16.. 16.. 16.. 16.. 16.. 16.. 16.. 16.. 16.. 16.. 16.. 16.. 16.. 16.. 17.. 17.. 17.. 17.. 17.. 17.. 17.. 17.. 17.. 17.. 17.. 17.. 17.. 17.. 17.. 17.. 17.. 17.. 17.. 17.. 17.. 17.. 17.. 17.. 17.. 17.. 17.. 18.. 18.. 18.. 18.. 18.. 18.. 18.. 18.. 18.. 18.. 18.. 18.. 18.. 18.. 18.. 18.. 18.. 18.. 18.. 18.. 18.. 18.. 18.. 18.. 18.. 18.. 18.. 18.. 19.. 19.. 19.. 19.. 19.. 19.. 19.. 19.. 19.. 19.. 19.. 19.. 19.. 19.. 19.. 19.. 19.. 19.. 19.. 19.. 19.. 19.. 19.. 19.. 19.. 19.. 19.. 19.. 20.. 20.. 20.. 20.. 20.. 20.. 20.. 20.. 20.. 20.. 20.. 20.. 20.. 20.. 20.. 20.. 20.. 20.. 20.. 20.. 20.. 20.. 20.. 20.. 20.. 20.. 20.. 21.. 21.. 21.. 21.. 21.. 21.. 21.. 21.. 21.. 21.. 21.. 21.. 21.. 21.. 21.. 21.. 21.. 21.. 21.. 21.. 21.. 21.. 21.. 21.. 21.. 21.. 21.. 21.. 22.. 22.. 22.. 22.. 22.. 22.. 22.. 22.. 22.. 22.. 22.. 22.. 22.. 22.. 22.. 22.. 22.. 22.. 22.. 22.. 22.. 22.. 22.. 22.. 22.. 22.. 22.. 22.. 23.. 23.. 23.. 23.. 23.. 23.. 23.. 23.. 23.. 23.. 23.. 23.. 23.. 23.. 23.. 23.. 23.. 23.. 23.. 23.. 23.. 23.. 23.. 23.. 23.. 23.. 23.. 24.. 24.. 24.. 24.. 24.. 24.. 24.. 24.. 24.. 24.. 24.. 24.. 24.. 24.. 24.. 24.. 24.. 24.. 24.. 24.. 24.. 24.. 24.. 24.. 24.. 24.. 24.. 24.. 25.. 25.. 25.. 25.. 25.. 25.. 25.. 25.. 25.. 25.. 25.. 25.. 25.. 25.. 25.. 25.. 25.. 25.. 25.. 25.. 25.. 25.. 25.. 25.. 25.. 25.. 25.. 26.. 26.. 26.. 26.. 26.. 26.. 26.. 26.. 26.. 26.. 26.. 26.. 26.. 26.. 26.. 26.. 26.. 26.. 26.. 26.. 26.. 26.. 26.. 26.. 26.. 26.. 26.. 26.. 27.. 27.. 27.. 27.. 27.. 27.. 27.. 27.. 27.. 27.. 27.. 27.. 27.. 27.. 27.. 27.. 27.. 27.. 27.. 27.. 27.. 27.. 27.. 27.. 27.. 27.. 27.. 27.. 28.. 28.. 28.. 28.. 28.. 28.. 28.. 28.. 28.. 28.. 28.. 28.. 28.. 28.. 28.. 28.. 28.. 28.. 28.. 28.. 28.. 28.. 28.. 28.. 28.. 28.. 28.. 29.. 29.. 29.. 29.. 29.. 29.. 29.. 29.. 29.. 29.. 29.. 29.. 29.. 29.. 29.. 29.. 29.. 29.. 29.. 29.. 29.. 29.. 29.. 29.. 29.. 29.. 29.. 29.. 30.. 30.. 30.. 30.. 30.. 30.. 30.. 30.. 30.. 30.. 30.. 30.. 30.. 30.. 30.. 30.. 30.. 30.. 30.. 30.. 30.. 30.. 30.. 30.. 30.. 30.. 30.. 31.. 31.. 31.. 31.. 31.. 31.. 31.. 31.. 31.. 31.. 31.. 31.. 31.. 31.. 31.. 31.. 31.. 31.. 31.. 31.. 31.. 31.. 31.. 31.. 31.. 31.. 31.. 31.. 32.. 32.. 32.. 32.. 32.. 32.. 32.. 32.. 32.. 32.. 32.. 32.. 32.. 32.. 32.. 32.. 32.. 32.. 32.. 32.. 32.. 32.. 32.. 32.. 32.. 32.. 32.. 32.. 33.. 33.. 33.. 33.. 33.. 33.. 33.. 33.. 33.. 33.. 33.. 33.. 33.. 33.. 33.. 33.. 33.. 33.. 33.. 33.. 33.. 33.. 33.. 33.. 33.. 33.. 33.. 34.. 34.. 34.. 34.. 34.. 34.. 34.. 34.. 34.. 34.. 34.. 34.. 34.. 34.. 34.. 34.. 34.. 34.. 34.. 34.. 34.. 34.. 34.. 34.. 34.. 34.. 34.. 34.. 35.. 35.. 35.. 35.. 35.. 35.. 35.. 35.. 35.. 35.. 35.. 35.. 35.. 35.. 35.. 35.. 35.. 35.. 35.. 35.. 35.. 35.. 35.. 35.. 35.. 35.. 35.. 36.. 36.. 36.. 36.. 36.. 36.. 36.. 36.. 36.. 36.. 36.. 36.. 36.. 36.. 36.. 36.. 36.. 36.. 36.. 36.. 36.. 36.. 36.. 36.. 36.. 36.. 36.. 36.. 37.. 37.. 37.. 37.. 37.. 37.. 37.. 37.. 37.. 37.. 37.. 37.. 37.. 37.. 37.. 37.. 37.. 37.. 37.. 37.. 37.. 37.. 37.. 37.. 37.. 37.. 37.. 37.. 38.. 38.. 38.. 38.. 38.. 38.. 38.. 38.. 38.. 38.. 38.. 38.. 38.. 38.. 38.. 38.. 38.. 38.. 38.. 38.. 38.. 38.. 38.. 38.. 38.. 38.. 38.. 39.. 39.. 39.. 39.. 39.. 39.. 39.. 39.. 39.. 39.. 39.. 39.. 39.. 39.. 39.. 39.. 39.. 39.. 39.. 39.. 39.. 39.. 39.. 39.. 39.. 39.. 39.. 39.. 40.. 40.. 40.. 40.. 40.. 40.. 40.. 40.. 40.. 40.. 40.. 40.. 40.. 40.. 40.. 40.. 40.. 40.. 40.. 40.. 40.. 40.. 40.. 40.. 40.. 40.. 40.. 40.. 41.. 41.. 41.. 41.. 41.. 41.. 41.. 41.. 41.. 41.. 41.. 41.. 41.. 41.. 41.. 41.. 41.. 41.. 41.. 41.. 41.. 41.. 41.. 41.. 41.. 41.. 41.. 42.. 42.. 42.. 42.. 42.. 42.. 42.. 42.. 42.. 42.. 42.. 42.. 42.. 42.. 42.. 42.. 42.. 42.. 42.. 42.. 42.. 42.. 42.. 42.. 42.. 42.. 42.. 42.. 43.. 43.. 43.. 43.. 43.. 43.. 43.. 43.. 43.. 43.. 43.. 43.. 43.. 43.. 43.. 43.. 43.. 43.. 43.. 43.. 43.. 43.. 43.. 43.. 43.. 43.. 43.. 44.. 44.. 44.. 44.. 44.. 44.. 44.. 44.. 44.. 44.. 44.. 44.. 44.. 44.. 44.. 44.. 44.. 44.. 44.. 44.. 44.. 44.. 44.. 44.. 44.. 44.. 44.. 44.. 45.. 45.. 45.. 45.. 45.. 45.. 45.. 45.. 45.. 45.. 45.. 45.. 45.. 45.. 45.. 45.. 45.. 45.. 45.. 45.. 45.. 45.. 45.. 45.. 45.. 45.. 45.. 45.. 46.. 46.. 46.. 46.. 46.. 46.. 46.. 46.. 46.. 46.. 46.. 46.. 46.. 46.. 46.. 46.. 46.. 46.. 46.. 46.. 46.. 46.. 46.. 46.. 46.. 46.. 46.. 47.. 47.. 47.. 47.. 47.. 47.. 47.. 47.. 47.. 47.. 47.. 47.. 47.. 47.. 47.. 47.. 47.. 47.. 47.. 47.. 47.. 47.. 47.. 47.. 47.. 47.. 47.. 47.. 48.. 48.. 48.. 48.. 48.. 48.. 48.. 48.. 48.. 48.. 48.. 48.. 48.. 48.. 48.. 48.. 48.. 48.. 48.. 48.. 48.. 48.. 48.. 48.. 48.. 48.. 48.. 49.. 49.. 49.. 49.. 49.. 49.. 49.. 49.. 49.. 49.. 49.. 49.. 49.. 49.. 49.. 49.. 49.. 49.. 49.. 49.. 49.. 49.. 49.. 49.. 49.. 49.. 49.. 49.. 50.. 50.. 50.. 50.. 50.. 50.. 50.. 50.. 50.. 50.. 50.. 50.. 50.. 50.. 50.. 50.. 50.. 50.. 50.. 50.. 50.. 50.. 50.. 50.. 50.. 50.. 50.. 50.. 51.. 51.. 51.. 51.. 51.. 51.. 51.. 51.. 51.. 51.. 51.. 51.. 51.. 51.. 51.. 51.. 51.. 51.. 51.. 51.. 51.. 51.. 51.. 51.. 51.. 51.. 51.. 52.. 52.. 52.. 52.. 52.. 52.. 52.. 52.. 52.. 52.. 52.. 52.. 52.. 52.. 52.. 52.. 52.. 52.. 52.. 52.. 52.. 52.. 52.. 52.. 52.. 52.. 52.. 52.. 53.. 53.. 53.. 53.. 53.. 53.. 53.. 53.. 53.. 53.. 53.. 53.. 53.. 53.. 53.. 53.. 53.. 53.. 53.. 53.. 53.. 53.. 53.. 53.. 53.. 53.. 53.. 54.. 54.. 54.. 54.. 54.. 54.. 54.. 54.. 54.. 54.. 54.. 54.. 54.. 54.. 54.. 54.. 54.. 54.. 54.. 54.. 54.. 54.. 54.. 54.. 54.. 54.. 54.. 54.. 55.. 55.. 55.. 55.. 55.. 55.. 55.. 55.. 55.. 55.. 55.. 55.. 55.. 55.. 55.. 55.. 55.. 55.. 55.. 55.. 55.. 55.. 55.. 55.. 55.. 55.. 55.. 55.. 56.. 56.. 56.. 56.. 56.. 56.. 56.. 56.. 56.. 56.. 56.. 56.. 56.. 56.. 56.. 56.. 56.. 56.. 56.. 56.. 56.. 56.. 56.. 56.. 56.. 56.. 56.. 57.. 57.. 57.. 57.. 57.. 57.. 57.. 57.. 57.. 57.. 57.. 57.. 57.. 57.. 57.. 57.. 57.. 57.. 57.. 57.. 57.. 57.. 57.. 57.. 57.. 57.. 57.. 57.. 58.. 58.. 58.. 58.. 58.. 58.. 58.. 58.. 58.. 58.. 58.. 58.. 58.. 58.. 58.. 58.. 58.. 58.. 58.. 58.. 58.. 58.. 58.. 58.. 58.. 58.. 58.. 59.. 59.. 59.. 59.. 59.. 59.. 59.. 59.. 59.. 59.. 59.. 59.. 59.. 59.. 59.. 59.. 59.. 59.. 59.. 59.. 59.. 59.. 59.. 59.. 59.. 59.. 59.. 59.. 60.. 60.. 60.. 60.. 60.. 60.. 60.. 60.. 60.. 60.. 60.. 60.. 60.. 60.. 60.. 60.. 60.. 60.. 60.. 60.. 60.. 60.. 60.. 60.. 60.. 60.. 60.. 60.. 61.. 61.. 61.. 61.. 61.. 61.. 61.. 61.. 61.. "
     ]
    },
    {
     "name": "stdout",
     "output_type": "stream",
     "text": [
      "61.. 61.. 61.. 61.. 61.. 61.. 61.. 61.. 61.. 61.. 61.. 61.. 61.. 61.. 61.. 61.. 61.. 61.. 62.. 62.. 62.. 62.. 62.. 62.. 62.. 62.. 62.. 62.. 62.. 62.. 62.. 62.. 62.. 62.. 62.. 62.. 62.. 62.. 62.. 62.. 62.. 62.. 62.. 62.. 62.. 62.. 63.. 63.. 63.. 63.. 63.. 63.. 63.. 63.. 63.. 63.. 63.. 63.. 63.. 63.. 63.. 63.. 63.. 63.. 63.. 63.. 63.. 63.. 63.. 63.. 63.. 63.. 63.. 63.. 64.. 64.. 64.. 64.. 64.. 64.. 64.. 64.. 64.. 64.. 64.. 64.. 64.. 64.. 64.. 64.. 64.. 64.. 64.. 64.. 64.. 64.. 64.. 64.. 64.. 64.. 64.. 65.. 65.. 65.. 65.. 65.. 65.. 65.. 65.. 65.. 65.. 65.. 65.. 65.. 65.. 65.. 65.. 65.. 65.. 65.. 65.. 65.. 65.. 65.. 65.. 65.. 65.. 65.. 65.. 66.. 66.. 66.. 66.. 66.. 66.. 66.. 66.. 66.. 66.. 66.. 66.. 66.. 66.. 66.. 66.. 66.. 66.. 66.. 66.. 66.. 66.. 66.. 66.. 66.. 66.. 66.. 67.. 67.. 67.. 67.. 67.. 67.. 67.. 67.. 67.. 67.. 67.. 67.. 67.. 67.. 67.. 67.. 67.. 67.. 67.. 67.. 67.. 67.. 67.. 67.. 67.. 67.. 67.. 67.. 68.. 68.. 68.. 68.. 68.. 68.. 68.. 68.. 68.. 68.. 68.. 68.. 68.. 68.. 68.. 68.. 68.. 68.. 68.. 68.. 68.. 68.. 68.. 68.. 68.. 68.. 68.. 68.. 69.. 69.. 69.. 69.. 69.. 69.. 69.. 69.. 69.. 69.. 69.. 69.. 69.. 69.. 69.. 69.. 69.. 69.. 69.. 69.. 69.. 69.. 69.. 69.. 69.. 69.. 69.. 70.. 70.. 70.. 70.. 70.. 70.. 70.. 70.. 70.. 70.. 70.. 70.. 70.. 70.. 70.. 70.. 70.. 70.. 70.. 70.. 70.. 70.. 70.. 70.. 70.. 70.. 70.. 70.. 71.. 71.. 71.. 71.. 71.. 71.. 71.. 71.. 71.. 71.. 71.. 71.. 71.. 71.. 71.. 71.. 71.. 71.. 71.. 71.. 71.. 71.. 71.. 71.. 71.. 71.. 71.. 72.. 72.. 72.. 72.. 72.. 72.. 72.. 72.. 72.. 72.. 72.. 72.. 72.. 72.. 72.. 72.. 72.. 72.. 72.. 72.. 72.. 72.. 72.. 72.. 72.. 72.. 72.. 72.. 73.. 73.. 73.. 73.. 73.. 73.. 73.. 73.. 73.. 73.. 73.. 73.. 73.. 73.. 73.. 73.. 73.. 73.. 73.. 73.. 73.. 73.. 73.. 73.. 73.. 73.. 73.. 73.. 74.. 74.. 74.. 74.. 74.. 74.. 74.. 74.. 74.. 74.. 74.. 74.. 74.. 74.. 74.. 74.. 74.. 74.. 74.. 74.. 74.. 74.. 74.. 74.. 74.. 74.. 74.. 75.. 75.. 75.. 75.. 75.. 75.. 75.. 75.. 75.. 75.. 75.. 75.. 75.. 75.. 75.. 75.. 75.. 75.. 75.. 75.. 75.. 75.. 75.. 75.. 75.. 75.. 75.. 75.. 76.. 76.. 76.. 76.. 76.. 76.. 76.. 76.. 76.. 76.. 76.. 76.. 76.. 76.. 76.. 76.. 76.. 76.. 76.. 76.. 76.. 76.. 76.. 76.. 76.. 76.. 76.. 77.. 77.. 77.. 77.. 77.. 77.. 77.. 77.. 77.. 77.. 77.. 77.. 77.. 77.. 77.. 77.. 77.. 77.. 77.. 77.. 77.. 77.. 77.. 77.. 77.. 77.. 77.. 77.. 78.. 78.. 78.. 78.. 78.. 78.. 78.. 78.. 78.. 78.. 78.. 78.. 78.. 78.. 78.. 78.. 78.. 78.. 78.. 78.. 78.. 78.. 78.. 78.. 78.. 78.. 78.. 78.. 79.. 79.. 79.. 79.. 79.. 79.. 79.. 79.. 79.. 79.. 79.. 79.. 79.. 79.. 79.. 79.. 79.. 79.. 79.. 79.. 79.. 79.. 79.. 79.. 79.. 79.. 79.. 80.. 80.. 80.. 80.. 80.. 80.. 80.. 80.. 80.. 80.. 80.. 80.. 80.. 80.. 80.. 80.. 80.. 80.. 80.. 80.. 80.. 80.. 80.. 80.. 80.. 80.. 80.. 80.. 81.. 81.. 81.. 81.. 81.. 81.. 81.. 81.. 81.. 81.. 81.. 81.. 81.. 81.. 81.. 81.. 81.. 81.. 81.. 81.. 81.. 81.. 81.. 81.. 81.. 81.. 81.. 81.. 82.. 82.. 82.. 82.. 82.. 82.. 82.. 82.. 82.. 82.. 82.. 82.. 82.. 82.. 82.. 82.. 82.. 82.. 82.. 82.. 82.. 82.. 82.. 82.. 82.. 82.. 82.. 83.. 83.. 83.. 83.. 83.. 83.. 83.. 83.. 83.. 83.. 83.. 83.. 83.. 83.. 83.. 83.. 83.. 83.. 83.. 83.. 83.. 83.. 83.. 83.. 83.. 83.. 83.. 83.. 84.. 84.. 84.. 84.. 84.. 84.. 84.. 84.. 84.. 84.. 84.. 84.. 84.. 84.. 84.. 84.. 84.. 84.. 84.. 84.. 84.. 84.. 84.. 84.. 84.. 84.. 84.. 85.. 85.. 85.. 85.. 85.. 85.. 85.. 85.. 85.. 85.. 85.. 85.. 85.. 85.. 85.. 85.. 85.. 85.. 85.. 85.. 85.. 85.. 85.. 85.. 85.. 85.. 85.. 85.. 86.. 86.. 86.. 86.. 86.. 86.. 86.. 86.. 86.. 86.. 86.. 86.. 86.. 86.. 86.. 86.. 86.. 86.. 86.. 86.. 86.. 86.. 86.. 86.. 86.. 86.. 86.. 86.. 87.. 87.. 87.. 87.. 87.. 87.. 87.. 87.. 87.. 87.. 87.. 87.. 87.. 87.. 87.. 87.. 87.. 87.. 87.. 87.. 87.. 87.. 87.. 87.. 87.. 87.. 87.. 88.. 88.. 88.. 88.. 88.. 88.. 88.. 88.. 88.. 88.. 88.. 88.. 88.. 88.. 88.. 88.. 88.. 88.. 88.. 88.. 88.. 88.. 88.. 88.. 88.. 88.. 88.. 88.. 89.. 89.. 89.. 89.. 89.. 89.. 89.. 89.. 89.. 89.. 89.. 89.. 89.. 89.. 89.. 89.. 89.. 89.. 89.. 89.. 89.. 89.. 89.. 89.. 89.. 89.. 89.. 90.. 90.. 90.. 90.. 90.. 90.. 90.. 90.. 90.. 90.. 90.. 90.. 90.. 90.. 90.. 90.. 90.. 90.. 90.. 90.. 90.. 90.. 90.. 90.. 90.. 90.. 90.. 90.. 91.. 91.. 91.. 91.. 91.. 91.. 91.. 91.. 91.. 91.. 91.. 91.. 91.. 91.. 91.. 91.. 91.. 91.. 91.. 91.. 91.. 91.. 91.. 91.. 91.. 91.. 91.. 91.. 92.. 92.. 92.. 92.. 92.. 92.. 92.. 92.. 92.. 92.. 92.. 92.. 92.. 92.. 92.. 92.. 92.. 92.. 92.. 92.. 92.. 92.. 92.. 92.. 92.. 92.. 92.. 93.. 93.. 93.. 93.. 93.. 93.. 93.. 93.. 93.. 93.. 93.. 93.. 93.. 93.. 93.. 93.. 93.. 93.. 93.. 93.. 93.. 93.. 93.. 93.. 93.. 93.. 93.. 93.. 94.. 94.. 94.. 94.. 94.. 94.. 94.. 94.. 94.. 94.. 94.. 94.. 94.. 94.. 94.. 94.. 94.. 94.. 94.. 94.. 94.. 94.. 94.. 94.. 94.. 94.. 94.. 95.. 95.. 95.. 95.. 95.. 95.. 95.. 95.. 95.. 95.. 95.. 95.. 95.. 95.. 95.. 95.. 95.. 95.. 95.. 95.. 95.. 95.. 95.. 95.. 95.. 95.. 95.. 95.. 96.. 96.. 96.. 96.. 96.. 96.. 96.. 96.. 96.. 96.. 96.. 96.. 96.. 96.. 96.. 96.. 96.. 96.. 96.. 96.. 96.. 96.. 96.. 96.. 96.. 96.. 96.. 96.. 97.. 97.. 97.. 97.. 97.. 97.. 97.. 97.. 97.. 97.. 97.. 97.. 97.. 97.. 97.. 97.. 97.. 97.. 97.. 97.. 97.. 97.. 97.. 97.. 97.. 97.. 97.. 98.. 98.. 98.. 98.. 98.. 98.. 98.. 98.. 98.. 98.. 98.. 98.. 98.. 98.. 98.. 98.. 98.. 98.. 98.. 98.. 98.. 98.. 98.. 98.. 98.. 98.. 98.. 98.. 99.. 99.. 99.. 99.. 99.. 99.. 99.. 99.. 99.. 99.. 99.. 99.. 99.. 99.. 99.. 99.. 99.. 99.. 99.. 99.. 99.. 99.. 99.. 99.. 99.. 99.. 99.. 100 - Done\r\n"
     ]
    }
   ],
   "source": [
    "# Filtering the HAND tif with threshold value\n",
    "!gdal_calc.py -A hand.tif --outfile=depth.tif --calc=\"A<=5\""
   ]
  },
  {
   "cell_type": "code",
   "execution_count": 65,
   "metadata": {},
   "outputs": [
    {
     "name": "stdout",
     "output_type": "stream",
     "text": [
      "0...10...20...30...40...50...60...70...80...90...100 - done.\n"
     ]
    }
   ],
   "source": [
    "# Convert the result into polygons\n",
    "!gdal_polygonize.py depth.tif depth.shp # ed Becky"
   ]
  },
  {
   "cell_type": "markdown",
   "metadata": {},
   "source": [
    ">More about [gdal_calc.py](http://www.gdal.org/gdal_calc.py.html) and [gdal_polygonize.py](http://www.gdal.org/gdal_polygonize.html)"
   ]
  },
  {
   "cell_type": "code",
   "execution_count": 66,
   "metadata": {
    "scrolled": true,
    "slideshow": {
     "slide_type": "subslide"
    }
   },
   "outputs": [
    {
     "name": "stdout",
     "output_type": "stream",
     "text": [
      "INFO: Open of `depth.shp'\n",
      "      using driver `ESRI Shapefile' successful.\n",
      "\n",
      "Layer name: depth\n",
      "Metadata:\n",
      "  DBF_DATE_LAST_UPDATE=2021-03-03\n",
      "Geometry: Polygon\n",
      "Feature Count: 700\n",
      "Extent: (-98.297685, 30.024259) - (-97.579630, 30.270185)\n",
      "Layer SRS WKT:\n",
      "GEOGCRS[\"NAD83\",\n",
      "    DATUM[\"North American Datum 1983\",\n",
      "        ELLIPSOID[\"GRS 1980\",6378137,298.257222101,\n",
      "            LENGTHUNIT[\"metre\",1]]],\n",
      "    PRIMEM[\"Greenwich\",0,\n",
      "        ANGLEUNIT[\"degree\",0.0174532925199433]],\n",
      "    CS[ellipsoidal,2],\n",
      "        AXIS[\"latitude\",north,\n",
      "            ORDER[1],\n",
      "            ANGLEUNIT[\"degree\",0.0174532925199433]],\n",
      "        AXIS[\"longitude\",east,\n",
      "            ORDER[2],\n",
      "            ANGLEUNIT[\"degree\",0.0174532925199433]],\n",
      "    ID[\"EPSG\",4269]]\n",
      "Data axis to CRS axis mapping: 2,1\n",
      "DN: Integer (9.0)\n"
     ]
    }
   ],
   "source": [
    "!ogrinfo -al -so depth.shp"
   ]
  },
  {
   "cell_type": "code",
   "execution_count": 67,
   "metadata": {},
   "outputs": [],
   "source": [
    "# Filter the target areas from background\n",
    "!ogr2ogr filtered_depth.shp depth.shp -where \"DN=1\""
   ]
  },
  {
   "cell_type": "code",
   "execution_count": 68,
   "metadata": {},
   "outputs": [],
   "source": [
    "# Convert the result to a GeoJson\n",
    "!ogr2ogr -f geojson filtered_depth.json filtered_depth.shp"
   ]
  },
  {
   "cell_type": "code",
   "execution_count": 69,
   "metadata": {},
   "outputs": [],
   "source": [
    "# The catchment of interest and the addressPoints in that catchment\n",
    "!ogr2ogr -f geojson catchment.json data/catchment.shp\n",
    "!ogr2ogr -f geojson addressPoints.json data/addressPoints.shp"
   ]
  },
  {
   "cell_type": "code",
   "execution_count": 70,
   "metadata": {
    "slideshow": {
     "slide_type": "subslide"
    }
   },
   "outputs": [
    {
     "data": {
      "text/html": [
       "\n",
       "        <iframe\n",
       "            width=\"1000\"\n",
       "            height=\"600\"\n",
       "            src=\"5m.html\"\n",
       "            frameborder=\"0\"\n",
       "            allowfullscreen\n",
       "        ></iframe>\n",
       "        "
      ],
      "text/plain": [
       "<IPython.lib.display.IFrame at 0x7f230ec0b0d0>"
      ]
     },
     "execution_count": 70,
     "metadata": {},
     "output_type": "execute_result"
    }
   ],
   "source": [
    "from cybergis import Floret\n",
    "m = Floret('Catchment addresses and 5m-flood', '5m')\n",
    "m.addTMSLayer('HAND', 'hand-color')\n",
    "m.addGeoJson('Vunerable Areas', 'filtered_depth.json')\n",
    "m.addGeoJson('Catchment', 'catchment.json')\n",
    "m.addGeoJson('Address Points', 'addressPoints.json')\n",
    "m.display()"
   ]
  },
  {
   "cell_type": "code",
   "execution_count": 71,
   "metadata": {},
   "outputs": [],
   "source": [
    "from cybergis import Editor\n",
    "area = Editor('filtered_depth.shp')\n",
    "addr = Editor('data/addressPoints.shp')\n",
    "result=[]\n",
    "for i in range(addr.lens):\n",
    "    if -1 != area.index_of_first_feature_contains_point(*addr.shape(i).points[0]):\n",
    "        result.append(i)\n",
    "ans=addr.subshp(result)\n",
    "ans.save('vunerableAddr')\n",
    "!ogr2ogr -f geojson vunerableAddr.json vunerableAddr.shp"
   ]
  },
  {
   "cell_type": "code",
   "execution_count": 72,
   "metadata": {},
   "outputs": [
    {
     "data": {
      "text/html": [
       "\n",
       "        <iframe\n",
       "            width=\"1000\"\n",
       "            height=\"600\"\n",
       "            src=\"flooded.html\"\n",
       "            frameborder=\"0\"\n",
       "            allowfullscreen\n",
       "        ></iframe>\n",
       "        "
      ],
      "text/plain": [
       "<IPython.lib.display.IFrame at 0x7f230eada150>"
      ]
     },
     "execution_count": 72,
     "metadata": {},
     "output_type": "execute_result"
    }
   ],
   "source": [
    "from cybergis import Floret\n",
    "m = Floret('Flooded addresses', 'flooded')\n",
    "m.addTMSLayer('HAND', 'hand-color')\n",
    "m.addGeoJson('Vunerable Areas', 'filtered_depth.json')\n",
    "m.addGeoJson('Catchment', 'catchment.json')\n",
    "m.addGeoJson('Vunerable Addresses', 'vunerableAddr.json')\n",
    "m.display()"
   ]
  },
  {
   "cell_type": "markdown",
   "metadata": {
    "slideshow": {
     "slide_type": "slide"
    }
   },
   "source": [
    "# Congratulations on reaching the end! "
   ]
  }
 ],
 "metadata": {
  "kernelspec": {
   "display_name": "Hydro-Python3",
   "language": "python",
   "name": "hydro-py3"
  },
  "language_info": {
   "codemirror_mode": {
    "name": "ipython",
    "version": 3
   },
   "file_extension": ".py",
   "mimetype": "text/x-python",
   "name": "python",
   "nbconvert_exporter": "python",
   "pygments_lexer": "ipython3",
   "version": "3.7.6"
  }
 },
 "nbformat": 4,
 "nbformat_minor": 2
}
