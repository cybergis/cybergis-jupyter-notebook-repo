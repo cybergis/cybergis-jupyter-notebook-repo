{
 "cells": [
  {
   "cell_type": "markdown",
   "metadata": {},
   "source": [
    "# Python Geospatial Libraries\n",
    "#### Interactive Jupyter Notebook"
   ]
  },
  {
   "cell_type": "markdown",
   "metadata": {},
   "source": [
    "This notebook provides an introduction to <b>Python Geospatial Libraries</b>, mainly <b>GeoPandas</b> (including aspects of <b>Pandas</b>), and <b>Shapely</b>. This notebook was created by Becky Vandewalle based off of prior work by Dandong Yin."
   ]
  },
  {
   "cell_type": "markdown",
   "metadata": {},
   "source": [
    "## Notebook Outline:\n",
    "- [Introduction](#intro)\n",
    "- [Setup](#setup) (run this first!)\n",
    "    - [Import Data](#import_data)\n",
    "- [Introducing the Series](#series_intro)\n",
    "    - [Array-like Behavior](#series_as_array)\n",
    "    - [Dictionary-like Behavior](#series_as_dict)\n",
    "- [Introducing the DataFrame](#DataFrame_intro)\n",
    "    - [From Series to DataFrame](#series_to_DataFrame)\n",
    "    - [Manipulating a DataFrame](#manip_DataFrame)\n",
    "- [Selecting Data in a DataFrame](#select_data)\n",
    "    - [Select by Label](#select_label)\n",
    "    - [Select by (only) Position](#select_pos)\n",
    "    - [Select by Condition](#select_cond)\n",
    "- [Simple Plotting](#simple_plot)\n",
    "- [Introducing the GeoDataFrame](#geodf_intro)\n",
    "    - [Hex Values in the Geography Column](#hex_geo)\n",
    "- [Introducing Shapely](#shapely_intro)\n",
    "    - [Basic Shapes](#basic_shapes)\n",
    "    - [Geometric Attributes and Methods](#geom_ops)\n",
    "- [Exploring Spatial Relationships with Shapely](#spat_relat)\n",
    "- [Performing Spatial Operations](#spat_ops)"
   ]
  },
  {
   "cell_type": "markdown",
   "metadata": {},
   "source": [
    "<a id='intro'></a>\n",
    "## Introduction"
   ]
  },
  {
   "cell_type": "markdown",
   "metadata": {},
   "source": [
    "<b>Pandas</b> is a Python library for data analysis, featuring easy IO, powerful indexing, database operations, and categorical data support. Two primary data structures in Pandas are <b>`Series`</b> and <b>`DataFrame`</b>.\n",
    "\n",
    "<b>GeoPandas</b> extends Pandas by adding core geographical functionality. You can do spatial database-like operations with this library.\n",
    "\n",
    "<b>Shapely</b> is useful for working with vector data using set-like operators."
   ]
  },
  {
   "cell_type": "markdown",
   "metadata": {},
   "source": [
    "Useful documentation for these libraries can be found here:\n",
    "\n",
    ">Pandas https://pandas.pydata.org/pandas-docs/stable/\n",
    "<br>GeoPandas http://geopandas.org/\n",
    "<br>Shapely https://shapely.readthedocs.io/en/stable/manual.html\n",
    "\n",
    ">More information about DataFrames https://pandas.pydata.org/pandas-docs/version/0.22/dsintro.html#DataFrame\n",
    "<br>Shapely attributes and methods https://shapely.readthedocs.io/en/stable/genindex.html"
   ]
  },
  {
   "cell_type": "markdown",
   "metadata": {},
   "source": [
    "<a id='setup'></a>\n",
    "## Setup\n",
    "Run this cell for the rest of the notebook to work!"
   ]
  },
  {
   "cell_type": "code",
   "execution_count": null,
   "metadata": {},
   "outputs": [],
   "source": [
    "# import required libraries\n",
    "\n",
    "%matplotlib inline\n",
    "import os\n",
    "import geopandas as gpd\n",
    "import pandas as pd\n",
    "import numpy as np\n",
    "import shapely"
   ]
  },
  {
   "cell_type": "markdown",
   "metadata": {},
   "source": [
    "<a id='import_data'></a>\n",
    "### Import Data\n",
    "The main dataset used in this notebook is stored as a dBase database file (.dbf). Pandas can not import a dBase file directly, so Geopandas is used to convert it to a format Pandas can read."
   ]
  },
  {
   "cell_type": "code",
   "execution_count": null,
   "metadata": {},
   "outputs": [],
   "source": [
    "# import towns database\n",
    "\n",
    "towns_temp_gpd = gpd.read_file(os.path.join('./pyintro_resources/data','towns.dbf'))\n",
    "towns_table = pd.DataFrame(towns_temp_gpd)[:10]\n",
    "\n",
    "\n",
    "countries = gpd.read_file(os.path.join(r'zip://pyintro_resources/data/ne_10m_admin_0_countries.zip'))\n",
    "cities = gpd.read_file(os.path.join(r'zip://pyintro_resources/data/ne_10m_populated_places.zip'))\n",
    "rivers = gpd.read_file(os.path.join(r'zip://pyintro_resources/data/ne_10m_rivers_lake_centerlines.zip'))\n",
    "\n",
    "# check type\n",
    "\n",
    "type(towns_table)"
   ]
  },
  {
   "cell_type": "markdown",
   "metadata": {},
   "source": [
    "Lets check to make sure the data were properly loaded by looking at the first few rows containing town information (more on the `head` and `tail` functions later)."
   ]
  },
  {
   "cell_type": "code",
   "execution_count": null,
   "metadata": {
    "scrolled": true
   },
   "outputs": [],
   "source": [
    "# show initial values of data frame\n",
    "\n",
    "towns_table.head()"
   ]
  },
  {
   "cell_type": "markdown",
   "metadata": {},
   "source": [
    "We will return to the towns database later. For now, lets start by exploring a `Series`."
   ]
  },
  {
   "cell_type": "markdown",
   "metadata": {},
   "source": [
    "<a id='series_intro'></a>\n",
    "## Introducing the Series"
   ]
  },
  {
   "cell_type": "markdown",
   "metadata": {},
   "source": [
    "A `Series` in Pandas is a <b>one-dimensional labeled array</b> capable of holding a wide variety of data. This array also has an <b>index</b>, which is like a label for each of the values in the array. The basic method to create a `Series` is to call:\n",
    "\n",
    "> pd.Series(data, index=index)\n",
    "\n",
    "Here, data can be many different things, such as:\n",
    "\n",
    "- a Python dictionary\n",
    "- a numpy array\n",
    "- a scalar value (like `5`)\n",
    "\n",
    "Anything like an array, iterable, a dictionary, or a scalar value, will work for data contents!\n",
    "\n",
    "Basically, a `Series` is a list with an index!"
   ]
  },
  {
   "cell_type": "markdown",
   "metadata": {},
   "source": [
    "Here are some examples of constructing a <b>`Series`</b>:"
   ]
  },
  {
   "cell_type": "code",
   "execution_count": null,
   "metadata": {},
   "outputs": [],
   "source": [
    "# create a basic series\n",
    "\n",
    "pd.Series([0,1,2], index=['a', 'b', 'c'])"
   ]
  },
  {
   "cell_type": "markdown",
   "metadata": {},
   "source": [
    "Note that index values are on the left."
   ]
  },
  {
   "cell_type": "code",
   "execution_count": null,
   "metadata": {},
   "outputs": [],
   "source": [
    "# create a series using a dictionary of values and index values\n",
    "\n",
    "pd.Series({'a' : 0, 'b' : 1, 'c' : 2})"
   ]
  },
  {
   "cell_type": "code",
   "execution_count": null,
   "metadata": {},
   "outputs": [],
   "source": [
    "# scalar values will be repeated to be the length of the index\n",
    "\n",
    "pd.Series(5, index=['a', 'b', 'c'])"
   ]
  },
  {
   "cell_type": "code",
   "execution_count": null,
   "metadata": {},
   "outputs": [],
   "source": [
    "# but the opposite does not work\n",
    "# this cell will fail to run!\n",
    "\n",
    "pd.Series([5, 5, 5], index=['a'])"
   ]
  },
  {
   "cell_type": "code",
   "execution_count": null,
   "metadata": {},
   "outputs": [],
   "source": [
    "# if no index is provided, data values will be used as an index\n",
    "\n",
    "pd.Series([0,1,2])"
   ]
  },
  {
   "cell_type": "markdown",
   "metadata": {},
   "source": [
    "Once you have a series object you can access the <b>data</b> and <b>index values</b> directly:"
   ]
  },
  {
   "cell_type": "code",
   "execution_count": null,
   "metadata": {},
   "outputs": [],
   "source": [
    "# see type of series\n",
    "\n",
    "myseries = pd.Series({'a' : 0, 'b' : 1, 'c' : 2})\n",
    "type(myseries)"
   ]
  },
  {
   "cell_type": "code",
   "execution_count": null,
   "metadata": {},
   "outputs": [],
   "source": [
    "# list series values\n",
    "\n",
    "list(myseries.values)"
   ]
  },
  {
   "cell_type": "code",
   "execution_count": null,
   "metadata": {},
   "outputs": [],
   "source": [
    "# list series index values\n",
    "\n",
    "list(myseries.index)"
   ]
  },
  {
   "cell_type": "markdown",
   "metadata": {},
   "source": [
    "<a id='series_as_array'></a>\n",
    "### Array-like Behavior"
   ]
  },
  {
   "cell_type": "markdown",
   "metadata": {},
   "source": [
    "You can access elements of a <b>`Series`</b> using the `index` operator, just like for regular lists and tuples in Python. Remember that Python indices start with 0.\n",
    "\n",
    "Here are a few examples:"
   ]
  },
  {
   "cell_type": "code",
   "execution_count": null,
   "metadata": {},
   "outputs": [],
   "source": [
    "# return the first element\n",
    "\n",
    "myseries[0]"
   ]
  },
  {
   "cell_type": "code",
   "execution_count": null,
   "metadata": {},
   "outputs": [],
   "source": [
    "# select everything up until element index 2 (the third element)\n",
    "\n",
    "myseries[:2]"
   ]
  },
  {
   "cell_type": "code",
   "execution_count": null,
   "metadata": {},
   "outputs": [],
   "source": [
    "# find the median value\n",
    "\n",
    "myseries.median()"
   ]
  },
  {
   "cell_type": "markdown",
   "metadata": {},
   "source": [
    "Operations can be performed element-wise for the `series`."
   ]
  },
  {
   "cell_type": "code",
   "execution_count": null,
   "metadata": {},
   "outputs": [],
   "source": [
    "# see which elements are greater than the medium\n",
    "\n",
    "myseries > myseries.median()"
   ]
  },
  {
   "cell_type": "markdown",
   "metadata": {},
   "source": [
    "Use `any` or `all` to check if a comparison is true for the series as a whole."
   ]
  },
  {
   "cell_type": "code",
   "execution_count": null,
   "metadata": {},
   "outputs": [],
   "source": [
    "# are any elements greater than the medium value?\n",
    "\n",
    "any(myseries > myseries.median())"
   ]
  },
  {
   "cell_type": "code",
   "execution_count": null,
   "metadata": {},
   "outputs": [],
   "source": [
    "# are all elements greater than the medium value?\n",
    "\n",
    "all(myseries > myseries.median())"
   ]
  },
  {
   "cell_type": "markdown",
   "metadata": {},
   "source": [
    "You can also select values using a logical index series."
   ]
  },
  {
   "cell_type": "code",
   "execution_count": null,
   "metadata": {},
   "outputs": [],
   "source": [
    "# select by greater than median\n",
    "\n",
    "myseries[myseries > myseries.median()]"
   ]
  },
  {
   "cell_type": "code",
   "execution_count": null,
   "metadata": {},
   "outputs": [],
   "source": [
    "myseries"
   ]
  },
  {
   "cell_type": "markdown",
   "metadata": {},
   "source": [
    "You can also pass a list of indices to select series elements out of order."
   ]
  },
  {
   "cell_type": "code",
   "execution_count": null,
   "metadata": {},
   "outputs": [],
   "source": [
    "# select by list of indices\n",
    "\n",
    "myseries[[2, 1, 1]]"
   ]
  },
  {
   "cell_type": "markdown",
   "metadata": {},
   "source": [
    "Other operations are performed element-wise too. For example:"
   ]
  },
  {
   "cell_type": "code",
   "execution_count": null,
   "metadata": {},
   "outputs": [],
   "source": [
    "# add series values to self\n",
    "\n",
    "myseries + myseries"
   ]
  },
  {
   "cell_type": "code",
   "execution_count": null,
   "metadata": {},
   "outputs": [],
   "source": [
    "# raise to the 3rd power\n",
    "\n",
    "myseries ** 3"
   ]
  },
  {
   "cell_type": "markdown",
   "metadata": {},
   "source": [
    "<a id='series_as_dict'></a>\n",
    "### Dictionary-like Behavior"
   ]
  },
  {
   "cell_type": "markdown",
   "metadata": {},
   "source": [
    "Since a <b>`Series`</b> has an `index`, you can also work with a `Series` as if it were a Python dictionary:"
   ]
  },
  {
   "cell_type": "code",
   "execution_count": null,
   "metadata": {},
   "outputs": [],
   "source": [
    "# find value with index 'a'\n",
    "\n",
    "myseries['a']"
   ]
  },
  {
   "cell_type": "code",
   "execution_count": null,
   "metadata": {},
   "outputs": [],
   "source": [
    "# set value of 'd'\n",
    "\n",
    "myseries['d'] = 5\n",
    "myseries"
   ]
  },
  {
   "cell_type": "code",
   "execution_count": null,
   "metadata": {},
   "outputs": [],
   "source": [
    "# see if index value in series\n",
    "\n",
    "'f' in myseries"
   ]
  },
  {
   "cell_type": "code",
   "execution_count": null,
   "metadata": {},
   "outputs": [],
   "source": [
    "# see if index value in series\n",
    "\n",
    "'c' in myseries"
   ]
  },
  {
   "cell_type": "markdown",
   "metadata": {},
   "source": [
    "<b>'Naming' a series</b>\n",
    "\n",
    "A `Series` has an optional <b>`name`</b> parameter:"
   ]
  },
  {
   "cell_type": "code",
   "execution_count": null,
   "metadata": {},
   "outputs": [],
   "source": [
    "# see current name (not assigned)\n",
    "\n",
    "print (myseries.name)"
   ]
  },
  {
   "cell_type": "markdown",
   "metadata": {},
   "source": [
    "If you name a `Series`, the name will show up in the information at the bottom:"
   ]
  },
  {
   "cell_type": "code",
   "execution_count": null,
   "metadata": {},
   "outputs": [],
   "source": [
    "# set name\n",
    "\n",
    "myseries.rename('stock_price')"
   ]
  },
  {
   "cell_type": "markdown",
   "metadata": {},
   "source": [
    "<a id='DataFrame_intro'></a>\n",
    "## Introducing the DataFrame"
   ]
  },
  {
   "cell_type": "markdown",
   "metadata": {},
   "source": [
    "What happens when a `Series` gains a dimension? It becomes a <b>`DataFrame`</b>!\n",
    "\n",
    "We can use the `towns` database we imported at the beginning of this Notebook to see how to check out a `DataFrame`. The `head` function is useful to see the first few rows of a `DataFrame`."
   ]
  },
  {
   "cell_type": "code",
   "execution_count": null,
   "metadata": {},
   "outputs": [],
   "source": [
    "# see start of DataFrame\n",
    "\n",
    "towns_table.head()"
   ]
  },
  {
   "cell_type": "markdown",
   "metadata": {},
   "source": [
    "Similarly, the `tail` function can be used to check the end:"
   ]
  },
  {
   "cell_type": "code",
   "execution_count": null,
   "metadata": {},
   "outputs": [],
   "source": [
    "# see end of DataFrame\n",
    "\n",
    "towns_table.tail()"
   ]
  },
  {
   "cell_type": "markdown",
   "metadata": {},
   "source": [
    "Like a `Series`, a `DataFrame` has an <b>index</b>. This one is a numeric range."
   ]
  },
  {
   "cell_type": "code",
   "execution_count": null,
   "metadata": {},
   "outputs": [],
   "source": [
    "# see index\n",
    "\n",
    "towns_table.index"
   ]
  },
  {
   "cell_type": "markdown",
   "metadata": {},
   "source": [
    "You can also list the `DataFrame` <b>column names</b>:"
   ]
  },
  {
   "cell_type": "code",
   "execution_count": null,
   "metadata": {},
   "outputs": [],
   "source": [
    "# see column names\n",
    "\n",
    "towns_table.columns"
   ]
  },
  {
   "cell_type": "markdown",
   "metadata": {},
   "source": [
    "And it is often useful to dig into its <b>values</b>:"
   ]
  },
  {
   "cell_type": "code",
   "execution_count": null,
   "metadata": {},
   "outputs": [],
   "source": [
    "# see values\n",
    "\n",
    "towns_table.values"
   ]
  },
  {
   "cell_type": "markdown",
   "metadata": {},
   "source": [
    "It can be useful to double check the size of the values array. We know from the `index` that there are 351 rows, and now we can see there are 17 columns (by a few different methods)."
   ]
  },
  {
   "cell_type": "code",
   "execution_count": null,
   "metadata": {},
   "outputs": [],
   "source": [
    "# see the size of the values array\n",
    "\n",
    "towns_table.values.shape"
   ]
  },
  {
   "cell_type": "code",
   "execution_count": null,
   "metadata": {},
   "outputs": [],
   "source": [
    "# count columns\n",
    "\n",
    "print (len(towns_table.values[0]))\n",
    "print (len(towns_table.columns))"
   ]
  },
  {
   "cell_type": "markdown",
   "metadata": {},
   "source": [
    "Using index selection we can see all values in one row."
   ]
  },
  {
   "cell_type": "code",
   "execution_count": null,
   "metadata": {},
   "outputs": [],
   "source": [
    "# see one row\n",
    "\n",
    "towns_table.values[5]"
   ]
  },
  {
   "cell_type": "markdown",
   "metadata": {},
   "source": [
    "We can use the double index method to find a value within a particular and row and column:"
   ]
  },
  {
   "cell_type": "code",
   "execution_count": null,
   "metadata": {},
   "outputs": [],
   "source": [
    "# find specific value\n",
    "\n",
    "towns_table.values[5][5]"
   ]
  },
  {
   "cell_type": "markdown",
   "metadata": {},
   "source": [
    "Sometimes it is useful to know summary information about a `DataFrame`. The `describe` makes this clear:"
   ]
  },
  {
   "cell_type": "code",
   "execution_count": null,
   "metadata": {},
   "outputs": [],
   "source": [
    "# summarize DataFrame\n",
    "\n",
    "towns_table.describe()"
   ]
  },
  {
   "cell_type": "markdown",
   "metadata": {},
   "source": [
    "Transposing a `DataFrame` can also come in handy:"
   ]
  },
  {
   "cell_type": "code",
   "execution_count": null,
   "metadata": {},
   "outputs": [],
   "source": [
    "# transpose DataFrame\n",
    "\n",
    "towns_table.T"
   ]
  },
  {
   "cell_type": "markdown",
   "metadata": {},
   "source": [
    "It is also possible to <b>sort</b> a `DataFrame` by values in a particular column:"
   ]
  },
  {
   "cell_type": "code",
   "execution_count": null,
   "metadata": {},
   "outputs": [],
   "source": [
    "# sort DataFrame by column\n",
    "\n",
    "towns_table.sort_values(by='POP2010')"
   ]
  },
  {
   "cell_type": "markdown",
   "metadata": {},
   "source": [
    "<a id='series_to_DataFrame'></a>\n",
    "### From Series to DataFrame"
   ]
  },
  {
   "cell_type": "markdown",
   "metadata": {},
   "source": [
    "Now that we are slightly more familiar with the `DataFrame`, we can go into more detail. Technically, a `DataFrame` is implemented as a list of named `Series` all <b>with the same index values<b>."
   ]
  },
  {
   "cell_type": "code",
   "execution_count": null,
   "metadata": {},
   "outputs": [],
   "source": [
    "# construct a DataFrame\n",
    "\n",
    "myDataFrame = pd.DataFrame(\n",
    "    {'one' : pd.Series([1., 2., 3.], index=['a', 'b', 'c']),\n",
    "     'two' : pd.Series([1., 2., 3., 4.], index=['a', 'b', 'c', 'd'])})\n",
    "\n",
    "myDataFrame"
   ]
  },
  {
   "cell_type": "markdown",
   "metadata": {},
   "source": [
    "Remember the `name` attribute for a `Series`? Since each column in a `DataFrame` is a `Series`, each column name is equivalent to the name of the `Series` for that column."
   ]
  },
  {
   "cell_type": "code",
   "execution_count": null,
   "metadata": {},
   "outputs": [],
   "source": [
    "# show DataFrame column names\n",
    "\n",
    "myDataFrame.columns"
   ]
  },
  {
   "cell_type": "markdown",
   "metadata": {},
   "source": [
    "<a id='manip_DataFrame'></a>\n",
    "### Manipulating a DataFrame"
   ]
  },
  {
   "cell_type": "markdown",
   "metadata": {},
   "source": [
    "Columns in a `DataFrame` can be freely selected, added, deleted (as with the \"dictionary\" aspect of `Series`):"
   ]
  },
  {
   "cell_type": "code",
   "execution_count": null,
   "metadata": {},
   "outputs": [],
   "source": [
    "# create new column from existing columns\n",
    "\n",
    "myDataFrame['three'] = myDataFrame['one'] + myDataFrame['two']\n",
    "myDataFrame"
   ]
  },
  {
   "cell_type": "markdown",
   "metadata": {},
   "source": [
    "Columns in a `DataFrame` do not have to all be the same data type (as we saw with the towns database):"
   ]
  },
  {
   "cell_type": "code",
   "execution_count": null,
   "metadata": {},
   "outputs": [],
   "source": [
    "# create new column from comparison\n",
    "\n",
    "myDataFrame['flag'] = myDataFrame['one'] > 2\n",
    "myDataFrame"
   ]
  },
  {
   "cell_type": "markdown",
   "metadata": {},
   "source": [
    "It is simple to <b>delete</b> a column:"
   ]
  },
  {
   "cell_type": "code",
   "execution_count": null,
   "metadata": {},
   "outputs": [],
   "source": [
    "# delete column\n",
    "\n",
    "del myDataFrame['two']\n",
    "myDataFrame"
   ]
  },
  {
   "cell_type": "markdown",
   "metadata": {},
   "source": [
    "Scalar values assigned to a column repeat to fit the length of the `DataFrame`."
   ]
  },
  {
   "cell_type": "code",
   "execution_count": null,
   "metadata": {},
   "outputs": [],
   "source": [
    "# add column\n",
    "\n",
    "myDataFrame['four'] = 4\n",
    "myDataFrame"
   ]
  },
  {
   "cell_type": "markdown",
   "metadata": {},
   "source": [
    "You can also add a new row to the `DataFrame` using the `append` function."
   ]
  },
  {
   "cell_type": "code",
   "execution_count": null,
   "metadata": {},
   "outputs": [],
   "source": [
    "# add row to DataFrame\n",
    "\n",
    "myDataFrame.append({'one':3,'three':2.0,'flag':False},ignore_index=True)"
   ]
  },
  {
   "cell_type": "markdown",
   "metadata": {},
   "source": [
    "Note that the changes won't affect the original `DataFrame` unless you re-assign it."
   ]
  },
  {
   "cell_type": "code",
   "execution_count": null,
   "metadata": {},
   "outputs": [],
   "source": [
    "myDataFrame"
   ]
  },
  {
   "cell_type": "code",
   "execution_count": null,
   "metadata": {},
   "outputs": [],
   "source": [
    "# add row to DataFrame\n",
    "\n",
    "myDataFrame2 = myDataFrame.append({'one':3,'three':2.0,'flag':False},ignore_index=True)"
   ]
  },
  {
   "cell_type": "code",
   "execution_count": null,
   "metadata": {},
   "outputs": [],
   "source": [
    "myDataFrame2"
   ]
  },
  {
   "cell_type": "markdown",
   "metadata": {},
   "source": [
    "Don't add rows dynamically too often, as `append` makes a full copy of the data, so constantly using this function can create a significant performance hit. A better way is to include all rows while creating the DataFrame.\n",
    "\n",
    "You can also <b>drop</b> rows and columns:"
   ]
  },
  {
   "cell_type": "code",
   "execution_count": null,
   "metadata": {},
   "outputs": [],
   "source": [
    "# drop rows\n",
    "\n",
    "myDataFrame.drop(['a','c'])"
   ]
  },
  {
   "cell_type": "markdown",
   "metadata": {},
   "source": [
    "`axis` specifies whether you are referring to rows or columns:"
   ]
  },
  {
   "cell_type": "code",
   "execution_count": null,
   "metadata": {
    "scrolled": false
   },
   "outputs": [],
   "source": [
    "# drop columns\n",
    "\n",
    "myDataFrame.drop(['one','four'], axis=1)"
   ]
  },
  {
   "cell_type": "markdown",
   "metadata": {},
   "source": [
    "<a id='select_data'></a>\n",
    "## Selecting Data in a DataFrame"
   ]
  },
  {
   "cell_type": "markdown",
   "metadata": {},
   "source": [
    "<b>Selecting data</b> is a common task when dealing with a `DataFrames`."
   ]
  },
  {
   "cell_type": "markdown",
   "metadata": {},
   "source": [
    "<a id='select_label'></a>\n",
    "### Select by Label"
   ]
  },
  {
   "cell_type": "markdown",
   "metadata": {},
   "source": [
    "As seen before, we can select data using `label` values."
   ]
  },
  {
   "cell_type": "code",
   "execution_count": null,
   "metadata": {},
   "outputs": [],
   "source": [
    "# select column by index\n",
    "\n",
    "towns_table['POP2010']"
   ]
  },
  {
   "cell_type": "markdown",
   "metadata": {},
   "source": [
    "We can select just a few rows with index slicing:"
   ]
  },
  {
   "cell_type": "code",
   "execution_count": null,
   "metadata": {},
   "outputs": [],
   "source": [
    "# select rows\n",
    "\n",
    "towns_table[0:3]"
   ]
  },
  {
   "cell_type": "markdown",
   "metadata": {},
   "source": [
    "We can combine row selection using indices and selecting columns using labels using the <b>`loc`</b> function:"
   ]
  },
  {
   "cell_type": "code",
   "execution_count": null,
   "metadata": {},
   "outputs": [],
   "source": [
    "# select rows and columns\n",
    "\n",
    "towns_table.loc[0:2,['POP2010','TOWN']]"
   ]
  },
  {
   "cell_type": "code",
   "execution_count": null,
   "metadata": {},
   "outputs": [],
   "source": [
    "# select row and columns\n",
    "\n",
    "towns_table.loc[3,['POP2010','TOWN','POP1990']] "
   ]
  },
  {
   "cell_type": "code",
   "execution_count": null,
   "metadata": {},
   "outputs": [],
   "source": [
    "# select specific value\n",
    "\n",
    "towns_table.loc[3,'POP2010']"
   ]
  },
  {
   "cell_type": "markdown",
   "metadata": {},
   "source": [
    "<a id='select_pos'></a>\n",
    "### Select by (only) Position"
   ]
  },
  {
   "cell_type": "markdown",
   "metadata": {},
   "source": [
    "Column label values are not necessary - you can select values using just indices with the <b>`iloc`</b> function. Here are some examples:"
   ]
  },
  {
   "cell_type": "code",
   "execution_count": null,
   "metadata": {},
   "outputs": [],
   "source": [
    "# select row\n",
    "\n",
    "towns_table.iloc[3]"
   ]
  },
  {
   "cell_type": "code",
   "execution_count": null,
   "metadata": {},
   "outputs": [],
   "source": [
    "# select some columns from row\n",
    "\n",
    "towns_table.iloc[3,0:5]"
   ]
  },
  {
   "cell_type": "code",
   "execution_count": null,
   "metadata": {},
   "outputs": [],
   "source": [
    "# select some columns from all rows\n",
    "\n",
    "towns_table.iloc[:,0:5]"
   ]
  },
  {
   "cell_type": "code",
   "execution_count": null,
   "metadata": {},
   "outputs": [],
   "source": [
    "# select rows and columns\n",
    "\n",
    "towns_table.iloc[:2,:2]"
   ]
  },
  {
   "cell_type": "markdown",
   "metadata": {},
   "source": [
    "<a id='select_cond'></a>\n",
    "### Select by Condition"
   ]
  },
  {
   "cell_type": "markdown",
   "metadata": {},
   "source": [
    "We can use conditional operators to select `DataFrame` slices that meet specific conditions. Here are examples:"
   ]
  },
  {
   "cell_type": "code",
   "execution_count": null,
   "metadata": {},
   "outputs": [],
   "source": [
    "# select by condition\n",
    "\n",
    "towns_table['POP2010']>16000"
   ]
  },
  {
   "cell_type": "code",
   "execution_count": null,
   "metadata": {},
   "outputs": [],
   "source": [
    "# select by pop difference\n",
    "\n",
    "(towns_table['POP2010']-towns_table['POP1990'])>100"
   ]
  },
  {
   "cell_type": "code",
   "execution_count": null,
   "metadata": {},
   "outputs": [],
   "source": [
    "# select by condition and pop difference\n",
    "\n",
    "(towns_table['POP2010']>16000) & ((towns_table['POP2010']-towns_table['POP1990'])>100)"
   ]
  },
  {
   "cell_type": "code",
   "execution_count": null,
   "metadata": {},
   "outputs": [],
   "source": [
    "# select by condition or pop difference\n",
    "\n",
    "(towns_table['POP2010']>16000) | ((towns_table['POP2010']-towns_table['POP1990'])>100)"
   ]
  },
  {
   "cell_type": "code",
   "execution_count": null,
   "metadata": {},
   "outputs": [],
   "source": [
    "# select values by condition\n",
    "\n",
    "towns_table[towns_table['POP2010']>16000]"
   ]
  },
  {
   "cell_type": "code",
   "execution_count": null,
   "metadata": {},
   "outputs": [],
   "source": [
    "# select values by pop difference\n",
    "\n",
    "towns_table[towns_table['POP1990']-towns_table['POP1980']<100]"
   ]
  },
  {
   "cell_type": "code",
   "execution_count": null,
   "metadata": {},
   "outputs": [],
   "source": [
    "# select values by pop difference and condition\n",
    "\n",
    "towns_table[((towns_table['POP2010']-towns_table['POP1990'])>100) & (towns_table['POP2010']>16000)]"
   ]
  },
  {
   "cell_type": "code",
   "execution_count": null,
   "metadata": {},
   "outputs": [],
   "source": [
    "# create new database from selection\n",
    "\n",
    "simp_db = towns_table.loc[:,['TOWN','POP1980','POP1990','POP2000','POP2010']]"
   ]
  },
  {
   "cell_type": "code",
   "execution_count": null,
   "metadata": {
    "scrolled": true
   },
   "outputs": [],
   "source": [
    "simp_db"
   ]
  },
  {
   "cell_type": "markdown",
   "metadata": {},
   "source": [
    "<a id='simple_plot'></a>\n",
    "## Simple Plotting"
   ]
  },
  {
   "cell_type": "markdown",
   "metadata": {},
   "source": [
    "It can be quick to get a simple `DataFrame` plot up, but finessing the plot can take some time. Our first plot isn't that helpful..."
   ]
  },
  {
   "cell_type": "code",
   "execution_count": null,
   "metadata": {},
   "outputs": [],
   "source": [
    "# basic plot\n",
    "\n",
    "simp_db.plot();"
   ]
  },
  {
   "cell_type": "code",
   "execution_count": null,
   "metadata": {},
   "outputs": [],
   "source": [
    "# transpose\n",
    "\n",
    "simp_db.T"
   ]
  },
  {
   "cell_type": "code",
   "execution_count": null,
   "metadata": {},
   "outputs": [],
   "source": [
    "# this doesn't work!\n",
    "\n",
    "simp_db.T.plot()"
   ]
  },
  {
   "cell_type": "markdown",
   "metadata": {},
   "source": [
    "Lets try to get the town names to plot!"
   ]
  },
  {
   "cell_type": "code",
   "execution_count": null,
   "metadata": {},
   "outputs": [],
   "source": [
    "# rename columns with town names\n",
    "\n",
    "simp_db2 = simp_db.T.rename(columns=simp_db.T.iloc[0])\n",
    "simp_db2"
   ]
  },
  {
   "cell_type": "code",
   "execution_count": null,
   "metadata": {},
   "outputs": [],
   "source": [
    "# now drop town column\n",
    "\n",
    "simp_db3 = simp_db2.drop(['TOWN'])"
   ]
  },
  {
   "cell_type": "markdown",
   "metadata": {},
   "source": [
    "Now we have town names on our plot. Perhaps, a different chart type would work better though!"
   ]
  },
  {
   "cell_type": "code",
   "execution_count": null,
   "metadata": {},
   "outputs": [],
   "source": [
    "# plot\n",
    "\n",
    "simp_db3.plot(figsize=(14,12));"
   ]
  },
  {
   "cell_type": "code",
   "execution_count": null,
   "metadata": {},
   "outputs": [],
   "source": [
    "# bar plot\n",
    "\n",
    "simp_db3.plot(kind='bar',figsize=(14,12));"
   ]
  },
  {
   "cell_type": "markdown",
   "metadata": {},
   "source": [
    "<a id='geodf_intro'></a>\n",
    "## Introducing the GeoDataFrame"
   ]
  },
  {
   "cell_type": "markdown",
   "metadata": {},
   "source": [
    "So far we have been working with Pandas' `DataFrame`. Geopandas' <b>`GeoDataFrame`</b> extends the `DataFrame` with very useful spatial functions.\n",
    "\n",
    "Just as a reminder, we have been working with a `DataFrame`."
   ]
  },
  {
   "cell_type": "code",
   "execution_count": null,
   "metadata": {},
   "outputs": [],
   "source": [
    "# a DataFrame\n",
    "\n",
    "type(towns_table)"
   ]
  },
  {
   "cell_type": "code",
   "execution_count": null,
   "metadata": {},
   "outputs": [],
   "source": [
    "# start of table\n",
    "\n",
    "towns_table.head()"
   ]
  },
  {
   "cell_type": "markdown",
   "metadata": {},
   "source": [
    "We can easily convert the `DataFrame` to a `GeoDataFrame`:"
   ]
  },
  {
   "cell_type": "code",
   "execution_count": null,
   "metadata": {},
   "outputs": [],
   "source": [
    "# convert to GeoDataFrame\n",
    "\n",
    "towns_gdb = gpd.GeoDataFrame(towns_table, geometry='geometry')"
   ]
  },
  {
   "cell_type": "markdown",
   "metadata": {},
   "source": [
    "Do you notice anything different in the table?"
   ]
  },
  {
   "cell_type": "code",
   "execution_count": null,
   "metadata": {},
   "outputs": [],
   "source": [
    "# start of GeoDataFrame\n",
    "\n",
    "towns_gdb.head()"
   ]
  },
  {
   "cell_type": "markdown",
   "metadata": {},
   "source": [
    "Not much, but the type is different:"
   ]
  },
  {
   "cell_type": "code",
   "execution_count": null,
   "metadata": {},
   "outputs": [],
   "source": [
    "# a GeoDataFrame\n",
    "\n",
    "type(towns_gdb)"
   ]
  },
  {
   "cell_type": "markdown",
   "metadata": {},
   "source": [
    "What is so cool about a <b>`GeoDataFrame`</b>?  For one thing, normal `DataFrame` data  operations all still apply. However, simple plotting produces entirely different results!"
   ]
  },
  {
   "cell_type": "code",
   "execution_count": null,
   "metadata": {},
   "outputs": [],
   "source": [
    "# plot GeoDataFrame\n",
    "\n",
    "towns_gdb.plot();"
   ]
  },
  {
   "cell_type": "markdown",
   "metadata": {},
   "source": [
    "You can create a `GeoDataFrame` directly from a file:"
   ]
  },
  {
   "cell_type": "code",
   "execution_count": null,
   "metadata": {},
   "outputs": [],
   "source": [
    "# create GeoDataFrame from file\n",
    "\n",
    "chicago_gdf = gpd.GeoDataFrame.from_file(os.path.join('./pyintro_resources/data', \n",
    "                                                      'Chicago_Community.geojson'))"
   ]
  },
  {
   "cell_type": "markdown",
   "metadata": {},
   "source": [
    "And plot it:"
   ]
  },
  {
   "cell_type": "code",
   "execution_count": null,
   "metadata": {},
   "outputs": [],
   "source": [
    "# plot GeoDataFrame\n",
    "\n",
    "chicago_gdf.plot();"
   ]
  },
  {
   "cell_type": "markdown",
   "metadata": {},
   "source": [
    "And start to make more detailed plots, like these below:"
   ]
  },
  {
   "cell_type": "code",
   "execution_count": null,
   "metadata": {},
   "outputs": [],
   "source": [
    "# plot GeoDataFrame column\n",
    "\n",
    "chicago_gdf.plot(column='community', figsize=(14,12));"
   ]
  },
  {
   "cell_type": "code",
   "execution_count": null,
   "metadata": {},
   "outputs": [],
   "source": [
    "# plot GeoDataFrame\n",
    "\n",
    "towns_gdb.plot(column='POP2010', cmap='hot_r', legend=True);"
   ]
  },
  {
   "cell_type": "markdown",
   "metadata": {},
   "source": [
    "<a id='hex_geo'></a>\n",
    "### Hex Values in the Geography Column"
   ]
  },
  {
   "cell_type": "markdown",
   "metadata": {},
   "source": [
    "Sometimes when you import geospatial data the geometry values may look a little off, like long strings of numbers and letters. If this is the case, it is likely <b>hex-encoded</b>."
   ]
  },
  {
   "cell_type": "code",
   "execution_count": null,
   "metadata": {},
   "outputs": [],
   "source": [
    "# example of hex encoded geometry\n",
    "import binascii\n",
    "\n",
    "hex_geo = binascii.hexlify(towns_gdb.loc[0, 'geometry'].wkb)\n",
    "hex_geo\n",
    "\n",
    "#hex_geo = towns_gdb.loc[0, 'geometry'].wkb.encode('hex')\n",
    "#hex_geo"
   ]
  },
  {
   "cell_type": "markdown",
   "metadata": {},
   "source": [
    "If that is the case, you can use <b>Shapely</b>'s `wkb.loads` function to convert it to something more readable (and workable). "
   ]
  },
  {
   "cell_type": "code",
   "execution_count": null,
   "metadata": {},
   "outputs": [],
   "source": [
    "# convert hex to polygon\n",
    "\n",
    "non_hex_geo = shapely.wkb.loads(hex_geo.decode(\"ascii\"), hex=True)"
   ]
  },
  {
   "cell_type": "code",
   "execution_count": null,
   "metadata": {},
   "outputs": [],
   "source": [
    "# look at polygon string \n",
    "\n",
    "str(non_hex_geo)"
   ]
  },
  {
   "cell_type": "code",
   "execution_count": null,
   "metadata": {},
   "outputs": [],
   "source": [
    "# see polygon type\n",
    "\n",
    "type(non_hex_geo)"
   ]
  },
  {
   "cell_type": "markdown",
   "metadata": {},
   "source": [
    "This provides a nice opportunity to introduce <b>Shapely</b>!"
   ]
  },
  {
   "cell_type": "markdown",
   "metadata": {},
   "source": [
    "<a id='shapely_intro'></a>\n",
    "## Introducing Shapely"
   ]
  },
  {
   "cell_type": "markdown",
   "metadata": {},
   "source": [
    "<b>Shapely</b> is a really helpful library for working with geometries. You can use it both for simple geometric operations and working with complicated real-world geometries."
   ]
  },
  {
   "cell_type": "markdown",
   "metadata": {},
   "source": [
    "<a id='basic_shapes'></a>\n",
    "### Basic Shapes"
   ]
  },
  {
   "cell_type": "markdown",
   "metadata": {},
   "source": [
    "Some useful shapes are `Point`s, `Line`s, and `Polygon`s. You can combine them into `MultiPoint`s, `MultiLineString`s, and `MultiPolygon`s. Here are a few examples of creating and viewing basic shapes:"
   ]
  },
  {
   "cell_type": "code",
   "execution_count": null,
   "metadata": {},
   "outputs": [],
   "source": [
    "# create point\n",
    "\n",
    "sh_point = shapely.geometry.Point(0, 1)"
   ]
  },
  {
   "cell_type": "code",
   "execution_count": null,
   "metadata": {},
   "outputs": [],
   "source": [
    "# view point\n",
    "\n",
    "sh_point"
   ]
  },
  {
   "cell_type": "code",
   "execution_count": null,
   "metadata": {},
   "outputs": [],
   "source": [
    "# view object type\n",
    "\n",
    "type(sh_point)"
   ]
  },
  {
   "cell_type": "code",
   "execution_count": null,
   "metadata": {},
   "outputs": [],
   "source": [
    "# create line\n",
    "\n",
    "sh_line = shapely.geometry.LineString([(0, 0), (1, 1)])"
   ]
  },
  {
   "cell_type": "code",
   "execution_count": null,
   "metadata": {},
   "outputs": [],
   "source": [
    "# view line\n",
    "\n",
    "sh_line"
   ]
  },
  {
   "cell_type": "code",
   "execution_count": null,
   "metadata": {},
   "outputs": [],
   "source": [
    "# view object type\n",
    "\n",
    "type(sh_line)"
   ]
  },
  {
   "cell_type": "code",
   "execution_count": null,
   "metadata": {},
   "outputs": [],
   "source": [
    "# create polygons\n",
    "\n",
    "sh_polygon1 = shapely.geometry.Polygon([(0, 0), (1, 1), (1, 0)])\n",
    "sh_polygon2 = shapely.geometry.Polygon([(2, 2), (3, 3), (3, 2), (2.75, 2.25)])"
   ]
  },
  {
   "cell_type": "code",
   "execution_count": null,
   "metadata": {},
   "outputs": [],
   "source": [
    "# view polygon\n",
    "\n",
    "sh_polygon1"
   ]
  },
  {
   "cell_type": "code",
   "execution_count": null,
   "metadata": {},
   "outputs": [],
   "source": [
    "# view object type\n",
    "\n",
    "type(sh_polygon1)"
   ]
  },
  {
   "cell_type": "code",
   "execution_count": null,
   "metadata": {},
   "outputs": [],
   "source": [
    "# create multipolygons\n",
    "\n",
    "sh_polygons = shapely.geometry.MultiPolygon([sh_polygon1, sh_polygon2])"
   ]
  },
  {
   "cell_type": "code",
   "execution_count": null,
   "metadata": {},
   "outputs": [],
   "source": [
    "# view multipolygons\n",
    "\n",
    "sh_polygons"
   ]
  },
  {
   "cell_type": "code",
   "execution_count": null,
   "metadata": {},
   "outputs": [],
   "source": [
    "# view object type\n",
    "\n",
    "type(sh_polygons)"
   ]
  },
  {
   "cell_type": "markdown",
   "metadata": {},
   "source": [
    "Note that the length is two - there are two polygons!"
   ]
  },
  {
   "cell_type": "code",
   "execution_count": null,
   "metadata": {},
   "outputs": [],
   "source": [
    "# view length\n",
    "\n",
    "len(sh_polygons)"
   ]
  },
  {
   "cell_type": "markdown",
   "metadata": {},
   "source": [
    "Well Known Text, or <b>`wkt`</b> is a human-readable way to represent geometry."
   ]
  },
  {
   "cell_type": "code",
   "execution_count": null,
   "metadata": {},
   "outputs": [],
   "source": [
    "# view text\n",
    "\n",
    "sh_polygons.wkt"
   ]
  },
  {
   "cell_type": "markdown",
   "metadata": {},
   "source": [
    "<a id='geom_ops'></a>\n",
    "### Geometric Attributes and Methods"
   ]
  },
  {
   "cell_type": "markdown",
   "metadata": {},
   "source": [
    "Once you have constructed your shapes, there are a variety of attributes you can look up or methods you can use on the geometric objects. Here are a few examples:"
   ]
  },
  {
   "cell_type": "code",
   "execution_count": null,
   "metadata": {},
   "outputs": [],
   "source": [
    "# find centroid\n",
    "\n",
    "sh_polygons.centroid"
   ]
  },
  {
   "cell_type": "code",
   "execution_count": null,
   "metadata": {},
   "outputs": [],
   "source": [
    "# find centroid text\n",
    "\n",
    "sh_polygons.centroid.wkt"
   ]
  },
  {
   "cell_type": "code",
   "execution_count": null,
   "metadata": {},
   "outputs": [],
   "source": [
    "# find area\n",
    "\n",
    "sh_polygons.area"
   ]
  },
  {
   "cell_type": "code",
   "execution_count": null,
   "metadata": {},
   "outputs": [],
   "source": [
    "# find length\n",
    "\n",
    "sh_polygons.length"
   ]
  },
  {
   "cell_type": "code",
   "execution_count": null,
   "metadata": {},
   "outputs": [],
   "source": [
    "# find boundary\n",
    "\n",
    "sh_polygons.boundary"
   ]
  },
  {
   "cell_type": "code",
   "execution_count": null,
   "metadata": {},
   "outputs": [],
   "source": [
    "# find bounds\n",
    "\n",
    "sh_polygons.bounds"
   ]
  },
  {
   "cell_type": "code",
   "execution_count": null,
   "metadata": {},
   "outputs": [],
   "source": [
    "# find envelope\n",
    "\n",
    "sh_polygons.envelope"
   ]
  },
  {
   "cell_type": "markdown",
   "metadata": {},
   "source": [
    "A polygon is created from a <b>set of rings</b> representing <b>interior</b> and <b>exterior</b> coordinates."
   ]
  },
  {
   "cell_type": "code",
   "execution_count": null,
   "metadata": {},
   "outputs": [],
   "source": [
    "# create polygon with hole\n",
    "\n",
    "sh_polygon3 = shapely.geometry.Polygon([(0, 0), (0, 1), (1, 1), (1, 0)], \n",
    "                                       [[(0.25, 0.25), (0.75, 0.25), (0.75, 0.75)],\n",
    "                                       [(0.25, 0.5), (0.25, 0.75), (0.5, 0.75)]])"
   ]
  },
  {
   "cell_type": "code",
   "execution_count": null,
   "metadata": {},
   "outputs": [],
   "source": [
    "# view polygon\n",
    "\n",
    "sh_polygon3"
   ]
  },
  {
   "cell_type": "code",
   "execution_count": null,
   "metadata": {},
   "outputs": [],
   "source": [
    "# view exterior coordinates\n",
    "\n",
    "list(sh_polygon3.exterior.coords)"
   ]
  },
  {
   "cell_type": "code",
   "execution_count": null,
   "metadata": {},
   "outputs": [],
   "source": [
    "# view interior coordinates\n",
    "\n",
    "for inter in list(sh_polygon3.interiors):\n",
    "    print (inter.bounds)"
   ]
  },
  {
   "cell_type": "markdown",
   "metadata": {},
   "source": [
    "You can also <b>simplify</b> geometry:"
   ]
  },
  {
   "cell_type": "code",
   "execution_count": null,
   "metadata": {},
   "outputs": [],
   "source": [
    "# select complex geometry\n",
    "\n",
    "or_geo = towns_gdb.loc[1, 'geometry']\n",
    "or_geo"
   ]
  },
  {
   "cell_type": "code",
   "execution_count": null,
   "metadata": {},
   "outputs": [],
   "source": [
    "# simplify geometry\n",
    "\n",
    "or_geo.simplify(50)"
   ]
  },
  {
   "cell_type": "code",
   "execution_count": null,
   "metadata": {},
   "outputs": [],
   "source": [
    "# simplify geometry further\n",
    "\n",
    "or_geo.simplify(500)"
   ]
  },
  {
   "cell_type": "markdown",
   "metadata": {},
   "source": [
    "<a id='spat_relat'></a>\n",
    "## Exploring Spatial Relationships with Shapely"
   ]
  },
  {
   "cell_type": "markdown",
   "metadata": {},
   "source": [
    "(Materials adapted from https://github.com/jorisvandenbossche/geopandas-tutorial)\n",
    "\n",
    "<b>Spatial relationships</b> describe how two spatial objects relate to each other (e.g. overlap, intersect, contain...).\n",
    "\n",
    "The topological, set-theoretic relationships in GIS are typically based on the DE-9IM model. See https://en.wikipedia.org/wiki/Spatial_relation for more information.\n",
    "\n",
    "Here are some spatial relations illustrated:\n",
    "![Krauss, CC BY-SA 3.0](https://upload.wikimedia.org/wikipedia/commons/5/55/TopologicSpatialRelarions2.png?1551891285514)\n",
    "\n",
    "Lets explore these with <b>Shapely</b>!"
   ]
  },
  {
   "cell_type": "markdown",
   "metadata": {},
   "source": [
    "We'll first set up some places and then see how their geometries interact."
   ]
  },
  {
   "cell_type": "code",
   "execution_count": null,
   "metadata": {},
   "outputs": [],
   "source": [
    "# retrieve Belgium geometry from countries database\n",
    "\n",
    "belgium = countries.loc[countries['NAME'] == 'Belgium', 'geometry'].unary_union\n",
    "belgium"
   ]
  },
  {
   "cell_type": "code",
   "execution_count": null,
   "metadata": {},
   "outputs": [],
   "source": [
    "# retrieve Paris geometry from cities database\n",
    "\n",
    "paris = cities.loc[cities['NAME'] == 'Paris', 'geometry'].unary_union\n",
    "paris"
   ]
  },
  {
   "cell_type": "code",
   "execution_count": null,
   "metadata": {},
   "outputs": [],
   "source": [
    "# retrieve Brussels geometry from cities database\n",
    "\n",
    "brussels = cities.loc[cities['NAME'] == 'Brussels', 'geometry'].unary_union\n",
    "brussels"
   ]
  },
  {
   "cell_type": "markdown",
   "metadata": {},
   "source": [
    "Let's draw a line between Paris and Brussels:"
   ]
  },
  {
   "cell_type": "code",
   "execution_count": null,
   "metadata": {},
   "outputs": [],
   "source": [
    "# create line between cities\n",
    "\n",
    "city_connect = shapely.geometry.LineString([paris, brussels])"
   ]
  },
  {
   "cell_type": "markdown",
   "metadata": {},
   "source": [
    "Now we can plot everything:"
   ]
  },
  {
   "cell_type": "code",
   "execution_count": null,
   "metadata": {},
   "outputs": [],
   "source": [
    "# plot objects\n",
    "\n",
    "gpd.GeoSeries([belgium, paris, brussels, city_connect]).plot(cmap='tab10');"
   ]
  },
  {
   "cell_type": "markdown",
   "metadata": {},
   "source": [
    "We can easily <b>test for geometric relations</b> between objects, like in these examples below:"
   ]
  },
  {
   "cell_type": "code",
   "execution_count": null,
   "metadata": {},
   "outputs": [],
   "source": [
    "# check within\n",
    "\n",
    "brussels.within(belgium)"
   ]
  },
  {
   "cell_type": "code",
   "execution_count": null,
   "metadata": {},
   "outputs": [],
   "source": [
    "# check contains\n",
    "\n",
    "belgium.contains(brussels)"
   ]
  },
  {
   "cell_type": "code",
   "execution_count": null,
   "metadata": {},
   "outputs": [],
   "source": [
    "# check within\n",
    "\n",
    "paris.within(belgium)"
   ]
  },
  {
   "cell_type": "code",
   "execution_count": null,
   "metadata": {},
   "outputs": [],
   "source": [
    "# check contains\n",
    "\n",
    "belgium.contains(paris)"
   ]
  },
  {
   "cell_type": "markdown",
   "metadata": {},
   "source": [
    "Similarly, a `GeoDataFrame` (and `GeoSeries`) will also take spatial relationships:"
   ]
  },
  {
   "cell_type": "code",
   "execution_count": null,
   "metadata": {},
   "outputs": [],
   "source": [
    "# find paris in countries database\n",
    "\n",
    "countries[countries.contains(paris)]"
   ]
  },
  {
   "cell_type": "code",
   "execution_count": null,
   "metadata": {},
   "outputs": [],
   "source": [
    "# select Amazon river from rivers database\n",
    "\n",
    "amazon = rivers[rivers['name'] == 'Amazonas'].geometry.unary_union\n",
    "amazon"
   ]
  },
  {
   "cell_type": "code",
   "execution_count": null,
   "metadata": {},
   "outputs": [],
   "source": [
    "# find countries that intersect Amazon river\n",
    "\n",
    "countries[countries.intersects(amazon)]"
   ]
  },
  {
   "cell_type": "code",
   "execution_count": null,
   "metadata": {},
   "outputs": [],
   "source": [
    "# map countries that intersect Amazon\n",
    "\n",
    "countries[countries.intersects(amazon)]['geometry']\\\n",
    ".append(gpd.GeoSeries(amazon)).plot(cmap='tab10');"
   ]
  },
  {
   "cell_type": "markdown",
   "metadata": {},
   "source": [
    "Here is another example with the Danube:"
   ]
  },
  {
   "cell_type": "code",
   "execution_count": null,
   "metadata": {},
   "outputs": [],
   "source": [
    "# find and plot countries that intersect Danube river\n",
    "\n",
    "danube = rivers[rivers['name'] == 'Danube'].geometry.unary_union\n",
    "countries[countries.intersects(danube)]['geometry']\\\n",
    ".append(gpd.GeoSeries(danube),ignore_index=True).plot(cmap='tab10');"
   ]
  },
  {
   "cell_type": "markdown",
   "metadata": {},
   "source": [
    "<a id='spat_ops'></a>\n",
    "## Performing Spatial Operations"
   ]
  },
  {
   "cell_type": "markdown",
   "metadata": {},
   "source": [
    "Finally, we can perform spatial operations using Shapely. Let's look at a few examples:"
   ]
  },
  {
   "cell_type": "code",
   "execution_count": null,
   "metadata": {},
   "outputs": [],
   "source": [
    "# view amazon river\n",
    "\n",
    "amazon"
   ]
  },
  {
   "cell_type": "markdown",
   "metadata": {},
   "source": [
    "Shapely makes it easy to create a buffer around a feature:"
   ]
  },
  {
   "cell_type": "code",
   "execution_count": null,
   "metadata": {},
   "outputs": [],
   "source": [
    "# create a buffer\n",
    "\n",
    "super_amazon = amazon.buffer(10)\n",
    "super_amazon"
   ]
  },
  {
   "cell_type": "code",
   "execution_count": null,
   "metadata": {},
   "outputs": [],
   "source": [
    "# select Brazil from countries database\n",
    "\n",
    "brazil = countries[countries['NAME']=='Brazil']['geometry'].unary_union"
   ]
  },
  {
   "cell_type": "code",
   "execution_count": null,
   "metadata": {},
   "outputs": [],
   "source": [
    "# plot Brazil, the Amazon river, and the buffer\n",
    "\n",
    "gpd.GeoSeries([brazil, amazon, super_amazon]).plot(alpha=0.5, cmap='tab10');"
   ]
  },
  {
   "cell_type": "markdown",
   "metadata": {},
   "source": [
    "Now we can view spatial relations between these polygons:"
   ]
  },
  {
   "cell_type": "code",
   "execution_count": null,
   "metadata": {},
   "outputs": [],
   "source": [
    "# intersects\n",
    "\n",
    "super_amazon.intersection(brazil)"
   ]
  },
  {
   "cell_type": "code",
   "execution_count": null,
   "metadata": {},
   "outputs": [],
   "source": [
    "# union\n",
    "\n",
    "super_amazon.union(brazil)"
   ]
  },
  {
   "cell_type": "code",
   "execution_count": null,
   "metadata": {},
   "outputs": [],
   "source": [
    "# union\n",
    "\n",
    "brazil.union(super_amazon)"
   ]
  },
  {
   "cell_type": "markdown",
   "metadata": {},
   "source": [
    "Note that for some spatial relations, the order in which they are called matters."
   ]
  },
  {
   "cell_type": "code",
   "execution_count": null,
   "metadata": {},
   "outputs": [],
   "source": [
    "# difference\n",
    "\n",
    "super_amazon.difference(brazil)"
   ]
  },
  {
   "cell_type": "code",
   "execution_count": null,
   "metadata": {},
   "outputs": [],
   "source": [
    "# difference\n",
    "\n",
    "brazil.difference(super_amazon)"
   ]
  },
  {
   "cell_type": "markdown",
   "metadata": {},
   "source": [
    "Lets end with a few more examples."
   ]
  },
  {
   "cell_type": "code",
   "execution_count": null,
   "metadata": {
    "scrolled": true
   },
   "outputs": [],
   "source": [
    "# find countries in South America\n",
    "\n",
    "countries[countries['CONTINENT'] == 'South America']"
   ]
  },
  {
   "cell_type": "code",
   "execution_count": null,
   "metadata": {},
   "outputs": [],
   "source": [
    "# find geometry for countries \n",
    "\n",
    "countries[countries['CONTINENT'] == 'South America'].unary_union"
   ]
  },
  {
   "cell_type": "code",
   "execution_count": null,
   "metadata": {},
   "outputs": [],
   "source": [
    "# plot all countries\n",
    "\n",
    "countries.plot(column='NAME', cmap='tab20c', figsize=(14,14), categorical=True);"
   ]
  },
  {
   "cell_type": "markdown",
   "metadata": {},
   "source": [
    "Now go forth and explore!"
   ]
  }
 ],
 "metadata": {
  "kernelspec": {
   "display_name": "Python 3",
   "language": "python",
   "name": "python3-0.8.0"
  },
  "language_info": {
   "codemirror_mode": {
    "name": "ipython",
    "version": 3
   },
   "file_extension": ".py",
   "mimetype": "text/x-python",
   "name": "python",
   "nbconvert_exporter": "python",
   "pygments_lexer": "ipython3",
   "version": "3.7.3"
  }
 },
 "nbformat": 4,
 "nbformat_minor": 2
}
