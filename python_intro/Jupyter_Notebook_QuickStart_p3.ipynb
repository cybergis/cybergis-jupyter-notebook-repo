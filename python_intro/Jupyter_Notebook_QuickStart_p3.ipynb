{
 "cells": [
  {
   "cell_type": "markdown",
   "metadata": {},
   "source": [
    "# Jupyter Notebooks: Quick Start\n",
    "#### Interactive Jupyter Notebook"
   ]
  },
  {
   "cell_type": "markdown",
   "metadata": {},
   "source": [
    "This notebook provides a very basic introduction to <b>Jupyter Notebooks</b>, including how to work with the notebook dashboard and create a new notebook. This notebook was created by Becky Vandewalle."
   ]
  },
  {
   "cell_type": "markdown",
   "metadata": {},
   "source": [
    "## Notebook Outline:\n",
    "- [Introduction](#intro)\n",
    "- [The Notebook Dashboard](#dash)\n",
    "    - [Creating a new Notebook](#new)\n",
    "    - [Opening an existing Notebook](#open)\n",
    "    - [Working with Files and Folders on the Dashboard](#files)\n",
    "- [The Notebook Window](#window)\n",
    "    - [Running A Cell](#run)\n",
    "    - [Saving the Notebook](#save)\n",
    "- [Diving deeper into the Notebook Window](#deep)\n",
    "    - [The Menu Bar and Tool Bar](#menu)\n",
    "    - [Finding More Shortcuts](#shortcut)\n",
    "    - [Getting Help](#help)\n",
    "- [Basic Notebook Editing](#edit)\n",
    "    - [Command Mode vs Edit Mode](#command)\n",
    "    - [Creating Cells](#create)\n",
    "    - [Deleting Cells](#delete)\n",
    "    - [Cell Types](#types)\n",
    "- [Next Steps](#next)"
   ]
  },
  {
   "cell_type": "markdown",
   "metadata": {},
   "source": [
    "<a id='intro'></a>\n",
    "## Introduction"
   ]
  },
  {
   "cell_type": "markdown",
   "metadata": {},
   "source": [
    "The Jupyter Notebook interface makes interactive computing easily accessible. You can access notebooks and files using a web dashboard, and explore notebooks in their own page."
   ]
  },
  {
   "cell_type": "code",
   "execution_count": null,
   "metadata": {},
   "outputs": [],
   "source": [
    "# import required libraries to continue\n",
    "\n",
    "import os\n",
    "from IPython.display import HTML\n",
    "from IPython.display import Image"
   ]
  },
  {
   "cell_type": "markdown",
   "metadata": {},
   "source": [
    "<a id='dash'></a>\n",
    "## The Notebook Dashboard"
   ]
  },
  {
   "cell_type": "markdown",
   "metadata": {},
   "source": [
    "After typing <b>cybergisx.cigi.illinois.edu</b> into an internet browser, the first page to show up will be the <b>Notebook Dashboard</b>. The Dashboard allows you to view and work with your Notebooks, files, and folders."
   ]
  },
  {
   "cell_type": "code",
   "execution_count": null,
   "metadata": {},
   "outputs": [],
   "source": [
    "Image(os.path.join('pyintro_resources/img', 'Jupyter_dashboard.png'))"
   ]
  },
  {
   "cell_type": "markdown",
   "metadata": {},
   "source": [
    "<a id='new'></a>\n",
    "### Creating a new Notebook"
   ]
  },
  {
   "cell_type": "markdown",
   "metadata": {},
   "source": [
    "To create a new notebook, click <b>New -> Notebook</b> in the Dashboard."
   ]
  },
  {
   "cell_type": "code",
   "execution_count": null,
   "metadata": {},
   "outputs": [],
   "source": [
    "HTML('<video width=\"800\" controls><source src=\"mov/new_notebook.mov\" type=\"video/mp4\"></video>')"
   ]
  },
  {
   "cell_type": "markdown",
   "metadata": {},
   "source": [
    "<a id='open'></a>\n",
    "### Opening an existing Notebook"
   ]
  },
  {
   "cell_type": "markdown",
   "metadata": {},
   "source": [
    "To open an existing notebook, click on the <b>Notebook name</b> in the Dashboard."
   ]
  },
  {
   "cell_type": "code",
   "execution_count": null,
   "metadata": {},
   "outputs": [],
   "source": [
    "HTML('<video width=\"800\" controls><source src=\"mov/open_notebook.mov\" type=\"video/mp4\"></video>')"
   ]
  },
  {
   "cell_type": "markdown",
   "metadata": {},
   "source": [
    "<a id='files'></a>\n",
    "### Working with Files and Folders on the Dashboard"
   ]
  },
  {
   "cell_type": "markdown",
   "metadata": {},
   "source": [
    "- The <b>New</b> dropdown box can also be used to create new files or folders, or open a new terminal session. \n",
    "- The <b>Upload</b> button, located to the left of the <b>New</b> dropdown box, can be used to upload a file to the Dashboard from your computer.\n",
    "- Clicking the <b>Selection</b> toggle, located to the left of the each file or folder, can be used for common actions such as renaming, copying, moving, viewing, or deleting that item. The menu appears near the top of the Dashboard. The options available will change depending on the item you select and its current state, for example, you can use this to shut down a running Notebook.\n",
    "\n",
    "These components are highlighted in the following image."
   ]
  },
  {
   "cell_type": "code",
   "execution_count": null,
   "metadata": {},
   "outputs": [],
   "source": [
    "Image(os.path.join('pyintro_resources/img', 'Jupyter_select_annotate.png'))"
   ]
  },
  {
   "cell_type": "markdown",
   "metadata": {},
   "source": [
    "<a id='window'></a>\n",
    "## The Notebook Window"
   ]
  },
  {
   "cell_type": "markdown",
   "metadata": {},
   "source": [
    "Once you open a Jupyter Notebook, you can interact with it or edit it in the <b>Notebook Window</b>. An example of this interface is displayed below."
   ]
  },
  {
   "cell_type": "code",
   "execution_count": null,
   "metadata": {},
   "outputs": [],
   "source": [
    "Image(os.path.join('pyintro_resources/img', 'Jupyter_notebook_head.png'))"
   ]
  },
  {
   "cell_type": "markdown",
   "metadata": {},
   "source": [
    "<a id='run'></a>\n",
    "### Running A Cell"
   ]
  },
  {
   "cell_type": "markdown",
   "metadata": {},
   "source": [
    "To run a cell or cells, first select the cells you want to run, and then you can either:\n",
    "- select <b>Cell -> Run Cells</b> in the Menu Bar\n",
    "- press the <b>Run button</b> in the Tool Bar\n",
    "- press <b>Enter</b> (<b>or Shift+Return</b>)"
   ]
  },
  {
   "cell_type": "code",
   "execution_count": null,
   "metadata": {
    "scrolled": false
   },
   "outputs": [],
   "source": [
    "HTML('<video width=\"800\" controls><source src=\"mov/run_cell.mov\" type=\"video/mp4\"></video>')"
   ]
  },
  {
   "cell_type": "markdown",
   "metadata": {},
   "source": [
    "<a id='save'></a>\n",
    "### Saving the Notebook"
   ]
  },
  {
   "cell_type": "markdown",
   "metadata": {},
   "source": [
    "To save the notebook, hit the <b>save button</b>. The <b>Checkpoint Status</b> at the top of the Notebook Window will update."
   ]
  },
  {
   "cell_type": "code",
   "execution_count": null,
   "metadata": {},
   "outputs": [],
   "source": [
    "HTML('<video width=\"800\" controls><source src=\"mov/save_notebook.mov\" type=\"video/mp4\"></video>')"
   ]
  },
  {
   "cell_type": "markdown",
   "metadata": {},
   "source": [
    "<a id='deep'></a>\n",
    "## Diving deeper into the Notebook Window"
   ]
  },
  {
   "cell_type": "markdown",
   "metadata": {},
   "source": [
    "There are multiple ways to trigger each command you will use when working with a Jupyter Notebook. Commands can be accessed using the <b>Menu Bar</b> or <b>Keyboard Shortcuts</b>. Common commands are also present on the <b>Tool Bar</b>."
   ]
  },
  {
   "cell_type": "markdown",
   "metadata": {},
   "source": [
    "<a id='menu'></a>\n",
    "### The Menu Bar and Tool Bar"
   ]
  },
  {
   "cell_type": "markdown",
   "metadata": {},
   "source": [
    "The <b>Menu Bar</b> contains dropdown menus for selecting commands."
   ]
  },
  {
   "cell_type": "code",
   "execution_count": null,
   "metadata": {},
   "outputs": [],
   "source": [
    "Image(os.path.join('pyintro_resources/img', 'menu_bar.png'))"
   ]
  },
  {
   "cell_type": "markdown",
   "metadata": {},
   "source": [
    "The <b>Tool Bar</b> has buttons for easy access to commonly used commands."
   ]
  },
  {
   "cell_type": "code",
   "execution_count": null,
   "metadata": {},
   "outputs": [],
   "source": [
    "Image(os.path.join('pyintro_resources/img', 'tool_bar.png'))"
   ]
  },
  {
   "cell_type": "markdown",
   "metadata": {},
   "source": [
    "<a id='shortcut'></a>\n",
    "### Finding More Shortcuts"
   ]
  },
  {
   "cell_type": "markdown",
   "metadata": {},
   "source": [
    "A variety of <b>Keyboard Shortcuts</b> are available to make editing and running Notebooks quick. If you want to look up a specific shortcut, the <b>Command Palette</b>, highlighted below, is a useful resource."
   ]
  },
  {
   "cell_type": "code",
   "execution_count": null,
   "metadata": {},
   "outputs": [],
   "source": [
    "Image(os.path.join('pyintro_resources/img', 'tool_bar_shortcut.png'))"
   ]
  },
  {
   "cell_type": "markdown",
   "metadata": {},
   "source": [
    "This is what the <b>Command Palette</b> looks when opened:"
   ]
  },
  {
   "cell_type": "code",
   "execution_count": null,
   "metadata": {},
   "outputs": [],
   "source": [
    "Image(os.path.join('pyintro_resources/img', 'keyboard_shortcuts.png'))"
   ]
  },
  {
   "cell_type": "markdown",
   "metadata": {},
   "source": [
    "<a id='help'></a>\n",
    "### Getting Help"
   ]
  },
  {
   "cell_type": "markdown",
   "metadata": {},
   "source": [
    "Additional resources are available under the <b>Help</b> menu dropdown. You can take an  <b>interactive tour</b> of the Notebook interface, view and edit <b>Keyboard Shortcuts</b>, and find links to  <b>external help resources</b> for both Jupyter Notebooks, Python, and common libraries."
   ]
  },
  {
   "cell_type": "code",
   "execution_count": null,
   "metadata": {},
   "outputs": [],
   "source": [
    "Image(os.path.join('pyintro_resources/img', 'menu_bar_help.png'))"
   ]
  },
  {
   "cell_type": "markdown",
   "metadata": {},
   "source": [
    "<a id='edit'></a>\n",
    "## Basic Notebook Editing"
   ]
  },
  {
   "cell_type": "markdown",
   "metadata": {},
   "source": [
    "Jupyter notebooks have two modes for interaction, <b>Command Mode</b> and <b>Edit Mode</b>. To build your own notebook, you will need to <b>create</b> new cells in Command Mode and <b>edit</b> their contents in Edit Mode."
   ]
  },
  {
   "cell_type": "markdown",
   "metadata": {},
   "source": [
    "<a id='command'></a>\n",
    "### Command Mode vs Edit Mode"
   ]
  },
  {
   "cell_type": "markdown",
   "metadata": {},
   "source": [
    "<b>Command Mode</b> is used to select cells and view or edit the notebook as a whole by adding, deleting, running cells, and changing their properties. In <b>Edit Mode</b>, on the other hand, you can change what a certain cell contains.\n",
    "\n",
    "Switch from <b>Command Mode</b> to <b>Edit Mode</b> by clicking on a cell (you may need to click multiple times), or by pressing <b>Esc</b>.\n",
    "\n",
    "Switch from <b>Edit Mode</b> to <b>Command Mode</b> by pressing <b>Return</b> or by <b>running</b> a cell."
   ]
  },
  {
   "cell_type": "markdown",
   "metadata": {},
   "source": [
    "<a id='create'></a>\n",
    "### Creating Cells"
   ]
  },
  {
   "cell_type": "markdown",
   "metadata": {},
   "source": [
    "To create a new cell, you can either:\n",
    "- select <b>Insert -> Insert Cell Above</b> or <b>Insert -> Insert Cell Below</b> in the Menu Bar\n",
    "- press the <b>Insert Cell Below Button</b> in the Tool Bar\n",
    "- press <b>a</b> or <b>b</b> in Command Mode (inserts cell above or below)\n",
    "\n",
    "Also, if you run the last cell in a Notebook, a new cell is typically created below."
   ]
  },
  {
   "cell_type": "code",
   "execution_count": null,
   "metadata": {},
   "outputs": [],
   "source": [
    "HTML('<video width=\"800\" controls><source src=\"mov/new_cell.mov\" type=\"video/mp4\"></video>')"
   ]
  },
  {
   "cell_type": "markdown",
   "metadata": {},
   "source": [
    "<a id='delete'></a>\n",
    "### Deleting Cells"
   ]
  },
  {
   "cell_type": "markdown",
   "metadata": {},
   "source": [
    "To delete cells, first select them and you can either:\n",
    "- select <b>Edit -> Delete Cells</b> in the Menu Bar\n",
    "- press <b>dd</b> in Command Mode "
   ]
  },
  {
   "cell_type": "markdown",
   "metadata": {},
   "source": [
    "<a id='types'></a>\n",
    "### Cell Types"
   ]
  },
  {
   "cell_type": "markdown",
   "metadata": {},
   "source": [
    "There are two basic cell types, <b>Code Cells</b> and <b>Markdown Cells</b>. Code cells are enclosed in a light <b>grey box</b> and <b>run code</b> snippets when you run them. Markdown cells have a <b>white background</b> and are often used to <b>display information</b> using HTML or Markup. You can see the difference between running these two types of cells in the following video:"
   ]
  },
  {
   "cell_type": "markdown",
   "metadata": {},
   "source": [
    "To change a cell type, you can either:\n",
    "- select <b>Cell -> Cell Type -> Code</b> or <b>Cell -> Cell Type -> Markdown</b> in the Menu Bar\n",
    "- select the cell type in the dropdown box in the Tool Bar\n",
    "- press <b>m</b> in Command Mode to switch a code cell to markdown\n",
    "- press <b>y</b> in Command Mode to switch a code cell to markdown"
   ]
  },
  {
   "cell_type": "code",
   "execution_count": null,
   "metadata": {},
   "outputs": [],
   "source": [
    "HTML('<video width=\"800\" controls><source src=\"mov/cell_types.mov\" type=\"video/mp4\"></video>')"
   ]
  },
  {
   "cell_type": "markdown",
   "metadata": {},
   "source": [
    "<a id='next'></a>\n",
    "## Next Steps"
   ]
  },
  {
   "cell_type": "markdown",
   "metadata": {},
   "source": [
    "This was just an quick overview - there is much more you can do using Jupyter Notebooks!\n",
    ">For a more in depth look at working with Jupyter Notebooks, see [this notebook](Intro_Developing_with_Jupyter_p3.ipynb)!"
   ]
  }
 ],
 "metadata": {
  "kernelspec": {
   "display_name": "Python 3",
   "language": "python",
   "name": "python3-0.8.0"
  },
  "language_info": {
   "codemirror_mode": {
    "name": "ipython",
    "version": 3
   },
   "file_extension": ".py",
   "mimetype": "text/x-python",
   "name": "python",
   "nbconvert_exporter": "python",
   "pygments_lexer": "ipython3",
   "version": "3.7.3"
  }
 },
 "nbformat": 4,
 "nbformat_minor": 2
}
