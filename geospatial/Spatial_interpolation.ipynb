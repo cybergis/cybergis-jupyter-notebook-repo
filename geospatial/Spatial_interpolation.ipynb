{
 "cells": [
  {
   "cell_type": "markdown",
   "metadata": {},
   "source": [
    "# Spatial Interpolation"
   ]
  },
  {
   "cell_type": "markdown",
   "metadata": {},
   "source": [
    "Spatial interpolation is used to predicts values for cells in a raster from a limited number of sample data points around it. We are studying streaming high frequency temperature data in Chicago retrieved from Array of Thing [(AoT)](https://api.arrayofthings.org/). \n",
    "\n",
    "Kriging is a family of estimators used to interpolate spatial data. This family includes ordinary kriging, universal kriging, indicator kriging, co-kriging and others (Taken from Lefohn et al., 2005). The choice of which kriging to use depends on the characteristics of the data and the type of spatial model desired. The most commonly used method is ordinary kriging, which was selected for this study.\n",
    "Reference:\n",
    "\n",
    "Lefohn, Allen S. ; Knudsen, H. Peter; and Shadwick, Douglas S. 2005. Using Ordinary Kriging to Estimate the Seasonal W126, and N100 24-h Concentrations for the Year 2000 and 2003. A.S.L. & Associates, 111 North Last Chance Gulch Suite 4A Helena , Montana 59601. contractor_2000_2003.pdf"
   ]
  },
  {
   "cell_type": "markdown",
   "metadata": {},
   "source": [
    "# Notebook Outline\n",
    "- [Setup](#setup)\n",
    "- [Spatial Interpolation](#si)\n",
    "- [Visulization](#vis)"
   ]
  },
  {
   "cell_type": "markdown",
   "metadata": {},
   "source": [
    "<a id='setup'></a>\n",
    "## Setup\n",
    "Retrieve the study area of this interactive spatial interpolation jupyter notebook\n",
    "\n",
    "1) setting the environment, import the library\n"
   ]
  },
  {
   "cell_type": "code",
   "execution_count": null,
   "metadata": {},
   "outputs": [],
   "source": [
    "#!pip install pykrige\n",
    "import osmnx as ox\n",
    "%matplotlib inline\n",
    "ox.config(log_console=True, use_cache=True)\n",
    "#ox.__version__\n"
   ]
  },
  {
   "cell_type": "markdown",
   "metadata": {},
   "source": [
    "2) we choose the Chicago as study area, download the distrct using osmnx, and save the dataset as shapefile"
   ]
  },
  {
   "cell_type": "code",
   "execution_count": null,
   "metadata": {},
   "outputs": [],
   "source": [
    "# from some place name, create a GeoDataFrame containing the geometry of the place\n",
    "city = ox.gdf_from_place('Chicago, IL')\n",
    "print (city)\n",
    "# save the retrieved data as a shapefile\n",
    "ox.save_gdf_shapefile(city)\n"
   ]
  },
  {
   "cell_type": "markdown",
   "metadata": {},
   "source": [
    "3) plot the Chicago city"
   ]
  },
  {
   "cell_type": "code",
   "execution_count": null,
   "metadata": {},
   "outputs": [],
   "source": [
    "\n",
    "fig, ax = ox.plot_shape(city)"
   ]
  },
  {
   "cell_type": "markdown",
   "metadata": {},
   "source": [
    "<a id='si'></a>\n",
    "## Spatial Interpolation\n",
    "The pykrige is a Kriging Toolkit for Python. The code supports 2D and 3D ordinary and universal kriging. Standard variogram models (linear, power, spherical, gaussian, exponential) are built in.\n"
   ]
  },
  {
   "cell_type": "code",
   "execution_count": null,
   "metadata": {},
   "outputs": [],
   "source": [
    "import numpy as np\n",
    "import pandas as pd\n",
    "import glob\n",
    "from pykrige.ok import OrdinaryKriging\n",
    "from pykrige.kriging_tools import write_asc_grid\n",
    "import pykrige.kriging_tools as kt\n",
    "import matplotlib.pyplot as plt\n",
    "#from mpl_toolkits.basemap import Basemap\n",
    "from matplotlib.colors import LinearSegmentedColormap\n",
    "from matplotlib.patches import Path, PathPatch"
   ]
  },
  {
   "cell_type": "markdown",
   "metadata": {},
   "source": [
    "### Show the points available in Chicago with accurate data\n",
    "\n",
    "Read sensor data in the CSV file, including the sensor ID, latitude, longitude and tempreture.  "
   ]
  },
  {
   "cell_type": "code",
   "execution_count": null,
   "metadata": {
    "scrolled": true
   },
   "outputs": [],
   "source": [
    "\n",
    "# uncomment to get from CSV\n",
    "data = pd.read_csv(\n",
    "     'sensors.csv',\n",
    "     delim_whitespace=False, header=None,\n",
    "     names=[\"ID\",\"Lat\", \"Lon\", \"Z\"])\n",
    "#data = pd.DataFrame(dd)\n",
    "data.head(len(data))"
   ]
  },
  {
   "cell_type": "markdown",
   "metadata": {},
   "source": [
    "2） Data processing part, if the tempreture is greater than 45, then set the data be 45"
   ]
  },
  {
   "cell_type": "code",
   "execution_count": null,
   "metadata": {},
   "outputs": [],
   "source": [
    "lons=np.array(data['Lon']) \n",
    "lats=np.array(data['Lat']) \n",
    "zdata=np.array(data['Z'])\n",
    "print (zdata)\n",
    "\n",
    "#If some data are greate than 50, then \n",
    "for r in range(len(zdata)):\n",
    "    if zdata[r]>50:\n",
    "        zdata[r] = 45\n",
    "\n",
    "print (zdata)"
   ]
  },
  {
   "cell_type": "markdown",
   "metadata": {},
   "source": [
    "\n",
    "### Use ordinary kriging to do the spatial interpolation\n",
    "\n",
    "In order to run spatial interpolation, we should define the boundary for the Chicago. Get the bounday value from the shapefile."
   ]
  },
  {
   "cell_type": "code",
   "execution_count": null,
   "metadata": {},
   "outputs": [],
   "source": [
    "import geopandas as gpd\n",
    "Chicago_Boundary_Shapefile = './data/il-chicago/il-chicago.shp'\n",
    "boundary = gpd.read_file(Chicago_Boundary_Shapefile)\n",
    "\n",
    "# get the boundary of Chicago \n",
    "xmin, ymin, xmax, ymax = boundary.total_bounds\n"
   ]
  },
  {
   "cell_type": "markdown",
   "metadata": {},
   "source": [
    "### Generate the grids for longitude and lantitude, the number of bins is 100\n",
    "\n",
    "In this next several lines of codes, we divide the area of Chicago into multiple rasters by longitude and latitude. And the chicago area is divided into 100*100 subarea based on the longitude and latitude."
   ]
  },
  {
   "cell_type": "code",
   "execution_count": null,
   "metadata": {},
   "outputs": [],
   "source": [
    "xmin = xmin-0.01\n",
    "xmax = xmax+0.01\n",
    "\n",
    "ymin = ymin-0.01\n",
    "ymax = ymax+0.01\n",
    "\n",
    "grid_lon = np.linspace(xmin, xmax, 100)\n",
    "grid_lat = np.linspace(ymin, ymax, 100)"
   ]
  },
  {
   "cell_type": "markdown",
   "metadata": {},
   "source": [
    "### Run the OrdinaryKriging method, the variogram_model is gaussian\n",
    "\n",
    "In spatial statistics the theoretical [variogram](https://en.wikipedia.org/wiki/Variogram) is a function describing the degree of spatial dependence of a spatial random field or stochastic process.\n",
    "\n",
    "And [Ordinary Kriging](https://en.wikipedia.org/wiki/Kriging#Ordinary_kriging) is a very popular method for spatial interpolation."
   ]
  },
  {
   "cell_type": "code",
   "execution_count": null,
   "metadata": {},
   "outputs": [],
   "source": [
    "OK = OrdinaryKriging(lons, lats, zdata, variogram_model='gaussian', verbose=True, enable_plotting=False,nlags=20)\n",
    "z1, ss1 = OK.execute('grid', grid_lon, grid_lat)\n",
    "print (z1)"
   ]
  },
  {
   "cell_type": "markdown",
   "metadata": {},
   "source": [
    "<a id='vis'></a>\n",
    "## Plot the spatial interpolation result with ordinary kriging using 'gaussian' variogram model\n",
    "\n",
    "Generate the result and the legend. The red area are places where temperature is high while the blue area are places where temperature is low."
   ]
  },
  {
   "cell_type": "code",
   "execution_count": null,
   "metadata": {},
   "outputs": [],
   "source": [
    "xintrp, yintrp = np.meshgrid(grid_lon, grid_lat) \n",
    "fig, ax = plt.subplots(figsize=(30,30))\n",
    "\n",
    "\n",
    "#ax.scatter(lons, lats, s=len(lons), label='Input data')\n",
    "boundarygeom = boundary.geometry\n",
    "\n",
    "contour = plt.contourf(xintrp, yintrp, z1,len(z1),cmap=plt.cm.jet,alpha = 0.8) \n",
    "\n",
    "\n",
    "plt.colorbar(contour)\n",
    "\n",
    "\n",
    "boundary.plot(ax=ax, color='white', alpha = 0.2, linewidth=5.5, edgecolor='black', zorder = 5)\n",
    "\n",
    "\n",
    "npts = len(lons)\n",
    "\n",
    "plt.scatter(lons, lats,marker='o',c='b',s=npts)\n",
    "\n",
    "#plt.xlim(xmin,xmax)\n",
    "#plt.ylim(ymin,ymax)\n",
    "\n",
    "plt.xticks(fontsize = 30, rotation=60)\n",
    "plt.yticks(fontsize = 30)\n",
    "\n",
    "#Tempreture\n",
    "plt.title('Spatial interpolation from temperature with gaussian (%d points)' % npts,fontsize = 40)\n",
    "plt.show()\n",
    "#ax.plot(grid_lon, grid_lat, label='Predicted values')\n"
   ]
  },
  {
   "cell_type": "markdown",
   "metadata": {},
   "source": [
    "Run the OrdinaryKriging method, the variogram_model is gaussian"
   ]
  },
  {
   "cell_type": "code",
   "execution_count": null,
   "metadata": {},
   "outputs": [],
   "source": [
    "OK = OrdinaryKriging(lons, lats, zdata, variogram_model='linear', verbose=True, enable_plotting=False,nlags=20)\n",
    "z2, ss1 = OK.execute('grid', grid_lon, grid_lat)\n",
    "#print (z2)"
   ]
  },
  {
   "cell_type": "markdown",
   "metadata": {},
   "source": [
    "### Plot the spatial interpolation result with ordinary kriging using 'linear' variogram model\n",
    "\n",
    "In this case, we are using ordinary kriging using another variogram model which is linear instead of the gaussian variogram model that was used previously. And you may notice some differences between using these two different models by  looking at the following plot.\n",
    "\n",
    "Generate the result and the legend"
   ]
  },
  {
   "cell_type": "code",
   "execution_count": null,
   "metadata": {},
   "outputs": [],
   "source": [
    "xintrp, yintrp = np.meshgrid(grid_lon, grid_lat) \n",
    "fig, ax = plt.subplots(figsize=(30,30))\n",
    "\n",
    "\n",
    "#ax.scatter(lons, lats, s=len(lons), label='Input data')\n",
    "boundarygeom = boundary.geometry\n",
    "\n",
    "contour = plt.contourf(xintrp, yintrp, z2,len(z2),cmap=plt.cm.jet,alpha = 0.8) \n",
    "\n",
    "\n",
    "plt.colorbar(contour)\n",
    "\n",
    "\n",
    "boundary.plot(ax=ax, color='white', alpha = 0.2, linewidth=5.5, edgecolor='black', zorder = 5)\n",
    "\n",
    "\n",
    "npts = len(lons)\n",
    "\n",
    "plt.scatter(lons, lats,marker='o',c='b',s=npts)\n",
    "\n",
    "#plt.xlim(xmin,xmax)\n",
    "#plt.ylim(ymin,ymax)\n",
    "\n",
    "plt.xticks(fontsize = 30, rotation=60)\n",
    "plt.yticks(fontsize = 30)\n",
    "\n",
    "#Tempreture\n",
    "plt.title('Spatial interpolation from temperature with linear function (%d points)' % npts,fontsize = 40)\n",
    "plt.show()\n",
    "#ax.plot(grid_lon, grid_lat, label='Predicted values')"
   ]
  }
 ],
 "metadata": {
  "kernelspec": {
   "display_name": "Python 3",
   "language": "python",
   "name": "python3"
  },
  "language_info": {
   "codemirror_mode": {
    "name": "ipython",
    "version": 3
   },
   "file_extension": ".py",
   "mimetype": "text/x-python",
   "name": "python",
   "nbconvert_exporter": "python",
   "pygments_lexer": "ipython3",
   "version": "3.7.6"
  }
 },
 "nbformat": 4,
 "nbformat_minor": 2
}
