{
 "cells": [
  {
   "cell_type": "markdown",
   "metadata": {},
   "source": [
    "# Geovisual Analytics for Shenzhen Taxi Trajectories"
   ]
  },
  {
   "cell_type": "markdown",
   "metadata": {},
   "source": [
    "This jupyter notebook shows the visual analytics for the Shenzhen taxi trajectories, including histogram distribution graph, heatmaps for different constraints, and heatmap with time information with taxi trip data collected from Shenzhen. \n",
    "\n",
    "Data information was described in Cheng et al. 2019.\n",
    " \n",
    "Cheng, B., Qian, S., Cao, J., Xue, G., Yu, J., Zhu, Y., ... & Zhang, T. (2019, April). STL: Online Detection of Taxi Trajectory Anomaly Based on Spatial-Temporal Laws. In International Conference on Database Systems for Advanced Applications (pp. 764-779). Springer, Cham.\n",
    "\n",
    "https://link.springer.com/chapter/10.1007/978-3-030-18579-4_45\n",
    "\n",
    "\n"
   ]
  },
  {
   "cell_type": "markdown",
   "metadata": {},
   "source": [
    "## Notebook Outline\n",
    "- [Prepare the shenzhen taxi dataset](#Prepare)\n",
    "- [Visualization](#Visualization)\n",
    "- [HeatMap for shenzhen taxi dataset](#HeatMap)"
   ]
  },
  {
   "cell_type": "markdown",
   "metadata": {},
   "source": [
    "<a id='Prepare'></a>\n",
    "## Prepare the shenzhen taxi dataset\n",
    "\n",
    "### Set up the envionment and import libraries\n",
    "Import pandas, numpy, datashader and other necessary libraries that this notebook use."
   ]
  },
  {
   "cell_type": "code",
   "execution_count": null,
   "metadata": {},
   "outputs": [],
   "source": [
    "from __future__ import division \n",
    "import pandas as pd\n",
    "import numpy as np\n",
    "import matplotlib.pylab as plt\n",
    "plt.style.use('ggplot')\n",
    "import os\n",
    "import glob\n",
    "import datashader as ds\n",
    "import datashader.transfer_functions as tf\n",
    "\n",
    "import bokeh, bokeh.plotting, bokeh.models\n",
    "from bokeh.io import output_notebook, show\n",
    "output_notebook()\n",
    "\n",
    "from bokeh.plotting import figure, output_notebook, show\n",
    "\n",
    "#from datashader import transfer_functions as tf\n",
    "from datashader.colors import Greys9\n",
    "\n",
    "from datashader.bokeh_ext import InteractiveImage\n",
    "from functools import partial\n",
    "from datashader.utils import export_image\n",
    "from datashader.colors import colormap_select, Greys9, Hot, viridis, inferno\n",
    "from IPython.core.display import HTML, display\n",
    "\n",
    "%matplotlib inline\n",
    "\n",
    "import folium"
   ]
  },
  {
   "cell_type": "markdown",
   "metadata": {},
   "source": [
    "### Prepare the dataset\n",
    "Import the dataset from data folder. This takes several seconds. Here we use one file as example."
   ]
  },
  {
   "cell_type": "code",
   "execution_count": null,
   "metadata": {},
   "outputs": [],
   "source": [
    "import requests\n",
    "import shutil\n",
    "import os\n",
    "import zipfile\n",
    "\n",
    "#req = requests.get('https://github.com/cybergis/cybergis-jupyter-notebook-repo/blob/master/geospatial/taxi.zip', stream=True)\n",
    "#with open('taxi.zip', 'wb') as file:\n",
    "#    shutil.copyfileobj(req.raw, file)\n",
    "    \n",
    "if not os.path.exists('./data'):\n",
    "    os.mkdir('./data')\n",
    "    \n",
    "with zipfile.ZipFile('taxi.zip', 'r') as file:\n",
    "    file.extractall('./data')\n",
    "\n",
    "os.listdir('./data/taxi')"
   ]
  },
  {
   "cell_type": "markdown",
   "metadata": {},
   "source": [
    "### Read the dataset\n",
    "Read the dataset into a pandas dataframe."
   ]
  },
  {
   "cell_type": "code",
   "execution_count": null,
   "metadata": {},
   "outputs": [],
   "source": [
    "path = r'./data/'\n",
    "#taxi_files = glob.glob(os.path.join(path, \"*.txt\")) \n",
    "\n",
    "\n",
    "filename = './data/taxi/TRK20090923.txt'\n",
    "column_names = ['taxi_id', 'date_time', 'longitude', 'latitude', 'speed', 'direction', 'occupied','other']\n",
    "#df_master = pd.concat(pd.read_csv(f, names=column_names) for f in taxi_files)  #glue all data into the dataframe\n",
    "df_master = pd.read_csv(filename, names=column_names)\n",
    "df_master['date_time'] = pd.to_datetime(df_master.date_time) # Correct the type in date_time column"
   ]
  },
  {
   "cell_type": "markdown",
   "metadata": {},
   "source": [
    "### Show the amount of data and the example of taxi trajectory Data\n",
    "This first line of code shows the amount of data stored in the dataframe. \n",
    "\n",
    "And the second line of code shows the the first 10 transactions in the dataframe."
   ]
  },
  {
   "cell_type": "code",
   "execution_count": null,
   "metadata": {},
   "outputs": [],
   "source": [
    "print(len(df_master))\n",
    "df_master.head(10)"
   ]
  },
  {
   "cell_type": "code",
   "execution_count": null,
   "metadata": {},
   "outputs": [],
   "source": [
    "df = df_master.copy() # Allows you to 'restart' the worksheet without waiting to recreate dataframe"
   ]
  },
  {
   "cell_type": "markdown",
   "metadata": {},
   "source": [
    "### Use numpy functions for the distance formula\n",
    "Define the distance function between two locations"
   ]
  },
  {
   "cell_type": "code",
   "execution_count": null,
   "metadata": {},
   "outputs": [],
   "source": [
    "def gps_dist(a, b, c, d):    \n",
    "    '''Compute the distance (in meters) between two gps locations. Input is assumed to be a = longitude, b = latitude, etc.'''\n",
    "    r = 0.0174533  # 1 degree in radians\n",
    "    return 2 * 6371000 * np.arcsin( np.sqrt( # https://en.wikipedia.org/wiki/Haversine_formula\n",
    "        np.sin(r*(d - b)/2.0)**2 + np.cos(r*b) * np.cos(r*d) * np.sin(r*(c - a)/2.0)**2))"
   ]
  },
  {
   "cell_type": "markdown",
   "metadata": {},
   "source": [
    "<a id='Visualization'></a>\n",
    "## Visualization of the whole taxi trajectory dataset\n",
    "\n",
    "Define the dataset which the occupied status is 1, and locates in the boundary."
   ]
  },
  {
   "cell_type": "code",
   "execution_count": null,
   "metadata": {},
   "outputs": [],
   "source": [
    "maindt = df[df.occupied == 1]\n",
    "maindt = df[abs(df.longitude -114.05) <= 1]\n",
    "maindt = maindt[abs(maindt.latitude - 22.5) <= 1]\n"
   ]
  },
  {
   "cell_type": "markdown",
   "metadata": {},
   "source": [
    "### Visualization of the whole dataset\n",
    "This figure shows the whole taxi trajectory data in the dataset. Not only in limited in Shenzhen, this figure also shows some taxi trajectory outside Shenzhen reaching towards other cities nearby."
   ]
  },
  {
   "cell_type": "code",
   "execution_count": null,
   "metadata": {},
   "outputs": [],
   "source": [
    "cvs = ds.Canvas(plot_width=600, plot_height=600)\n",
    "agg = cvs.points(maindt,'longitude','latitude')\n",
    "img = tf.shade(agg, cmap=['lightblue','darkblue'],how='log')\n",
    "img"
   ]
  },
  {
   "cell_type": "markdown",
   "metadata": {},
   "source": [
    "### Zoom in the whole taxi trajectory dataset in Shenzhen\n",
    "We zoom in the figure above to Shenzhen."
   ]
  },
  {
   "cell_type": "code",
   "execution_count": null,
   "metadata": {},
   "outputs": [],
   "source": [
    "\n",
    "maindt = df[abs(df.longitude -114.05) <= 0.35]\n",
    "maindt = maindt[abs(maindt.latitude - 22.70) <= 0.35]\n",
    "\n",
    "\n",
    "xrange = np.min(maindt['longitude']),np.max(maindt['longitude'])\n",
    "\n",
    "yrange = np.min(maindt['latitude']),np.max(maindt['latitude'])\n",
    "\n",
    "print (xrange,yrange)\n",
    "\n",
    "xxrange = (113.673267, 114.646188)\n",
    "yyrange  = (22.365089, 22.864404)\n",
    "\n",
    "#cvs = ds.Canvas(x_range=xxrange, y_range=yyrange,plot_width=600, plot_height=600)\n",
    "cvs = ds.Canvas(x_range=xrange, y_range=yrange,plot_width=600, plot_height=600)\n",
    "agg = cvs.points(maindt,'longitude','latitude')\n",
    "img = tf.shade(agg, cmap=['lightblue','darkblue'],how='log')\n",
    "img\n"
   ]
  },
  {
   "cell_type": "markdown",
   "metadata": {},
   "source": [
    "### Define the histogram function\n",
    "A histogram is a graphical display of data using bars of different heights. In a histogram, each bar groups numbers into ranges."
   ]
  },
  {
   "cell_type": "code",
   "execution_count": null,
   "metadata": {},
   "outputs": [],
   "source": [
    "def histogram(x,colors=None):\n",
    "    hist,edges = np.histogram(x, bins=100)\n",
    "    p = figure(y_axis_label=\"Pixels\",\n",
    "               tools='', height=300, outline_line_color=None,\n",
    "               min_border=0, min_border_left=0, min_border_right=0,\n",
    "               min_border_top=0, min_border_bottom=0)\n",
    "    p.quad(top=hist[1:], bottom=0, left=edges[1:-1], right=edges[2:])\n",
    "    print(\"min: {}, max: {}\".format(np.min(x),np.max(x)))\n",
    "    show(p)\n",
    "    "
   ]
  },
  {
   "cell_type": "markdown",
   "metadata": {},
   "source": [
    "In this case, we are defining x axis as the amount of taxi passing through for a certain area and the y axis as the amount of area."
   ]
  },
  {
   "cell_type": "code",
   "execution_count": null,
   "metadata": {
    "scrolled": true
   },
   "outputs": [],
   "source": [
    "histogram(agg.values)"
   ]
  },
  {
   "cell_type": "markdown",
   "metadata": {},
   "source": [
    "### Define the histogram distribution using log1p\n",
    "We have the y value to be the log1p of the aggregated value to make the histogram clearer."
   ]
  },
  {
   "cell_type": "code",
   "execution_count": null,
   "metadata": {},
   "outputs": [],
   "source": [
    "\n",
    "Greys9_r = list(reversed(Greys9))[:-2]\n",
    "\n",
    "histogram(np.log1p(agg.values))\n",
    "\n",
    "tf.shade(agg, cmap=Greys9_r, how='log')"
   ]
  },
  {
   "cell_type": "markdown",
   "metadata": {},
   "source": [
    "### Define the histogram distribution using eq_hist\n",
    "We have the y value to be the eq_hist of the aggregated value"
   ]
  },
  {
   "cell_type": "code",
   "execution_count": null,
   "metadata": {},
   "outputs": [],
   "source": [
    "histogram(tf.eq_hist(agg.values))\n",
    "\n",
    "#cmapOrange = ['darkred', 'red', 'orangered', 'darkorange', 'orange', 'gold', 'yellow', 'white']\n",
    "    \n",
    "tf.shade(agg, cmap=Greys9_r, how='eq_hist')"
   ]
  },
  {
   "cell_type": "markdown",
   "metadata": {},
   "source": [
    "### Show the heatmap using eq_hist\n",
    "This heatmap clearly shows the area in Shenzhen where there are a lot of taxi travelling through. As we can see in the figure, the south side of Shenzhen is having more taxi trajectories than the north side of Shenzhen."
   ]
  },
  {
   "cell_type": "code",
   "execution_count": null,
   "metadata": {},
   "outputs": [],
   "source": [
    "#cvs = ds.Canvas(plot_width=w, plot_height=h, x_range=x_range, y_range=y_range)\n",
    "cvs = ds.Canvas(plot_width=600, plot_height=600)\n",
    "#agg = cvs.points(df, 'dropoff_x', 'dropoff_y',  ds.count('passenger_count'))\n",
    "agg = cvs.points(maindt,'longitude','latitude')\n",
    "img = tf.shade(agg, cmap=Hot, how='eq_hist')\n",
    "tf.dynspread(img, threshold=0.5, max_px=4)\n"
   ]
  },
  {
   "cell_type": "markdown",
   "metadata": {},
   "source": [
    "### Show the heatmap with the aggregation percent greater than 90% \n",
    "In this figure, we look at the heatmap with aggregation percent greater than 90%"
   ]
  },
  {
   "cell_type": "code",
   "execution_count": null,
   "metadata": {},
   "outputs": [],
   "source": [
    "cvs = ds.Canvas(plot_width=600, plot_height=600)\n",
    "agg = cvs.points(maindt, 'longitude','latitude')\n",
    "img = tf.shade(agg.where(agg>np.percentile(agg,90)), cmap=inferno, how='eq_hist')\n",
    "tf.dynspread(img, threshold=0.3, max_px=4)\n"
   ]
  },
  {
   "cell_type": "markdown",
   "metadata": {},
   "source": [
    "<a id='HeatMap'></a>\n",
    "## HeatMap for shenzhen taxi dataset  with time information\n",
    "Extract hour from the timestamp column to create an time_hour column, and show the example of the dataset"
   ]
  },
  {
   "cell_type": "code",
   "execution_count": null,
   "metadata": {},
   "outputs": [],
   "source": [
    "#maindt['hour'] = maindt['timestamp'].dt.hour\n",
    "maindt['hour'] = pd.to_datetime(maindt['date_time']).dt.hour.astype('category')\n",
    "maindt.head(5)"
   ]
  },
  {
   "cell_type": "markdown",
   "metadata": {},
   "source": [
    "### Heatmap with time information\n",
    "First we define 24 clolrs for 24 hours. And then the heatmap with time information will be shown in different color based on the time the taxi trajectory was recorded."
   ]
  },
  {
   "cell_type": "code",
   "execution_count": null,
   "metadata": {},
   "outputs": [],
   "source": [
    "\n",
    "colors = [\"#FF0000\",\"#FF3F00\",\"#FF7F00\",\"#FFBF00\",\"#FFFF00\",\"#BFFF00\",\"#7FFF00\",\"#3FFF00\",\n",
    "          \"#00FF00\",\"#00FF3F\",\"#00FF7F\",\"#00FFBF\",\"#00FFFF\",\"#00BFFF\",\"#007FFF\",\"#003FFF\",\n",
    "          \"#0000FF\",\"#3F00FF\",\"#7F00FF\",\"#BF00FF\",\"#FF00FF\",\"#FF00BF\",\"#FF007F\",\"#FF003F\",]\n",
    "\n",
    "\n",
    "cvs = ds.Canvas(plot_width=600, plot_height=600)\n",
    "agg = cvs.points(maindt, 'longitude','latitude',ds.count_cat('hour'))\n",
    "#agg = cvs.points(df, dataset+'_x', dataset+'_y', ds.count_cat('hour'))\n",
    "img = tf.shade(agg, color_key=colors)\n",
    "tf.dynspread(img, threshold=0.3, max_px=4)\n"
   ]
  }
 ],
 "metadata": {
  "kernelspec": {
   "display_name": "Python 3",
   "language": "python",
   "name": "python3-0.8.0"
  },
  "language_info": {
   "codemirror_mode": {
    "name": "ipython",
    "version": 3
   },
   "file_extension": ".py",
   "mimetype": "text/x-python",
   "name": "python",
   "nbconvert_exporter": "python",
   "pygments_lexer": "ipython3",
   "version": "3.7.3"
  }
 },
 "nbformat": 4,
 "nbformat_minor": 2
}
