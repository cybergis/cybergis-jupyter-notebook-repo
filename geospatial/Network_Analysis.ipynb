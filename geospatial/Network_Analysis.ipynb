{
 "cells": [
  {
   "cell_type": "markdown",
   "metadata": {},
   "source": [
    "# Network Analysis "
   ]
  },
  {
   "cell_type": "markdown",
   "metadata": {},
   "source": [
    "This Jupyter notebook demostrates the network anaysis, including finding shortest path and generate isochrones from the road network accessibility. \n",
    "\n",
    "We are using Urbana-Champaign, IL, US as our study area. And this notebook uses geospatial libraries to simulate the shortest path from point to another and isochrones analysis with the problem of road network accessibility."
   ]
  },
  {
   "cell_type": "markdown",
   "metadata": {},
   "source": [
    "# Notebook Outline\n",
    "- [Routing](#Routing)\n",
    "    - [Setup](#setup)\n",
    "    - [Origin and Destination](#OD)\n",
    "    - [Find the shortest path](#SP)\n",
    "- [Isochrones Analysis](#isochrones)\n",
    "    - [Setup](#su)\n",
    "    - [Visulization](#vis)\n"
   ]
  },
  {
   "cell_type": "markdown",
   "metadata": {},
   "source": [
    "<a id='Routing'></a>\n",
    "## Routing\n",
    "\n",
    "The first one is  an interactive demo that shows user how to use osmnx and openstreetmap to find the shortest path between two locations in the real world.\n",
    "\n",
    "OSMnx is a python toolkit for street networks, incluging retrieving, modeling, analyzing, and visualizing street networks and other spatial data from OpenStreetMap.\n",
    "\n",
    "Boeing, G. 2017. \"OSMnx: New Methods for Acquiring, Constructing, Analyzing, and Visualizing Complex Street Networks.\" Computers, Environment and Urban Systems 65, 126-139. doi:10.1016/j.compenvurbsys.2017.05.004"
   ]
  },
  {
   "cell_type": "markdown",
   "metadata": {},
   "source": [
    "<a id='setup'></a>\n",
    "### Set up the environment by importing libraries\n",
    "Import numpy, osmnx, networkx and other libraries available in CyberGIS-Jupyter to set up an environment to run this notebook."
   ]
  },
  {
   "cell_type": "code",
   "execution_count": null,
   "metadata": {},
   "outputs": [],
   "source": [
    "import numpy as np\n",
    "import osmnx as ox\n",
    "import networkx as nx\n",
    "import folium\n",
    "\n",
    "import matplotlib.pyplot as plt\n",
    "\n",
    "#Enable inline plotting of maps\n",
    "%matplotlib inline\n",
    "\n",
    "print (ox.__version__)\n",
    "ox.config(log_console=True, use_cache=True)"
   ]
  },
  {
   "cell_type": "markdown",
   "metadata": {},
   "source": [
    "We define our study area in this demo as Uraban-Champaign, IL, US"
   ]
  },
  {
   "cell_type": "code",
   "execution_count": null,
   "metadata": {},
   "outputs": [],
   "source": [
    "#Define the study area\n",
    "places = ['Champaign, Illinois','Urbana, Illinois']"
   ]
  },
  {
   "cell_type": "markdown",
   "metadata": {},
   "source": [
    "Read the network file at Urbana-Champaign and plot the area"
   ]
  },
  {
   "cell_type": "code",
   "execution_count": null,
   "metadata": {},
   "outputs": [],
   "source": [
    "#Note - this may take some time...\n",
    "# Choose one type of network\n",
    "#[ 'all_private','all','drive','drive_service', 'bike','walk']:#\n",
    "\n",
    "G = ox.graph_from_place(places, network_type='drive')\n",
    "\n",
    "#The step give projects to UTM \n",
    "#ox.plot_graph(ox.project_graph(G));\n",
    "#ox.plot_graph(G);\n",
    "ox.plot_graph(G, fig_height=20, fig_width=20, edge_color='black')\n",
    "\n",
    "#We do not save files in order to save time\n",
    "#filenames = 'Urban-Champaign-Net'\n",
    "#ox.save_graph_shapefile(G, filename=filenames)\n",
    "#ox.save_graphml(G, filename='Urban-Champaign-Net.graphml')\n"
   ]
  },
  {
   "cell_type": "markdown",
   "metadata": {},
   "source": [
    "<a id='OD'></a>\n",
    "\n",
    "### Define origin and destination location by providing longitude and latitude"
   ]
  },
  {
   "cell_type": "markdown",
   "metadata": {},
   "source": [
    "Plot the origin and destination point in the network graph of Urbana-Champaign, the origin is shown in red and destination is shown in blue."
   ]
  },
  {
   "cell_type": "code",
   "execution_count": null,
   "metadata": {},
   "outputs": [],
   "source": [
    "#origin = ox.utils.geocode('2012 S Orchard St,Urbana, IL')\n",
    "#destination = ox.utils.geocode('1301 W Green St, Urbana, IL')\n",
    "origin = (40.097468, -88.214171)\n",
    "destination =(40.10948505, -88.2260316492452)"
   ]
  },
  {
   "cell_type": "markdown",
   "metadata": {},
   "source": [
    "Show the origin point and destination point on the map"
   ]
  },
  {
   "cell_type": "code",
   "execution_count": null,
   "metadata": {},
   "outputs": [],
   "source": [
    "\n",
    "fig, ax = ox.plot_graph(G, fig_height=20, fig_width=20, \n",
    "                        show=False, close=False, \n",
    "                        edge_color='black')\n",
    "\n",
    "ax.scatter(origin[1], origin[0], c='red', s=100)\n",
    "ax.scatter(destination[1], destination[0], c='blue', s=100)\n",
    "\n",
    "plt.show()"
   ]
  },
  {
   "cell_type": "markdown",
   "metadata": {},
   "source": [
    "Since the points (origin and destination) we choosed do not locate on the street. We get the nearest network node that is located on the street to find shoretest path wtih osmnx."
   ]
  },
  {
   "cell_type": "code",
   "execution_count": null,
   "metadata": {},
   "outputs": [],
   "source": [
    "origin_node =  ox.get_nearest_node(G, origin) \n",
    "destination_node = ox.get_nearest_node(G, destination )"
   ]
  },
  {
   "cell_type": "markdown",
   "metadata": {},
   "source": [
    "Now we show the origin node and the destination node after we modify those two starting locations to its nearest location on the street."
   ]
  },
  {
   "cell_type": "code",
   "execution_count": null,
   "metadata": {},
   "outputs": [],
   "source": [
    "\n",
    "fig, ax = ox.plot_graph(G, fig_height=20, fig_width=20, \n",
    "                        show=False, close=False, \n",
    "                        edge_color='black')\n",
    "\n",
    "ax.scatter(origin[1], origin[0], c='red', s=100)\n",
    "ax.scatter(destination[1], destination[0], c='blue', s=100)\n",
    "\n",
    "ax.scatter(G.nodes[origin_node]['x'], G.nodes[origin_node]['y'], c='green', s=100)\n",
    "ax.scatter(G.nodes[destination_node]['x'], G.nodes[destination_node]['y'], c='green', s=100)\n",
    "\n",
    "plt.show()"
   ]
  },
  {
   "cell_type": "markdown",
   "metadata": {},
   "source": [
    "<a id='SP'></a>\n",
    "### Find the shortest path between origin and destination\n",
    "\n",
    "The shortes path algorithm in this demo is from NetworkX.\n",
    "\n",
    "NetworkX is a Python package for the creation, manipulation, and study of the structure, dynamics, and functions of complex networks (https://networkx.github.io/).\n",
    "\n"
   ]
  },
  {
   "cell_type": "code",
   "execution_count": null,
   "metadata": {},
   "outputs": [],
   "source": [
    "route = nx.shortest_path(G, origin_node, destination_node)\n",
    "\n",
    "fig, ax = ox.plot_graph_route(G, route, fig_height=20, fig_width=20, \n",
    "                    show=False, close=False, \n",
    "                    edge_color='black',\n",
    "                    orig_dest_node_color='green',\n",
    "                    route_color='green')\n",
    "\n",
    "ax.scatter(origin[1], origin[0], c='red', s=100)\n",
    "ax.scatter(destination[1], destination[0], c='blue', s=100)\n",
    "\n",
    "plt.show()"
   ]
  },
  {
   "cell_type": "markdown",
   "metadata": {},
   "source": [
    "### Find the shortest distance between two random points in Urbana-Champaign\n",
    "\n",
    "#### Using osmnx to compute the shortest path between two random nodes along road networks\n",
    "\n",
    "Define the random network nodes and ompute the shortest path between two random nodes along road networks\n"
   ]
  },
  {
   "cell_type": "code",
   "execution_count": null,
   "metadata": {},
   "outputs": [],
   "source": [
    "\n",
    "route = nx.shortest_path(G, np.random.choice(G.nodes()), np.random.choice(G.nodes()))\n"
   ]
  },
  {
   "cell_type": "markdown",
   "metadata": {},
   "source": [
    "Show the shortest path between two random nodes along road networks"
   ]
  },
  {
   "cell_type": "code",
   "execution_count": null,
   "metadata": {},
   "outputs": [],
   "source": [
    "\n",
    "#route = nx.shortest_path(G, np.random(G.nodes), np.random(G.nodes))\n",
    "ox.plot_graph_route(G, route, fig_height=20, fig_width=20)"
   ]
  },
  {
   "cell_type": "markdown",
   "metadata": {},
   "source": [
    "<a id='isochrones'></a>\n",
    "## Isochrone Analysis\n",
    "\n",
    "The second demonstration is about generating isochrones from a network accessibility operation. The following shows how to find the walking isochrones from road network center with different time."
   ]
  },
  {
   "cell_type": "markdown",
   "metadata": {},
   "source": [
    "<a id='su'></a>\n",
    "### Setup\n",
    "The first step is setting the walking network, the accessible time for trips are seting to 5, 10, 15, 20, and 25 minutes. The walking speed in 4.5 km/hour."
   ]
  },
  {
   "cell_type": "code",
   "execution_count": null,
   "metadata": {},
   "outputs": [],
   "source": [
    "t_network_type = 'walk'\n",
    "trip_times = [5, 10, 15, 20, 25] #in minutes\n",
    "travel_speed = 4.5 #walking speed in km/hour\n"
   ]
  },
  {
   "cell_type": "markdown",
   "metadata": {},
   "source": [
    "Get the walk road network using osmnx"
   ]
  },
  {
   "cell_type": "code",
   "execution_count": null,
   "metadata": {},
   "outputs": [],
   "source": [
    "\n",
    "G = ox.graph_from_place(places, network_type=t_network_type)\n"
   ]
  },
  {
   "cell_type": "markdown",
   "metadata": {},
   "source": [
    "Get the center of the road network and retroject the road network, we find the nearest network node around the center point in the Urbana-Champine area."
   ]
  },
  {
   "cell_type": "code",
   "execution_count": null,
   "metadata": {},
   "outputs": [],
   "source": [
    "\n",
    "gdf_nodes = ox.graph_to_gdfs(G, edges=False)\n",
    "x, y = gdf_nodes['geometry'].unary_union.centroid.xy\n",
    "center_node = ox.get_nearest_node(G, (y[0], x[0]))\n",
    "G = ox.project_graph(G)\n",
    "\n",
    "ox.plot_graph(G, fig_height=20, fig_width=20, edge_color='black')"
   ]
  },
  {
   "cell_type": "markdown",
   "metadata": {},
   "source": [
    "Add an edge attribute for time in minutes required to traverse each edge"
   ]
  },
  {
   "cell_type": "code",
   "execution_count": null,
   "metadata": {},
   "outputs": [],
   "source": [
    "meters_per_minute = travel_speed * 1000 / 60 #km per hour to meters per minute\n",
    "for u, v, k, data in G.edges(data=True, keys=True):\n",
    "    data['time'] = data['length'] / meters_per_minute"
   ]
  },
  {
   "cell_type": "markdown",
   "metadata": {},
   "source": [
    "Get one color for each isochrone"
   ]
  },
  {
   "cell_type": "code",
   "execution_count": null,
   "metadata": {},
   "outputs": [],
   "source": [
    "\n",
    "iso_colors = ox.get_colors(n=len(trip_times), cmap='Reds', start=0.3, return_hex=True)"
   ]
  },
  {
   "cell_type": "markdown",
   "metadata": {},
   "source": [
    "Color the network nodes according to isochrone then plot the road network.\n",
    "\n",
    "Show accessibility from the original center node with different trips' time."
   ]
  },
  {
   "cell_type": "code",
   "execution_count": null,
   "metadata": {},
   "outputs": [],
   "source": [
    "node_colors = {}\n",
    "for trip_time, color in zip(sorted(trip_times, reverse=True), iso_colors):\n",
    "    subgraph = nx.ego_graph(G, center_node, radius=trip_time, distance='time')\n",
    "    for node in subgraph.nodes():\n",
    "        node_colors[node] = color\n",
    "nc = [node_colors[node] if node in node_colors else 'none' for node in G.nodes()]\n",
    "ns = [20 if node in node_colors else 0 for node in G.nodes()]"
   ]
  },
  {
   "cell_type": "markdown",
   "metadata": {},
   "source": [
    "<a id='vis'></a>\n",
    "### Visulization\n",
    "First show the isochrone nodes and then plot the road network. Those area of similar colors are places where people can access with walking using similar amount of time."
   ]
  },
  {
   "cell_type": "code",
   "execution_count": null,
   "metadata": {},
   "outputs": [],
   "source": [
    "\n",
    "%time fig, ax = ox.plot_graph(G, fig_height=20, node_color=nc, node_size=ns, node_alpha=0.8, node_zorder=2)"
   ]
  },
  {
   "cell_type": "markdown",
   "metadata": {},
   "source": [
    "\n",
    "We extract the network nodes as point clouds and generate a convex hull around each dataset."
   ]
  },
  {
   "cell_type": "code",
   "execution_count": null,
   "metadata": {},
   "outputs": [],
   "source": [
    "\n",
    "from shapely.geometry import Point, Polygon, LineString\n",
    "from descartes import PolygonPatch\n",
    "import geopandas as gpd\n",
    "\n",
    "isochrone_polys = []\n",
    "for trip_time in sorted(trip_times, reverse=True):\n",
    "    subgraph = nx.ego_graph(G, center_node, radius=trip_time, distance='time')\n",
    "    node_points = [Point((data['x'], data['y'])) for node, data in subgraph.nodes(data=True)]\n",
    "    bounding_poly = gpd.GeoSeries(node_points).unary_union.convex_hull\n",
    "    isochrone_polys.append(bounding_poly)\n"
   ]
  },
  {
   "cell_type": "markdown",
   "metadata": {},
   "source": [
    "Plot the road network, then add isochrones as colored descartes polygon patches"
   ]
  },
  {
   "cell_type": "code",
   "execution_count": null,
   "metadata": {},
   "outputs": [],
   "source": [
    "fig, ax = ox.plot_graph(G, fig_height=20, show=False, close=False, edge_color='k', edge_alpha=0.2, node_color='none')\n",
    "for polygon, fc in zip(isochrone_polys, iso_colors):\n",
    "    patch = PolygonPatch(polygon, fc=fc, ec='none', alpha=0.6, zorder=-1) #-1\n",
    "    ax.add_patch(patch)\n",
    "plt.show()"
   ]
  }
 ],
 "metadata": {
  "kernelspec": {
   "display_name": "Python 3",
   "language": "python",
   "name": "python3-0.8.0"
  },
  "language_info": {
   "codemirror_mode": {
    "name": "ipython",
    "version": 3
   },
   "file_extension": ".py",
   "mimetype": "text/x-python",
   "name": "python",
   "nbconvert_exporter": "python",
   "pygments_lexer": "ipython3",
   "version": "3.7.3"
  }
 },
 "nbformat": 4,
 "nbformat_minor": 2
}
