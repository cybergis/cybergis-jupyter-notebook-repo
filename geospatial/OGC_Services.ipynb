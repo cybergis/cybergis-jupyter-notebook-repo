{
 "cells": [
  {
   "cell_type": "markdown",
   "metadata": {},
   "source": [
    "# Open Geospatial Consortium (OGC) Services"
   ]
  },
  {
   "cell_type": "markdown",
   "metadata": {},
   "source": [
    "This is an interactive jupyter notebook that shows users how to access OGC services using owslib. \n",
    "\n",
    "\n",
    "OWSLib is a Python package for client programming with Open Geospatial Consortium (OGC) web service interface standards, including WMS, WFS, WMTS, WCS, and SOS (https://geopython.github.io/OWSLib/).\n",
    "\n"
   ]
  },
  {
   "cell_type": "markdown",
   "metadata": {},
   "source": [
    "# Notebook Outline\n",
    "- [Web Map Service](#WebMapService)\n",
    "- [Web Feature Service](#WebFeatureService)\n",
    "- [Web Coverage Service](#WebCoverageService)\n",
    "- [Sensor Observation Service](#sos)\n",
    "- [Web Map Tile Service](#MapTileService)"
   ]
  },
  {
   "cell_type": "markdown",
   "metadata": {},
   "source": [
    "<a id='WebMapService'></a>\n",
    "## Web Map Service\n",
    "\n",
    "Web Map Service (WMS) is an OGC (Open GIS Consortium) standard. There are three major operations are defined for creating and displaying map images, including:\n",
    "\n",
    "\n",
    "1) GetCapabilities. It is used for retrieving metadata on the service level (Required). \n",
    "\n",
    "2) GetMap. It is the key core operation of WMS. It is designed for retrieving a map image with the geospatial parameters and the size (Required).\n",
    "\n",
    "\n",
    "3) GetFeatureInfo. It is designed for retrieving information about certain special features displayed on a map (Optional).\n",
    "\n"
   ]
  },
  {
   "cell_type": "markdown",
   "metadata": {},
   "source": [
    "### Setup library environment & Create Web Map Service object\n",
    "1) import the owslib.wms library\n",
    "\n",
    "2) create the Web Map Service Object. The avialable layers can be shown when the wms is valid."
   ]
  },
  {
   "cell_type": "code",
   "execution_count": null,
   "metadata": {},
   "outputs": [],
   "source": [
    "# load owslib library\n",
    "from owslib.wms import WebMapService\n",
    "\n",
    "# Create your WebMapService object\n",
    "wms = WebMapService('http://apps.ecmwf.int/wms/?token=public', version='1.1.1') # version 1.3.0 works as well\n",
    "\n",
    "#Show the number of available layers\n",
    "print (len(wms.contents))"
   ]
  },
  {
   "cell_type": "markdown",
   "metadata": {},
   "source": [
    "### Plot the WebMapService from OGC\n",
    "\n",
    "\n",
    "3) In the get map function, we shoud define the map size, the projection information, the bounding box of the map, map format, and the parameter for transparent"
   ]
  },
  {
   "cell_type": "code",
   "execution_count": null,
   "metadata": {},
   "outputs": [],
   "source": [
    "%matplotlib inline\n",
    "import os, sys\n",
    "import matplotlib.image as mpimg\n",
    "import matplotlib.pyplot as plt\n",
    "\n",
    "def getMap(layerName,bbox,filename):\n",
    "    wms.getOperationByName('GetMap').formatOptions\n",
    "    img = wms.getmap(layers=[layerName],\n",
    "                 size=(600,300),\n",
    "                 srs='EPSG:4326',\n",
    "                 bbox=bbox,\n",
    "                 format='image/png',\n",
    "                 transparent=True)\n",
    "\n",
    "    tmpfile = open(filename,'wb')\n",
    "    tmpfile.write(img.read())\n",
    "    tmpfile.close()\n",
    "getMap('foreground',(-180,-90,180,90), 'foreground.png')\n",
    "getMap('background',(-180,-90,180,90), 'background.png')\n",
    "getMap('composition_bbaod550',(-180,-90,180,90), 'bbaod550.png')\n",
    "\n",
    "\n",
    "image_back   = mpimg.imread('background.png')\n",
    "image_compos = mpimg.imread('bbaod550.png')\n",
    "image_fore   = mpimg.imread('foreground.png')\n",
    "fig          = plt.figure(figsize=(12,7))\n",
    "\n",
    "img_back     = plt.imshow(image_back,extent=[-180,180,-90,90],aspect='auto')\n",
    "img_compos   = plt.imshow(image_compos,extent=[-180,180,-90,90],aspect='auto')\n",
    "img_fore     = plt.imshow(image_fore,extent=[-180,180,-90,90],aspect='auto')"
   ]
  },
  {
   "cell_type": "markdown",
   "metadata": {},
   "source": [
    "<a id='WebFeatureService'></a>\n",
    "## Web Feature Service\n",
    "\n",
    "Web Feature Service (WFS) is an OGC (Open Geospatial Consortium) which based on GML (Geography Markup Language). \n",
    "\n",
    "\n",
    "1)import liarary\n",
    "\n",
    "2) define WebFeatureService object to connect GeoServer WFS service\n",
    "\n"
   ]
  },
  {
   "cell_type": "code",
   "execution_count": null,
   "metadata": {},
   "outputs": [],
   "source": [
    "%matplotlib inline\n",
    "\n",
    "from owslib.wfs import WebFeatureService\n",
    "\n",
    "import pandas as pd\n",
    "import geopandas as gpd\n",
    "from geopandas import GeoSeries, GeoDataFrame\n",
    "\n",
    "import requests\n",
    "import geojson\n"
   ]
  },
  {
   "cell_type": "markdown",
   "metadata": {},
   "source": [
    "\n",
    "3) get wfs layer from defined URL\n",
    "\n",
    "4) print information for the first 10 layers, incluing layer id, title, bbox information\n",
    "\n"
   ]
  },
  {
   "cell_type": "code",
   "execution_count": null,
   "metadata": {},
   "outputs": [],
   "source": [
    "\n",
    "wfs_url = \"http://data.nanoos.org/geoserver/ows\"\n",
    "\n",
    "wfs = WebFeatureService(wfs_url, version='1.0.0')\n",
    "\n",
    "print (len(wfs.contents.keys()))\n",
    "\n",
    "for layerID in list(wfs.contents.keys())[:6]:\n",
    "    layer = wfs[layerID]\n",
    "    print('Layer ID:', layerID)\n",
    "    print('Title:', layer.title)\n",
    "    #print('Boundaries:', layer.boundingBoxWGS84, '\\n')\n",
    "    print (\"BBOX:\", layer.boundingBox, '\\n')\n",
    "    "
   ]
  },
  {
   "cell_type": "markdown",
   "metadata": {},
   "source": [
    "5) Choose one layer id and show the title of the layer,\n",
    "\n",
    "then get the vector data, save the feature data into json file\n"
   ]
  },
  {
   "cell_type": "code",
   "execution_count": null,
   "metadata": {},
   "outputs": [],
   "source": [
    "layer_id = 'oa:goaoninv'\n",
    "meta = wfs.contents[layer_id]\n",
    "print(meta.title)\n",
    "\n",
    "# Get the vector data \n",
    "data = wfs.getfeature(typename=[layer_id], bbox=(-179.5, -77.692, 179.20170000000002, 81.93299999999999), outputFormat='application/json')\n",
    "\n",
    "# Save the to file\n",
    "fn = 'wfsout.geojson'\n",
    "with open(fn, 'w', encoding=\"utf-8\") as fh:\n",
    "    fh.write(data.read())"
   ]
  },
  {
   "cell_type": "markdown",
   "metadata": {},
   "source": [
    "6) Read the json file using geopandas\n"
   ]
  },
  {
   "cell_type": "code",
   "execution_count": null,
   "metadata": {},
   "outputs": [],
   "source": [
    "wfs_gdf = gpd.read_file(fn)"
   ]
  },
  {
   "cell_type": "markdown",
   "metadata": {},
   "source": [
    "7) Choose the world map as backgroud map, show the world infomation"
   ]
  },
  {
   "cell_type": "code",
   "execution_count": null,
   "metadata": {},
   "outputs": [],
   "source": [
    "world = gpd.read_file(gpd.datasets.get_path('naturalearth_lowres'))\n",
    "world.head(9)"
   ]
  },
  {
   "cell_type": "markdown",
   "metadata": {},
   "source": [
    "Show the CRS inforamation for the world data set"
   ]
  },
  {
   "cell_type": "code",
   "execution_count": null,
   "metadata": {},
   "outputs": [],
   "source": [
    "print (world.crs)"
   ]
  },
  {
   "cell_type": "markdown",
   "metadata": {},
   "source": [
    "### Visualization of World Map "
   ]
  },
  {
   "cell_type": "code",
   "execution_count": null,
   "metadata": {},
   "outputs": [],
   "source": [
    "world.plot(figsize=(20, 20))"
   ]
  },
  {
   "cell_type": "markdown",
   "metadata": {},
   "source": [
    "### Visualization of World Map with Web Feature Service from OGC\n",
    "\n",
    " Show the wfs layer information in the world map"
   ]
  },
  {
   "cell_type": "code",
   "execution_count": null,
   "metadata": {
    "scrolled": false
   },
   "outputs": [],
   "source": [
    "\n",
    "wfs_gdf.plot(ax=world.plot(cmap='Set3', figsize=(20, 20)),\n",
    "             marker='o', color='purple', markersize=15);"
   ]
  },
  {
   "cell_type": "markdown",
   "metadata": {},
   "source": [
    "<a id='WebCoverageService'></a>\n",
    "## Web Coverage Service\n",
    "\n",
    "Web Coverage Service (WCS) is a standard that shares geospatial data as \"Coverages\" defined by OGC. The \"Coverage\" means that returns the data of any specified point in time-space domain and the form is easy to input the model.\n",
    "The WCS  supports GetCapabilities, DescribeCoverage and GetCoverage operations. The three operations are required operations. \n",
    "\n",
    "1) The GetCapabilities operation allows users to get service metadata from a WCS server and brief descriptions of the data collections;\n",
    "\n",
    "2) The DescribeCoverage operation allows users to request full descriptions of one or more coverages; \n",
    "\n",
    "3) The GetCoverage operation allows a client to request a coverage in common format.\n",
    "\n",
    "\n",
    "This demo shows how to access WCS service.\n",
    "\n",
    "1) import library, define WebCoverageService, define the url and version, print the wcs information\n"
   ]
  },
  {
   "cell_type": "code",
   "execution_count": null,
   "metadata": {},
   "outputs": [],
   "source": [
    "\n",
    "from owslib.wcs import WebCoverageService\n",
    "import xarray as xr\n",
    "import matplotlib.pyplot as plt\n",
    "%matplotlib inline\n",
    "\n",
    "wcs_url = 'http://geo.weather.gc.ca/geomet/?lang=en&service=WCS'\n",
    "\n",
    "# Connect to service\n",
    "wcs = WebCoverageService(wcs_url, version='2.0.1')\n",
    "\n",
    "#Get the title of the service\n",
    "print(wcs.identification.title)\n",
    "\n",
    "# List the available first ten contents \n",
    "sorted(list(wcs.contents.keys()))[:10]"
   ]
  },
  {
   "cell_type": "markdown",
   "metadata": {},
   "source": [
    "2) Then get the layer information, and show the title, the BoundingBox and the formats."
   ]
  },
  {
   "cell_type": "code",
   "execution_count": null,
   "metadata": {},
   "outputs": [],
   "source": [
    "layerid = 'OCEAN.GIOPS.3D_SALW_0000'\n",
    "wcs_layer = wcs[layerid]\n",
    "#Title\n",
    "print('Layer title :', wcs_layer.title)\n",
    "#bounding box\n",
    "print('BoundingBox :', wcs_layer.boundingBoxWGS84)\n",
    "# supported data formats - we'll use geotiff\n",
    "print('Formats :', wcs_layer.supportedFormats)\n",
    "#grid dimensions\n",
    "print('Grid upper limits :', wcs_layer.grid.highlimits)\n"
   ]
  },
  {
   "cell_type": "markdown",
   "metadata": {},
   "source": [
    "3) define the geographic projection, the bounding box, the resolution and format of the output, we can get the WCS result by using getCoverage."
   ]
  },
  {
   "cell_type": "code",
   "execution_count": null,
   "metadata": {},
   "outputs": [],
   "source": [
    "format_wcs = 'image/netcdf'\n",
    "bbox_wcs = wcs_layer.boundingboxes[0]['bbox'] # Get the entire domain\n",
    "crs_wcs = wcs_layer.boundingboxes[0]['nativeSrs'] # Coordinate system\n",
    "w = int(wcs_layer.grid.highlimits[0] )\n",
    "h = int(wcs_layer.grid.highlimits[1])\n",
    "\n",
    "print(\"Format:\", format_wcs)\n",
    "print(\"Bounding box:\", bbox_wcs)\n",
    "print(\"Projection:\", crs_wcs)\n",
    "print(\"Resolution: {} x {}\".format(w, h))\n",
    "\n",
    "output = wcs.getCoverage(identifier=[layerid, ], crs=crs_wcs, bbox=bbox_wcs, width=w, height=h, format=format_wcs)"
   ]
  },
  {
   "cell_type": "markdown",
   "metadata": {},
   "source": [
    "4) Save the WCS as .nc file"
   ]
  },
  {
   "cell_type": "code",
   "execution_count": null,
   "metadata": {},
   "outputs": [],
   "source": [
    "wcsfn = layerid + '.nc'\n",
    "with open(wcsfn, 'wb') as fh:\n",
    "    fh.write(output.read())"
   ]
  },
  {
   "cell_type": "markdown",
   "metadata": {},
   "source": [
    "5) Read the .nc file and show the data in the map"
   ]
  },
  {
   "cell_type": "code",
   "execution_count": null,
   "metadata": {},
   "outputs": [],
   "source": [
    "wcsdt = xr.open_dataset(wcsfn)\n",
    "\n",
    "print(wcsdt.data_vars)\n",
    "\n",
    "plt.figure(figsize=(20,10))\n",
    "\n",
    "wcsdt.Band1.plot()\n",
    "\n",
    "plt.show()"
   ]
  },
  {
   "cell_type": "markdown",
   "metadata": {},
   "source": [
    "<a id='sos'></a>\n",
    "### Sensor Observation Service from OGC\n",
    "\n",
    "The Sensor Observation Service (SOS) standard is applicable to use cases in which sensor data needs to be managed in an interoperable way. This standard defines a Web service interface which allows querying observations, sensor metadata, as well as representations of observed features. KVP binding and SOAP binding are specified in the SOS.\n",
    "\n"
   ]
  },
  {
   "cell_type": "markdown",
   "metadata": {},
   "source": [
    "1) import libraries, list the amount of sensors"
   ]
  },
  {
   "cell_type": "code",
   "execution_count": null,
   "metadata": {},
   "outputs": [],
   "source": [
    "#SOS Demo\n",
    "from owslib.sos import SensorObservationService\n",
    "service = SensorObservationService('http://sensorweb.demo.52north.org/52n-sos-webapp/sos/kvp',version='2.0.0')\n",
    "\n",
    "print (len(service.contents))\n"
   ]
  },
  {
   "cell_type": "code",
   "execution_count": null,
   "metadata": {},
   "outputs": [],
   "source": [
    "for content in sorted(service.contents):\n",
    "    print(content)"
   ]
  },
  {
   "cell_type": "code",
   "execution_count": null,
   "metadata": {},
   "outputs": [],
   "source": [
    "id = service.identification\n",
    "print (id.title)\n",
    "provider=service.provider\n",
    "print (provider.name)\n",
    "len(service.operations)"
   ]
  },
  {
   "cell_type": "code",
   "execution_count": null,
   "metadata": {},
   "outputs": [],
   "source": [
    "#get FOI\n",
    "get_foi=service.get_operation_by_name('GetFeatureOfInterest')\n",
    "try:\n",
    "    x = unicode('test')\n",
    "    for x in sorted(get_foi.parameters['featureOfInterest']['values']):\n",
    "        print(x.encode('utf8'))\n",
    "except:\n",
    "    for x in sorted(get_foi.parameters['featureOfInterest']['values']):\n",
    "        print(x)"
   ]
  },
  {
   "cell_type": "markdown",
   "metadata": {},
   "source": [
    "<a id='MapTileService'></a>\n",
    "## Web Map Tile Service\n",
    "\n",
    "\n",
    "A Web Map Tile Service (WMTS) is a standard protocol for serving pre-rendered or run-time computed georeferenced map tiles over the Internet. \n",
    "\n",
    "1) define the WebMapTileService object, define the url information"
   ]
  },
  {
   "cell_type": "code",
   "execution_count": null,
   "metadata": {},
   "outputs": [],
   "source": [
    "from owslib.wmts import WebMapTileService\n",
    "\n",
    "wmts_url = \"http://geodata.nationaalgeoregister.nl/tiles/service/wmts/ahn1?service=wmts&request=getcapabilities\"\n",
    "\n",
    "#wmts_url =\"https://osmlab.github.io/wmts-osm/WMTSCapabilities.xml\"\n",
    "wmts = WebMapTileService(wmts_url)\n"
   ]
  },
  {
   "cell_type": "markdown",
   "metadata": {},
   "source": [
    "2) show the WMTS information, inludeing the number of layes, version, title, the first layer name, \n"
   ]
  },
  {
   "cell_type": "code",
   "execution_count": null,
   "metadata": {},
   "outputs": [],
   "source": [
    "print (len(wmts.contents))\n",
    "print (wmts.identification.type)\n",
    "print (wmts.identification.version)\n",
    "print (wmts.identification.title)\n",
    "\n",
    "layer = sorted(list(wmts.contents))[0]\n",
    "\n",
    "print (layer)\n",
    "#print ((wmts.contents))\n",
    "\n",
    "#print (wmts.contents[layer].styles)\n",
    "print (wmts.contents[layer])\n",
    "#print (list(wmts.contents))"
   ]
  },
  {
   "cell_type": "markdown",
   "metadata": {},
   "source": [
    "3) Show operations in wmts, including getCapabilities, getTile and getfeatureinfo"
   ]
  },
  {
   "cell_type": "code",
   "execution_count": null,
   "metadata": {},
   "outputs": [],
   "source": [
    "for operation in wmts.operations:\n",
    "    print (operation.name)"
   ]
  },
  {
   "cell_type": "markdown",
   "metadata": {},
   "source": [
    "4) fetech a tile, define the layername, tilematrixset, tilematrix, row, colum, and format"
   ]
  },
  {
   "cell_type": "code",
   "execution_count": null,
   "metadata": {},
   "outputs": [],
   "source": [
    "# Fetch a tile (using some defaults): EPSG:28992\n",
    "tile = wmts.gettile(layer='opentopo',\n",
    "                        tilematrixset='EPSG:28992', tilematrix='0',\n",
    "                        row=0, column=0, format=\"image/jpeg\")"
   ]
  },
  {
   "cell_type": "markdown",
   "metadata": {},
   "source": [
    "5) save the tile as jpg"
   ]
  },
  {
   "cell_type": "code",
   "execution_count": null,
   "metadata": {},
   "outputs": [],
   "source": [
    "out = open('wmtsdemo.jpg', 'wb')\n",
    "out.write(tile.read())\n",
    "out.close()"
   ]
  },
  {
   "cell_type": "markdown",
   "metadata": {},
   "source": [
    "6) plot the tile as a map"
   ]
  },
  {
   "cell_type": "code",
   "execution_count": null,
   "metadata": {},
   "outputs": [],
   "source": [
    "image_file = \"wmtsdemo.jpg\"\n",
    "image = plt.imread(image_file)\n",
    "\n",
    "fig, ax = plt.subplots()\n",
    "ax.imshow(image)\n",
    "ax.axis('off')  # clear x-axis and y-axis"
   ]
  }
 ],
 "metadata": {
  "kernelspec": {
   "display_name": "Python 3",
   "language": "python",
   "name": "python3-0.8.0"
  },
  "language_info": {
   "codemirror_mode": {
    "name": "ipython",
    "version": 3
   },
   "file_extension": ".py",
   "mimetype": "text/x-python",
   "name": "python",
   "nbconvert_exporter": "python",
   "pygments_lexer": "ipython3",
   "version": "3.7.6"
  }
 },
 "nbformat": 4,
 "nbformat_minor": 2
}
