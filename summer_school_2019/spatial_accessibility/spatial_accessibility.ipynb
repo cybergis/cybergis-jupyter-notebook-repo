{
 "cells": [
  {
   "cell_type": "markdown",
   "metadata": {},
   "source": [
    "<center> <b>2019 CyberGIS AAG-UCGIS Summer School</b> </center>\n",
    "\n",
    "\n",
    "# The Context Makes the Difference: Reproducibility and Replicability in Measures of Spatial Accessibility \n",
    "<i>Group 6: Yuqin Jiang + Jinwoo Park + David Lafferty + Forrest Bowlick + Xuan Zhang + Alex Timmons</i>\n",
    "\n",
    "<i>Mentor: Coline Dony</i>"
   ]
  },
  {
   "cell_type": "markdown",
   "metadata": {},
   "source": [
    "Run the first cell block below to get started and find out who we are!"
   ]
  },
  {
   "cell_type": "code",
   "execution_count": null,
   "metadata": {
    "scrolled": true
   },
   "outputs": [],
   "source": [
    "from functions import widget\n",
    "import folium\n",
    "\n",
    "m = folium.Map(location=[50.044265, -85.316334], zoom_start=3, tiles = 'OpenStreetMap')\n",
    "fig = folium.Figure(width=950,height=300)\n",
    "\n",
    "# Yuqin\n",
    "icon_usc_link =\"./pictures_for_pre/icons/usc.png\"\n",
    "icon_usc = folium.features.CustomIcon(icon_usc_link, icon_size=(34, 36))\n",
    "folium.Marker([33.995723, -81.027936], popup='<b>Yuqin Jiang</b>'+'\\n'+'University of South Carolina', icon = icon_usc).add_to(m)\n",
    "\n",
    "# Jinwoo\n",
    "icon_tamu_link =\"./pictures_for_pre/icons/tamu.png\"\n",
    "icon_tamu = folium.features.CustomIcon(icon_tamu_link, icon_size=(70, 58))\n",
    "folium.Marker([30.618226, -96.337175], popup='<b>Jinwoo Park</b>'+'\\n'+'Texas A&M University', icon = icon_tamu).add_to(m)\n",
    "\n",
    "# UIUC are same location\n",
    "icon_uiuc_link =\"./pictures_for_pre/icons/uiuc.png\"\n",
    "icon_uiuc = folium.features.CustomIcon(icon_uiuc_link, icon_size=(20, 33))\n",
    "folium.Marker([40.101885, -87.8], popup='<b>Alex Timmons, David Lafferty</b>'+'\\n'+'University of Illinois at Urbana-Champaign', icon = icon_uiuc).add_to(m)\n",
    "\n",
    "# Xuan\n",
    "icon_UGA_link = \"./pictures_for_pre/icons/uga.png\"\n",
    "icon_UGA = folium.features.CustomIcon(icon_UGA_link, icon_size=(30, 42))\n",
    "folium.Marker([33.948361, -83.377268], popup='<b>Xuan Zhang</b>' +'\\n'+ 'University of Georgia', icon = icon_UGA).add_to(m)\n",
    "\n",
    "# Forrest\n",
    "icon_umass_link = \"./pictures_for_pre/icons/umass.jpg\"\n",
    "icon_umass = folium.features.CustomIcon(icon_umass_link, icon_size=(38, 38))\n",
    "folium.Marker([42.386514, -72.530052], popup='<b>Forrest Bowlick</b>' +'\\n'+ 'University of Massachusetts Amherst', icon = icon_umass).add_to(m)\n",
    "\n",
    "# Coline Dony\n",
    "icon_aag_link = \"./pictures_for_pre/icons/aag.png\"\n",
    "icon_aag = folium.features.CustomIcon(icon_aag_link, icon_size=(43, 43))\n",
    "folium.Marker([38.904676, -77.036536], popup='<b>Coline Dony</b>' +'\\n'+ 'American Association of Geographers', icon = icon_aag).add_to(m)\n",
    "\n",
    "# bounds (list of (latitude, longitude) points) – Bounding box specified as two points [southwest, northeast]\n",
    "m.fit_bounds([[30.5, -97], [42.4, -72.4]])\n",
    "\n",
    "fig.add_child(m)"
   ]
  },
  {
   "cell_type": "markdown",
   "metadata": {},
   "source": [
    "## Notebook Outline:\n",
    "- [Introduction](#intro)\n",
    "    - [Access](#access)\n",
    "    - [Food desert](#fd)\n",
    "    - [National food desert](#nfd)\n",
    "    - [Regional food desert](#rfd)\n",
    "    - [Different definitions](#def)\n",
    "- [Existing problems](#prob)\n",
    "- [Research questions](#rq)\n",
    "- [Implementation](#Implementation)\n",
    "    - [Data sources](#Data)\n",
    "    - [Functionality](#function)\n",
    "- [Advancements](#advancements)\n",
    "- [Future work](#future)\n",
    "    - [For food accessibility](#future_fa)\n",
    "    - [For accessibility in general](#future_a)\n",
    "- [Outcomes](#Outcomes)\n",
    "    - [Reproducibility](#repro)\n",
    "    - [Replicability](#repl)\n",
    "    - [CyberGIS](#cyber)\n",
    "    - [Collaboration](#collab)\n",
    "    - [Challenges](#challenge)\n",
    "- [Acknowledgements](#ack)\n"
   ]
  },
  {
   "cell_type": "markdown",
   "metadata": {},
   "source": [
    "<a id='intro'></a>\n",
    "## Introduction\n",
    "\n",
    "<a id='access'></a>\n",
    "### Access:  \n",
    "> The quality of having interaction with, or passage to, a particular good, service, facility, or other phenomenon that exists in the spatiotemporal world.\n",
    "> <i>(Talen, 2001)</i>\n",
    "\n",
    "![Access](./pictures_for_pre/access.png)\n",
    "--<i>Source: https://www.healthanalytics.gatech.edu/focus-area/access</i>"
   ]
  },
  {
   "cell_type": "markdown",
   "metadata": {},
   "source": [
    "<a id='fd'></a>\n",
    "### Food desert"
   ]
  },
  {
   "cell_type": "markdown",
   "metadata": {},
   "source": [
    "![Food Desert](./pictures_for_pre/fooddesertbanner.png)\n",
    "\n",
    "--<i>Source: ottawamagazine.com </i>"
   ]
  },
  {
   "cell_type": "markdown",
   "metadata": {},
   "source": [
    "> <font size=\"+2\"> Food desert:</font>\n",
    ">\n",
    "> <font size=\"+1\"> Regions lacking access to healthy foods as well as a range of other nutritious options. </font> \n",
    "> <i>(Beaumont et al., 1995; USDA, 2013, Widener and Shannon 2014)</i>"
   ]
  },
  {
   "cell_type": "markdown",
   "metadata": {},
   "source": [
    "<font size=\"+3\" color=\"red\">About 23.5 million Americans live in food deserts.</font>\n",
    "\n",
    "--<i>Source: United States Department of Agriculture Economic Research Service. 2015</i>"
   ]
  },
  {
   "cell_type": "markdown",
   "metadata": {},
   "source": [
    "<a id='nfd'></a>\n",
    "### National food desert"
   ]
  },
  {
   "cell_type": "markdown",
   "metadata": {},
   "source": [
    "![National Food Desert](./pictures_for_pre/usda_food-deserts.jpg) \n",
    "--<i>Source: http://americannutritionassociation.org/newsletter/usda-defines-food-deserts</i>"
   ]
  },
  {
   "cell_type": "markdown",
   "metadata": {},
   "source": [
    "<a id='rfd'></a>\n",
    "### Regional food desert map for Champaign-Urbana\n",
    "- <strong> 2006 Food Desert Map (left) defines \"Low Access\" as distinct between urban and rural areas </strong>\n",
    "    - This data, while more location specific, is out of date\n",
    "- <strong> 2016 Low Access Map (right) only considers one static definition of \"Low Access\" </strong>\n",
    "    - This data, while more updated, is too generalized to be helpful at the individual user level"
   ]
  },
  {
   "cell_type": "markdown",
   "metadata": {},
   "source": [
    "![test](https://lh3.googleusercontent.com/ZjLYWzFUbcckoEDIirnSGq5m8h-GeYjwRzLXVTzmPUS2Yr4qkQhwTwSxhuHJUAlF0oWlallJlu1TxyhIJkRo2C-FNJRt0dq-R0m6jQODrCH1GTxfBlvLmUCfmvzCv_hmmFMrMJvIjjLCZH8HH8W45aQvrvM92fXMj4SfV3uapRenHdAIVHrlcoSziY14HeM6_1xdM6BvCh-7F5pbDiMa-XT44DSDMv5fj2emUFU8k7h-xi-016W4R60k3xx19Eo3rKmTmwZXSlPFfDa4947-RR4zO70zI27Xp9PJXwxZSMrAmGjom5Cas1Bz_zMYs7Y8GnhEQxX7v3_8VwTGD6CHud5QpB2nf0wLiR74q2fp6jnRryIGZ_iaHLqD3rXYlJfhjIZIYylCEWKV52RjHwa0BbqZcMZEpjXPmGcBuguJm_tqNdw62kH51zHphBEXe2dHBrAHucqbW0R07YSsEbrCtxztbiGPr2hhyWb3OxWh2own17OWZGDt1x62RNX8XqrQDRpiuAdo2dSrb6EqZh7l4ihAcb1DmNKUJQRuxw2xx1CwIUT-eDDC__pZjugD5mSoSOBdJJwFmNwgayghbXQ-gK4L6oXVx2O68KgGs6ORZmxFsbD93_8cu6YsHVTXk-M6xgiS8mThneuPje_a4Ryi9Zdej8m7ppHmcR6eWO2eIvMw9-kW5o0X0GlQtOyXc8A0MvTDl7asa_ONYRPkzJJ8n27jyA=w1922-h678-no?.jpg)\n",
    "--<i>Source: Treasury Department, Health and Human Services, and the Agriculture Department (USDA), visualized by PolicyMaps</i>"
   ]
  },
  {
   "cell_type": "markdown",
   "metadata": {},
   "source": [
    "<a id='prob'></a>\n",
    "### Existing problems\n",
    "- <strong> Readily available maps are very general, or cover large aggregations of data </strong>\n",
    "    - For a fixed travel extent (i.e. 5 mile radius)\n",
    "    - Most are for a broad scale (census tract, or county level) \n",
    "- <strong> Existing food desert visualization is outdated and static </strong>\n",
    "    - Not reflecting the current situation \n",
    "    - Not interactive \n",
    "- <strong> General presentations overlook individual mobility preferences </strong>\n",
    "    - For different travel modes\n",
    "    - For various tolerable travel times\n",
    "    - For other personal needs and considerations: price level, rating, and more"
   ]
  },
  {
   "cell_type": "markdown",
   "metadata": {},
   "source": [
    "<a id='rq'></a>\n",
    "### Research questions\n",
    "- What is the service area of the grocery stores in general?\n",
    "- What impact do individual user preferences have on accessible food service areas?\n"
   ]
  },
  {
   "cell_type": "markdown",
   "metadata": {},
   "source": [
    "<a id='Implementatio'></a>\n",
    "## Implementation"
   ]
  },
  {
   "cell_type": "markdown",
   "metadata": {},
   "source": [
    "<a id='Data'></a>\n",
    "### Data and anaysis sources\n",
    "\n",
    "To enable our analysis, we use Open Street Map data, the Google Maps API, and Open Street Map Network X libraries."
   ]
  },
  {
   "cell_type": "markdown",
   "metadata": {},
   "source": [
    "![test](https://lh3.googleusercontent.com/osP5piG1rf_i0i7YDda--VrAIGiI0LF-KrQ44mAlKybYF7gd5WEFhy8ve772CL4vPOa1BO6gSBgIPl7SNNp--SsTdrZqFbJhF3foqJNa8zl4_NCd6mrd8fk5vtZYWceD3ejjbjrWqEjErnkYQiLs9SqQw0teyaY_q6AVMre7iLIQxBqFiotESheDxFelnNprTXPvfFvJHxVF3mU-7iLcBOp5zKWXHt-lrDhbJC_K3gvoNisD8P4Z0TbItwienbLIljR5m49MMne_OUg10cXZD_YexNPrDqo5tIYbUsWG3w8HVIcbWczW7QsX6-zZKOovkPA1BkQoBScqA7X_4UHqZVAptjDxPgkQPrgG2OGXuIfx4ja3X0aD2jHa0IfDC7Hi68ZmRT1Piit0sOFhCgqxSID6kd8TfOPRe6mqVRWU3I-WXuuobCSXKQ1fC8J4mrZy8o1f82S217uZqVhN8uzKjyt79B9TkwxYBR7i7lMwK1S3xH8NsZD5NInMzn12pI5x2Em80KueYQk0iMIcJJQPxJT1JyeGHv7BM4wYbgNwbIIyxN-U0w8dinJmr7PUl8t2IFaPAgGYB8p6y0-9asEkf8vnelcBn9YSiCLOcTs2veAcVGE-zoiYAN16FpI6G-9J8tKUU0Znn864HtZiDSx1NYf4Z3fa4EKwQ2rpMFqS2MFo5S1176lvpdnCY1TBa8QLGEndJT-LUQkOKiFE-KikD4bOVg=w1076-h450-no?.jpg)"
   ]
  },
  {
   "cell_type": "markdown",
   "metadata": {},
   "source": [
    "<a id='function'></a>\n",
    "### Functionality"
   ]
  },
  {
   "cell_type": "code",
   "execution_count": null,
   "metadata": {},
   "outputs": [],
   "source": [
    "widget()"
   ]
  },
  {
   "cell_type": "markdown",
   "metadata": {},
   "source": [
    "<a id='advancements'></a>\n",
    "## Advancements\n",
    "\n",
    "- By constructing a shared base of code, analysis, and visualization, general structure of models can be shared and replicated at will.\n",
    "- This format for replication allows researchers to share implementations, standardize processing, and collaborate more easily\n",
    "- By opening and parameterizing the model for individual input, not only can the same model be replicated in different places, different parameters can be tuned for individual access.\n",
    "- Using updated information in real time from established online sources further allows relevant modeling.\n",
    "- This customizability then allows individuals (whether experts or not) to construct a model for their needs."
   ]
  },
  {
   "cell_type": "markdown",
   "metadata": {},
   "source": [
    "<a id='future'></a>\n",
    "## Future Steps \n",
    "\n",
    "<a id='future_fa'></a>\n",
    "### For Food Accessibility\n",
    "- <strong> Include other fresh food opportunities </strong>\n",
    "    - Farmers market and more\n",
    "- <strong> Incorporate user data to refine the general food accessibility results</strong>\n",
    "    - Collecting user input to understand the most favorable transportation mode and time\n",
    "        - Age, gender identity, socioeconomic classes, cultural background, car ownership, etc\n",
    "- <strong> Identify the underserved population</strong>\n",
    "    - To draw attention to the issue for local organizations and government\n",
    "- <strong> Intergrate individual multimodal preferences into one visual </strong>\n",
    "- <strong> Validation with other datasets or by survey/interviews</strong>\n",
    "    \n",
    "<a id='future_a'></a>\n",
    "### For Accessibility Measures in General\n",
    "- <strong> Include more factors that inform the accessibility </strong>\n",
    "    - Other amenities\n",
    "        - Green space, restaurants, hospitals, etc\n",
    "    - Other transportation methods\n",
    "        - Public transportation, ride sharing, etc\n",
    "    - Other personal user requirements\n",
    "        - SNAP/food stamp eligible, wheelchair friendly, store type, etc \n",
    "- <strong> Add more time dimension into the measure </strong>\n",
    "    - User-determined time search"
   ]
  },
  {
   "cell_type": "markdown",
   "metadata": {},
   "source": [
    "<a id='Outcomes'></a>\n",
    "## Summer School Outcomes"
   ]
  },
  {
   "cell_type": "markdown",
   "metadata": {},
   "source": [
    "<a id='repro'></a>\n",
    "### Reproducible Analysis\n",
    "\n",
    "This model forms an outline for a reproducible basis of analyzing a metric. Through this exploration of travel time, interested parties can recreate the same analysis, using the same processor, interacitng with the same data, and acheiving the same result"
   ]
  },
  {
   "cell_type": "markdown",
   "metadata": {},
   "source": [
    "<a id='repl'></a>\n",
    "### Replicable Approach\n",
    "\n",
    "By parameterizing model inputs, we allow individuals to adjust conditions based on their knowledge and experience. This provides replicability of context while preserving the underlying functionality. No need to write new code from scratch when all you need to change is travel time or mode! "
   ]
  },
  {
   "cell_type": "markdown",
   "metadata": {},
   "source": [
    "<a id='cyber'></a>\n",
    "### How does our solution leverage CyberGIS?\n",
    "\n",
    "Thanks to Jupyter notebooks and CyberGIS infrastructure, we've demonstrated collaborative problem sharing, exploration, and investigation. Using diverse libraries of spatial analysis, our approach exemplifies the cross-discipline nature of shared scientific discovery using CyberGIS  "
   ]
  },
  {
   "cell_type": "markdown",
   "metadata": {},
   "source": [
    "<a id='collab'></a>\n",
    "### Collaborative nature\n",
    "\n",
    "Our collaborations have truly linked our diverse skillsets and capacities. In starting from a general problem outline, without a base of code to build on, we created a wonderfully functional example of collaborative, CyberGIS-enabed research. Given our mix of academic and domain experience, we've ensured shared communication, linked goals, and accelerated each other towards solving our problem. With three members with stronger coding experience (Yuqin, David, Jinwoo), and three members with stronger theoretical background (Forrest, Xuan, and Alex), we've built a web of interaction to advance our analysis. For example, group discussions on the nature of R&R have helped inform the structure of the code and interface. By creating a space for discussion and collaboration, we've been able to construct a unified final product."
   ]
  },
  {
   "cell_type": "markdown",
   "metadata": {},
   "source": [
    "<a id='challenge'></a>\n",
    "### Challenges\n",
    "\n",
    "Our primary challenge, thanks to Jupyter notebooks, was merging and sharing content. Creating the final presentation notebook was difficult since there was no version control, and no way to edit collaboratively on the same document."
   ]
  },
  {
   "cell_type": "markdown",
   "metadata": {},
   "source": [
    "<a id='ack'></a>\n",
    "# Acknowledgements\n",
    "Thanks to Jupyter Notebooks!\n",
    "\n",
    "Thanks to all of the organizing entities: AAG, UCGIS, the CyberGIS Center, UIUC Geography, and everyone involved with them! \n",
    "\n",
    "Special thanks to all of the mentors, presentors, and organizers for keeping us intellectually engaged and fueled throught this week."
   ]
  }
 ],
 "metadata": {
  "kernelspec": {
   "display_name": "Python 3",
   "language": "python",
   "name": "python3-0.8.0"
  },
  "language_info": {
   "codemirror_mode": {
    "name": "ipython",
    "version": 3
   },
   "file_extension": ".py",
   "mimetype": "text/x-python",
   "name": "python",
   "nbconvert_exporter": "python",
   "pygments_lexer": "ipython3",
   "version": "3.7.3"
  }
 },
 "nbformat": 4,
 "nbformat_minor": 2
}
